{
 "cells": [
  {
   "cell_type": "code",
   "execution_count": 399,
   "id": "05eba5a2-59ff-4eac-90fe-75fc61d35b54",
   "metadata": {},
   "outputs": [],
   "source": [
    "import pandas as pd\n",
    "import matplotlib.pyplot as plt\n",
    "import numpy as np\n",
    "import seaborn as sns"
   ]
  },
  {
   "cell_type": "markdown",
   "id": "eac3ed94-dc30-4121-94ab-fe394c139127",
   "metadata": {
    "jp-MarkdownHeadingCollapsed": true
   },
   "source": [
    "# Data Preparation"
   ]
  },
  {
   "cell_type": "markdown",
   "id": "7705c17f-7321-424d-979e-6153b7425459",
   "metadata": {
    "jp-MarkdownHeadingCollapsed": true
   },
   "source": [
    "## Import Datasets"
   ]
  },
  {
   "cell_type": "markdown",
   "id": "9317cff8-7f3e-407c-9247-6a42a7986e58",
   "metadata": {
    "jp-MarkdownHeadingCollapsed": true
   },
   "source": [
    "### sales"
   ]
  },
  {
   "cell_type": "code",
   "execution_count": 400,
   "id": "a45270b8-98c6-444c-9c11-05f73e01e7d7",
   "metadata": {},
   "outputs": [],
   "source": [
    "sales = pd.read_excel(\"01. Sales.xlsx\")"
   ]
  },
  {
   "cell_type": "code",
   "execution_count": 401,
   "id": "c2bd6c9a-f26e-48f5-b109-23c3c8e7814e",
   "metadata": {},
   "outputs": [
    {
     "name": "stdout",
     "output_type": "stream",
     "text": [
      "<class 'pandas.core.frame.DataFrame'>\n",
      "RangeIndex: 887 entries, 0 to 886\n",
      "Data columns (total 9 columns):\n",
      " #   Column     Non-Null Count  Dtype         \n",
      "---  ------     --------------  -----         \n",
      " 0   Date       887 non-null    datetime64[ns]\n",
      " 1   InvoiceNo  887 non-null    object        \n",
      " 2   Product    887 non-null    object        \n",
      " 3   Category   887 non-null    object        \n",
      " 4   Quantity   887 non-null    int64         \n",
      " 5   UnitPrice  887 non-null    int64         \n",
      " 6   Customer   887 non-null    object        \n",
      " 7   Region     887 non-null    object        \n",
      " 8   Total      887 non-null    int64         \n",
      "dtypes: datetime64[ns](1), int64(3), object(5)\n",
      "memory usage: 62.5+ KB\n"
     ]
    }
   ],
   "source": [
    "sales.info()"
   ]
  },
  {
   "cell_type": "code",
   "execution_count": 402,
   "id": "0011ed25-30d2-4270-95d1-33f85ddb2c3b",
   "metadata": {},
   "outputs": [
    {
     "data": {
      "text/html": [
       "<div>\n",
       "<style scoped>\n",
       "    .dataframe tbody tr th:only-of-type {\n",
       "        vertical-align: middle;\n",
       "    }\n",
       "\n",
       "    .dataframe tbody tr th {\n",
       "        vertical-align: top;\n",
       "    }\n",
       "\n",
       "    .dataframe thead th {\n",
       "        text-align: right;\n",
       "    }\n",
       "</style>\n",
       "<table border=\"1\" class=\"dataframe\">\n",
       "  <thead>\n",
       "    <tr style=\"text-align: right;\">\n",
       "      <th></th>\n",
       "      <th>Date</th>\n",
       "      <th>InvoiceNo</th>\n",
       "      <th>Product</th>\n",
       "      <th>Category</th>\n",
       "      <th>Quantity</th>\n",
       "      <th>UnitPrice</th>\n",
       "      <th>Customer</th>\n",
       "      <th>Region</th>\n",
       "      <th>Total</th>\n",
       "    </tr>\n",
       "  </thead>\n",
       "  <tbody>\n",
       "    <tr>\n",
       "      <th>33</th>\n",
       "      <td>2025-07-04</td>\n",
       "      <td>INV1033</td>\n",
       "      <td>Titanium Ring</td>\n",
       "      <td>Jewelry</td>\n",
       "      <td>3</td>\n",
       "      <td>250000</td>\n",
       "      <td>Customer D</td>\n",
       "      <td>Bali</td>\n",
       "      <td>750000</td>\n",
       "    </tr>\n",
       "    <tr>\n",
       "      <th>657</th>\n",
       "      <td>2025-09-09</td>\n",
       "      <td>INV1657</td>\n",
       "      <td>Silver Necklace</td>\n",
       "      <td>Jewelry</td>\n",
       "      <td>3</td>\n",
       "      <td>650000</td>\n",
       "      <td>Customer E</td>\n",
       "      <td>Medan</td>\n",
       "      <td>1950000</td>\n",
       "    </tr>\n",
       "    <tr>\n",
       "      <th>69</th>\n",
       "      <td>2025-07-07</td>\n",
       "      <td>INV1069</td>\n",
       "      <td>Silver Necklace</td>\n",
       "      <td>Jewelry</td>\n",
       "      <td>3</td>\n",
       "      <td>450000</td>\n",
       "      <td>Customer B</td>\n",
       "      <td>Bandung</td>\n",
       "      <td>1350000</td>\n",
       "    </tr>\n",
       "    <tr>\n",
       "      <th>334</th>\n",
       "      <td>2025-08-05</td>\n",
       "      <td>INV1334</td>\n",
       "      <td>Pearl Earrings</td>\n",
       "      <td>Jewelry</td>\n",
       "      <td>3</td>\n",
       "      <td>450000</td>\n",
       "      <td>Customer E</td>\n",
       "      <td>Medan</td>\n",
       "      <td>1350000</td>\n",
       "    </tr>\n",
       "    <tr>\n",
       "      <th>353</th>\n",
       "      <td>2025-08-07</td>\n",
       "      <td>INV1353</td>\n",
       "      <td>Pearl Earrings</td>\n",
       "      <td>Jewelry</td>\n",
       "      <td>1</td>\n",
       "      <td>250000</td>\n",
       "      <td>Customer E</td>\n",
       "      <td>Surabaya</td>\n",
       "      <td>250000</td>\n",
       "    </tr>\n",
       "  </tbody>\n",
       "</table>\n",
       "</div>"
      ],
      "text/plain": [
       "          Date InvoiceNo          Product Category  Quantity  UnitPrice  \\\n",
       "33  2025-07-04   INV1033    Titanium Ring  Jewelry         3     250000   \n",
       "657 2025-09-09   INV1657  Silver Necklace  Jewelry         3     650000   \n",
       "69  2025-07-07   INV1069  Silver Necklace  Jewelry         3     450000   \n",
       "334 2025-08-05   INV1334   Pearl Earrings  Jewelry         3     450000   \n",
       "353 2025-08-07   INV1353   Pearl Earrings  Jewelry         1     250000   \n",
       "\n",
       "       Customer    Region    Total  \n",
       "33   Customer D      Bali   750000  \n",
       "657  Customer E     Medan  1950000  \n",
       "69   Customer B   Bandung  1350000  \n",
       "334  Customer E     Medan  1350000  \n",
       "353  Customer E  Surabaya   250000  "
      ]
     },
     "execution_count": 402,
     "metadata": {},
     "output_type": "execute_result"
    }
   ],
   "source": [
    "sales.sample(5)"
   ]
  },
  {
   "cell_type": "code",
   "execution_count": 403,
   "id": "a9cce347-61f9-4f17-9197-9c39359def0a",
   "metadata": {},
   "outputs": [
    {
     "data": {
      "text/plain": [
       "Product\n",
       "Titanium Ring      191\n",
       "Pearl Earrings     187\n",
       "Gold Bracelet      175\n",
       "Charm Pendant      172\n",
       "Silver Necklace    162\n",
       "Name: count, dtype: int64"
      ]
     },
     "execution_count": 403,
     "metadata": {},
     "output_type": "execute_result"
    }
   ],
   "source": [
    "sales['Product'].value_counts()"
   ]
  },
  {
   "cell_type": "code",
   "execution_count": 404,
   "id": "e4aa90aa-17b1-40ee-aabb-9f5f049c6a4e",
   "metadata": {},
   "outputs": [
    {
     "data": {
      "text/plain": [
       "Category\n",
       "Jewelry    887\n",
       "Name: count, dtype: int64"
      ]
     },
     "execution_count": 404,
     "metadata": {},
     "output_type": "execute_result"
    }
   ],
   "source": [
    "sales['Category'].value_counts()"
   ]
  },
  {
   "cell_type": "code",
   "execution_count": 405,
   "id": "9e9360ca-1bb1-4757-a739-2dfdcfbf839d",
   "metadata": {},
   "outputs": [
    {
     "data": {
      "text/plain": [
       "Quantity\n",
       "3    235\n",
       "4    220\n",
       "1    217\n",
       "2    215\n",
       "Name: count, dtype: int64"
      ]
     },
     "execution_count": 405,
     "metadata": {},
     "output_type": "execute_result"
    }
   ],
   "source": [
    "sales['Quantity'].value_counts()"
   ]
  },
  {
   "cell_type": "code",
   "execution_count": 406,
   "id": "0023e255-0018-4e27-a84f-329ceab2b598",
   "metadata": {},
   "outputs": [
    {
     "data": {
      "text/plain": [
       "UnitPrice\n",
       "250000    183\n",
       "650000    182\n",
       "350000    181\n",
       "550000    180\n",
       "450000    161\n",
       "Name: count, dtype: int64"
      ]
     },
     "execution_count": 406,
     "metadata": {},
     "output_type": "execute_result"
    }
   ],
   "source": [
    "sales['UnitPrice'].value_counts()"
   ]
  },
  {
   "cell_type": "code",
   "execution_count": 407,
   "id": "1a87660f-8e9d-4618-95b5-146225581c12",
   "metadata": {},
   "outputs": [
    {
     "data": {
      "text/plain": [
       "Customer\n",
       "Customer E    189\n",
       "Customer A    187\n",
       "Customer C    175\n",
       "Customer B    172\n",
       "Customer D    164\n",
       "Name: count, dtype: int64"
      ]
     },
     "execution_count": 407,
     "metadata": {},
     "output_type": "execute_result"
    }
   ],
   "source": [
    "sales['Customer'].value_counts()"
   ]
  },
  {
   "cell_type": "code",
   "execution_count": 408,
   "id": "578676cd-7ca8-4738-9c57-d260d4b2209e",
   "metadata": {},
   "outputs": [
    {
     "data": {
      "text/plain": [
       "Region\n",
       "Jakarta     200\n",
       "Medan       181\n",
       "Bandung     174\n",
       "Bali        168\n",
       "Surabaya    164\n",
       "Name: count, dtype: int64"
      ]
     },
     "execution_count": 408,
     "metadata": {},
     "output_type": "execute_result"
    }
   ],
   "source": [
    "sales['Region'].value_counts()"
   ]
  },
  {
   "cell_type": "code",
   "execution_count": 409,
   "id": "5763f797-fe71-418d-8803-dc51bda4cc05",
   "metadata": {},
   "outputs": [
    {
     "data": {
      "text/plain": [
       "Total\n",
       "1650000    54\n",
       "750000     54\n",
       "650000     51\n",
       "1400000    51\n",
       "1300000    49\n",
       "900000     49\n",
       "550000     48\n",
       "1050000    45\n",
       "350000     45\n",
       "1000000    44\n",
       "2200000    43\n",
       "250000     43\n",
       "500000     42\n",
       "2600000    42\n",
       "1350000    42\n",
       "1950000    40\n",
       "700000     40\n",
       "1800000    40\n",
       "1100000    35\n",
       "450000     30\n",
       "Name: count, dtype: int64"
      ]
     },
     "execution_count": 409,
     "metadata": {},
     "output_type": "execute_result"
    }
   ],
   "source": [
    "sales['Total'].value_counts()"
   ]
  },
  {
   "cell_type": "markdown",
   "id": "3f0943b7-bc97-4563-a29c-63673194851a",
   "metadata": {
    "jp-MarkdownHeadingCollapsed": true
   },
   "source": [
    "### expenses"
   ]
  },
  {
   "cell_type": "code",
   "execution_count": 410,
   "id": "b3e1fc1e-3bb1-4925-9a6b-25030133daa7",
   "metadata": {},
   "outputs": [],
   "source": [
    "expenses = pd.read_excel(\"02. Expenses.xlsx\")"
   ]
  },
  {
   "cell_type": "code",
   "execution_count": 411,
   "id": "d8586bc1-817e-4e7b-9d49-b6061e85fb05",
   "metadata": {},
   "outputs": [
    {
     "name": "stdout",
     "output_type": "stream",
     "text": [
      "<class 'pandas.core.frame.DataFrame'>\n",
      "RangeIndex: 184 entries, 0 to 183\n",
      "Data columns (total 4 columns):\n",
      " #   Column       Non-Null Count  Dtype         \n",
      "---  ------       --------------  -----         \n",
      " 0   Date         184 non-null    datetime64[ns]\n",
      " 1   ExpenseType  184 non-null    object        \n",
      " 2   Description  184 non-null    object        \n",
      " 3   Amount       184 non-null    int64         \n",
      "dtypes: datetime64[ns](1), int64(1), object(2)\n",
      "memory usage: 5.9+ KB\n"
     ]
    }
   ],
   "source": [
    "expenses.info()"
   ]
  },
  {
   "cell_type": "code",
   "execution_count": 412,
   "id": "9bd31a86-bf2f-4151-9731-adee03c59678",
   "metadata": {},
   "outputs": [
    {
     "data": {
      "text/html": [
       "<div>\n",
       "<style scoped>\n",
       "    .dataframe tbody tr th:only-of-type {\n",
       "        vertical-align: middle;\n",
       "    }\n",
       "\n",
       "    .dataframe tbody tr th {\n",
       "        vertical-align: top;\n",
       "    }\n",
       "\n",
       "    .dataframe thead th {\n",
       "        text-align: right;\n",
       "    }\n",
       "</style>\n",
       "<table border=\"1\" class=\"dataframe\">\n",
       "  <thead>\n",
       "    <tr style=\"text-align: right;\">\n",
       "      <th></th>\n",
       "      <th>Date</th>\n",
       "      <th>ExpenseType</th>\n",
       "      <th>Description</th>\n",
       "      <th>Amount</th>\n",
       "    </tr>\n",
       "  </thead>\n",
       "  <tbody>\n",
       "    <tr>\n",
       "      <th>41</th>\n",
       "      <td>2025-07-23</td>\n",
       "      <td>Marketing</td>\n",
       "      <td>Marketing expense for operations</td>\n",
       "      <td>4132403</td>\n",
       "    </tr>\n",
       "    <tr>\n",
       "      <th>170</th>\n",
       "      <td>2025-09-23</td>\n",
       "      <td>Supplies</td>\n",
       "      <td>Supplies expense for operations</td>\n",
       "      <td>2779023</td>\n",
       "    </tr>\n",
       "    <tr>\n",
       "      <th>164</th>\n",
       "      <td>2025-09-19</td>\n",
       "      <td>Supplies</td>\n",
       "      <td>Supplies expense for operations</td>\n",
       "      <td>4932027</td>\n",
       "    </tr>\n",
       "    <tr>\n",
       "      <th>63</th>\n",
       "      <td>2025-08-02</td>\n",
       "      <td>Supplies</td>\n",
       "      <td>Supplies expense for operations</td>\n",
       "      <td>3288107</td>\n",
       "    </tr>\n",
       "    <tr>\n",
       "      <th>178</th>\n",
       "      <td>2025-09-27</td>\n",
       "      <td>Salaries</td>\n",
       "      <td>Salaries expense for operations</td>\n",
       "      <td>1637613</td>\n",
       "    </tr>\n",
       "  </tbody>\n",
       "</table>\n",
       "</div>"
      ],
      "text/plain": [
       "          Date ExpenseType                       Description   Amount\n",
       "41  2025-07-23   Marketing  Marketing expense for operations  4132403\n",
       "170 2025-09-23    Supplies   Supplies expense for operations  2779023\n",
       "164 2025-09-19    Supplies   Supplies expense for operations  4932027\n",
       "63  2025-08-02    Supplies   Supplies expense for operations  3288107\n",
       "178 2025-09-27    Salaries   Salaries expense for operations  1637613"
      ]
     },
     "execution_count": 412,
     "metadata": {},
     "output_type": "execute_result"
    }
   ],
   "source": [
    "expenses.sample(5)"
   ]
  },
  {
   "cell_type": "code",
   "execution_count": 413,
   "id": "9e038e13-00fe-4e6e-8f0b-c9dca5379fb5",
   "metadata": {},
   "outputs": [
    {
     "data": {
      "text/plain": [
       "ExpenseType\n",
       "Salaries     41\n",
       "Supplies     36\n",
       "Marketing    30\n",
       "Delivery     29\n",
       "Rent         24\n",
       "Utilities    24\n",
       "Name: count, dtype: int64"
      ]
     },
     "execution_count": 413,
     "metadata": {},
     "output_type": "execute_result"
    }
   ],
   "source": [
    "expenses['ExpenseType'].value_counts()"
   ]
  },
  {
   "cell_type": "code",
   "execution_count": 414,
   "id": "7984c00f-9856-42e8-a02e-6cec13ca2626",
   "metadata": {},
   "outputs": [
    {
     "data": {
      "text/plain": [
       "Description\n",
       "Salaries expense for operations     41\n",
       "Supplies expense for operations     36\n",
       "Marketing expense for operations    30\n",
       "Delivery expense for operations     29\n",
       "Rent expense for operations         24\n",
       "Utilities expense for operations    24\n",
       "Name: count, dtype: int64"
      ]
     },
     "execution_count": 414,
     "metadata": {},
     "output_type": "execute_result"
    }
   ],
   "source": [
    "expenses['Description'].value_counts()"
   ]
  },
  {
   "cell_type": "code",
   "execution_count": 415,
   "id": "35c498c3-949c-458e-a71e-f5a1c8d2e34c",
   "metadata": {},
   "outputs": [
    {
     "data": {
      "text/plain": [
       "count        184.000\n",
       "mean     2630461.163\n",
       "std      1291020.133\n",
       "min       500917.000\n",
       "25%      1443966.000\n",
       "50%      2503227.500\n",
       "75%      3663721.000\n",
       "max      4980967.000\n",
       "Name: Amount, dtype: float64"
      ]
     },
     "execution_count": 415,
     "metadata": {},
     "output_type": "execute_result"
    }
   ],
   "source": [
    "expenses['Amount'].describe().round(3)"
   ]
  },
  {
   "cell_type": "markdown",
   "id": "36735393-8ec7-4dbd-887f-b2f139a92390",
   "metadata": {
    "jp-MarkdownHeadingCollapsed": true
   },
   "source": [
    "### coa"
   ]
  },
  {
   "cell_type": "code",
   "execution_count": 416,
   "id": "a0c29059-353f-4926-b6d4-19b9a78c320d",
   "metadata": {},
   "outputs": [],
   "source": [
    "coa = pd.read_excel(\"03. Mapping_COA.xlsx\")"
   ]
  },
  {
   "cell_type": "code",
   "execution_count": 417,
   "id": "6330d3ae-1662-4c2a-924e-5d7e8eaa8564",
   "metadata": {},
   "outputs": [
    {
     "name": "stdout",
     "output_type": "stream",
     "text": [
      "<class 'pandas.core.frame.DataFrame'>\n",
      "RangeIndex: 8 entries, 0 to 7\n",
      "Data columns (total 3 columns):\n",
      " #   Column       Non-Null Count  Dtype \n",
      "---  ------       --------------  ----- \n",
      " 0   Category     8 non-null      object\n",
      " 1   Account      8 non-null      int64 \n",
      " 2   AccountType  8 non-null      object\n",
      "dtypes: int64(1), object(2)\n",
      "memory usage: 320.0+ bytes\n"
     ]
    }
   ],
   "source": [
    "coa.info()"
   ]
  },
  {
   "cell_type": "code",
   "execution_count": 418,
   "id": "fb4a2b28-560e-4538-a84f-58eba69e1b06",
   "metadata": {},
   "outputs": [
    {
     "data": {
      "text/html": [
       "<div>\n",
       "<style scoped>\n",
       "    .dataframe tbody tr th:only-of-type {\n",
       "        vertical-align: middle;\n",
       "    }\n",
       "\n",
       "    .dataframe tbody tr th {\n",
       "        vertical-align: top;\n",
       "    }\n",
       "\n",
       "    .dataframe thead th {\n",
       "        text-align: right;\n",
       "    }\n",
       "</style>\n",
       "<table border=\"1\" class=\"dataframe\">\n",
       "  <thead>\n",
       "    <tr style=\"text-align: right;\">\n",
       "      <th></th>\n",
       "      <th>Category</th>\n",
       "      <th>Account</th>\n",
       "      <th>AccountType</th>\n",
       "    </tr>\n",
       "  </thead>\n",
       "  <tbody>\n",
       "    <tr>\n",
       "      <th>0</th>\n",
       "      <td>Jewelry Sales</td>\n",
       "      <td>4000</td>\n",
       "      <td>Revenue</td>\n",
       "    </tr>\n",
       "    <tr>\n",
       "      <th>1</th>\n",
       "      <td>Product Cost</td>\n",
       "      <td>5000</td>\n",
       "      <td>COGS</td>\n",
       "    </tr>\n",
       "    <tr>\n",
       "      <th>2</th>\n",
       "      <td>Marketing</td>\n",
       "      <td>6100</td>\n",
       "      <td>OPEX</td>\n",
       "    </tr>\n",
       "    <tr>\n",
       "      <th>3</th>\n",
       "      <td>Utilities</td>\n",
       "      <td>6200</td>\n",
       "      <td>OPEX</td>\n",
       "    </tr>\n",
       "    <tr>\n",
       "      <th>4</th>\n",
       "      <td>Salaries</td>\n",
       "      <td>6300</td>\n",
       "      <td>OPEX</td>\n",
       "    </tr>\n",
       "    <tr>\n",
       "      <th>5</th>\n",
       "      <td>Supplies</td>\n",
       "      <td>6400</td>\n",
       "      <td>OPEX</td>\n",
       "    </tr>\n",
       "    <tr>\n",
       "      <th>6</th>\n",
       "      <td>Rent</td>\n",
       "      <td>6500</td>\n",
       "      <td>OPEX</td>\n",
       "    </tr>\n",
       "    <tr>\n",
       "      <th>7</th>\n",
       "      <td>Delivery</td>\n",
       "      <td>6600</td>\n",
       "      <td>OPEX</td>\n",
       "    </tr>\n",
       "  </tbody>\n",
       "</table>\n",
       "</div>"
      ],
      "text/plain": [
       "        Category  Account AccountType\n",
       "0  Jewelry Sales     4000     Revenue\n",
       "1   Product Cost     5000        COGS\n",
       "2      Marketing     6100        OPEX\n",
       "3      Utilities     6200        OPEX\n",
       "4       Salaries     6300        OPEX\n",
       "5       Supplies     6400        OPEX\n",
       "6           Rent     6500        OPEX\n",
       "7       Delivery     6600        OPEX"
      ]
     },
     "execution_count": 418,
     "metadata": {},
     "output_type": "execute_result"
    }
   ],
   "source": [
    "coa"
   ]
  },
  {
   "cell_type": "code",
   "execution_count": 419,
   "id": "aed6f105-e1ba-4883-8f62-74326845b42a",
   "metadata": {},
   "outputs": [
    {
     "data": {
      "text/plain": [
       "Category\n",
       "Jewelry Sales    1\n",
       "Product Cost     1\n",
       "Marketing        1\n",
       "Utilities        1\n",
       "Salaries         1\n",
       "Supplies         1\n",
       "Rent             1\n",
       "Delivery         1\n",
       "Name: count, dtype: int64"
      ]
     },
     "execution_count": 419,
     "metadata": {},
     "output_type": "execute_result"
    }
   ],
   "source": [
    "coa['Category'].value_counts()"
   ]
  },
  {
   "cell_type": "code",
   "execution_count": 420,
   "id": "ba6d181f-ac39-4711-a605-9c29961ee698",
   "metadata": {},
   "outputs": [
    {
     "data": {
      "text/plain": [
       "Account\n",
       "4000    1\n",
       "5000    1\n",
       "6100    1\n",
       "6200    1\n",
       "6300    1\n",
       "6400    1\n",
       "6500    1\n",
       "6600    1\n",
       "Name: count, dtype: int64"
      ]
     },
     "execution_count": 420,
     "metadata": {},
     "output_type": "execute_result"
    }
   ],
   "source": [
    "coa['Account'].value_counts()"
   ]
  },
  {
   "cell_type": "code",
   "execution_count": 421,
   "id": "c3fc8cc0-fe2a-4b83-a7c4-cb2fc80b9149",
   "metadata": {},
   "outputs": [
    {
     "data": {
      "text/plain": [
       "AccountType\n",
       "OPEX       6\n",
       "Revenue    1\n",
       "COGS       1\n",
       "Name: count, dtype: int64"
      ]
     },
     "execution_count": 421,
     "metadata": {},
     "output_type": "execute_result"
    }
   ],
   "source": [
    "coa['AccountType'].value_counts()"
   ]
  },
  {
   "cell_type": "markdown",
   "id": "b245120f-5589-4aa0-a78d-09d7e55217ac",
   "metadata": {
    "jp-MarkdownHeadingCollapsed": true
   },
   "source": [
    "## Append Dataset"
   ]
  },
  {
   "cell_type": "code",
   "execution_count": 422,
   "id": "6854846b-fc41-4b61-9501-8b67f10d7c06",
   "metadata": {},
   "outputs": [
    {
     "data": {
      "text/html": [
       "<div>\n",
       "<style scoped>\n",
       "    .dataframe tbody tr th:only-of-type {\n",
       "        vertical-align: middle;\n",
       "    }\n",
       "\n",
       "    .dataframe tbody tr th {\n",
       "        vertical-align: top;\n",
       "    }\n",
       "\n",
       "    .dataframe thead th {\n",
       "        text-align: right;\n",
       "    }\n",
       "</style>\n",
       "<table border=\"1\" class=\"dataframe\">\n",
       "  <thead>\n",
       "    <tr style=\"text-align: right;\">\n",
       "      <th></th>\n",
       "      <th>Date</th>\n",
       "      <th>Category</th>\n",
       "      <th>Product</th>\n",
       "      <th>Description</th>\n",
       "      <th>Amount</th>\n",
       "      <th>InvoiceNo</th>\n",
       "      <th>Customer</th>\n",
       "      <th>Region</th>\n",
       "      <th>Source_Type</th>\n",
       "    </tr>\n",
       "  </thead>\n",
       "  <tbody>\n",
       "    <tr>\n",
       "      <th>350</th>\n",
       "      <td>2025-08-07</td>\n",
       "      <td>Jewelry</td>\n",
       "      <td>Gold Bracelet</td>\n",
       "      <td>None</td>\n",
       "      <td>1350000</td>\n",
       "      <td>INV1350</td>\n",
       "      <td>Customer D</td>\n",
       "      <td>Medan</td>\n",
       "      <td>Sales</td>\n",
       "    </tr>\n",
       "    <tr>\n",
       "      <th>216</th>\n",
       "      <td>2025-07-22</td>\n",
       "      <td>Jewelry</td>\n",
       "      <td>Charm Pendant</td>\n",
       "      <td>None</td>\n",
       "      <td>350000</td>\n",
       "      <td>INV1216</td>\n",
       "      <td>Customer D</td>\n",
       "      <td>Jakarta</td>\n",
       "      <td>Sales</td>\n",
       "    </tr>\n",
       "    <tr>\n",
       "      <th>436</th>\n",
       "      <td>2025-08-15</td>\n",
       "      <td>Jewelry</td>\n",
       "      <td>Titanium Ring</td>\n",
       "      <td>None</td>\n",
       "      <td>1650000</td>\n",
       "      <td>INV1436</td>\n",
       "      <td>Customer A</td>\n",
       "      <td>Medan</td>\n",
       "      <td>Sales</td>\n",
       "    </tr>\n",
       "    <tr>\n",
       "      <th>629</th>\n",
       "      <td>2025-09-07</td>\n",
       "      <td>Jewelry</td>\n",
       "      <td>Titanium Ring</td>\n",
       "      <td>None</td>\n",
       "      <td>750000</td>\n",
       "      <td>INV1629</td>\n",
       "      <td>Customer A</td>\n",
       "      <td>Medan</td>\n",
       "      <td>Sales</td>\n",
       "    </tr>\n",
       "    <tr>\n",
       "      <th>506</th>\n",
       "      <td>2025-08-23</td>\n",
       "      <td>Jewelry</td>\n",
       "      <td>Titanium Ring</td>\n",
       "      <td>None</td>\n",
       "      <td>2200000</td>\n",
       "      <td>INV1506</td>\n",
       "      <td>Customer B</td>\n",
       "      <td>Bandung</td>\n",
       "      <td>Sales</td>\n",
       "    </tr>\n",
       "  </tbody>\n",
       "</table>\n",
       "</div>"
      ],
      "text/plain": [
       "          Date Category        Product Description   Amount InvoiceNo  \\\n",
       "350 2025-08-07  Jewelry  Gold Bracelet        None  1350000   INV1350   \n",
       "216 2025-07-22  Jewelry  Charm Pendant        None   350000   INV1216   \n",
       "436 2025-08-15  Jewelry  Titanium Ring        None  1650000   INV1436   \n",
       "629 2025-09-07  Jewelry  Titanium Ring        None   750000   INV1629   \n",
       "506 2025-08-23  Jewelry  Titanium Ring        None  2200000   INV1506   \n",
       "\n",
       "       Customer   Region Source_Type  \n",
       "350  Customer D    Medan       Sales  \n",
       "216  Customer D  Jakarta       Sales  \n",
       "436  Customer A    Medan       Sales  \n",
       "629  Customer A    Medan       Sales  \n",
       "506  Customer B  Bandung       Sales  "
      ]
     },
     "execution_count": 422,
     "metadata": {},
     "output_type": "execute_result"
    }
   ],
   "source": [
    "# Standardize Sales\n",
    "sales = sales.rename(columns={\n",
    "    \"Total\": \"Amount\"\n",
    "})\n",
    "sales[\"Source_Type\"] = \"Sales\"\n",
    "sales[\"Description\"] = None\n",
    "\n",
    "# Pilih kolom relevan dan tambahkan kolom kosong agar sama dengan Expenses\n",
    "sales = sales[[\"Date\", \"Category\", \"Product\", \"Description\", \"Amount\", \"InvoiceNo\", \"Customer\", \"Region\", \"Source_Type\"]]\n",
    "sales.sample(5)"
   ]
  },
  {
   "cell_type": "code",
   "execution_count": 423,
   "id": "f1004c52-54c1-4cf8-bfdb-044b51864486",
   "metadata": {},
   "outputs": [
    {
     "data": {
      "text/html": [
       "<div>\n",
       "<style scoped>\n",
       "    .dataframe tbody tr th:only-of-type {\n",
       "        vertical-align: middle;\n",
       "    }\n",
       "\n",
       "    .dataframe tbody tr th {\n",
       "        vertical-align: top;\n",
       "    }\n",
       "\n",
       "    .dataframe thead th {\n",
       "        text-align: right;\n",
       "    }\n",
       "</style>\n",
       "<table border=\"1\" class=\"dataframe\">\n",
       "  <thead>\n",
       "    <tr style=\"text-align: right;\">\n",
       "      <th></th>\n",
       "      <th>Date</th>\n",
       "      <th>Category</th>\n",
       "      <th>Product</th>\n",
       "      <th>Description</th>\n",
       "      <th>Amount</th>\n",
       "      <th>InvoiceNo</th>\n",
       "      <th>Customer</th>\n",
       "      <th>Region</th>\n",
       "      <th>Source_Type</th>\n",
       "    </tr>\n",
       "  </thead>\n",
       "  <tbody>\n",
       "    <tr>\n",
       "      <th>132</th>\n",
       "      <td>2025-09-03</td>\n",
       "      <td>Marketing</td>\n",
       "      <td>None</td>\n",
       "      <td>Marketing expense for operations</td>\n",
       "      <td>824934</td>\n",
       "      <td>None</td>\n",
       "      <td>None</td>\n",
       "      <td>None</td>\n",
       "      <td>Expense</td>\n",
       "    </tr>\n",
       "    <tr>\n",
       "      <th>140</th>\n",
       "      <td>2025-09-06</td>\n",
       "      <td>Rent</td>\n",
       "      <td>None</td>\n",
       "      <td>Rent expense for operations</td>\n",
       "      <td>1011162</td>\n",
       "      <td>None</td>\n",
       "      <td>None</td>\n",
       "      <td>None</td>\n",
       "      <td>Expense</td>\n",
       "    </tr>\n",
       "    <tr>\n",
       "      <th>85</th>\n",
       "      <td>2025-08-11</td>\n",
       "      <td>Salaries</td>\n",
       "      <td>None</td>\n",
       "      <td>Salaries expense for operations</td>\n",
       "      <td>1929290</td>\n",
       "      <td>None</td>\n",
       "      <td>None</td>\n",
       "      <td>None</td>\n",
       "      <td>Expense</td>\n",
       "    </tr>\n",
       "    <tr>\n",
       "      <th>136</th>\n",
       "      <td>2025-09-05</td>\n",
       "      <td>Supplies</td>\n",
       "      <td>None</td>\n",
       "      <td>Supplies expense for operations</td>\n",
       "      <td>1672304</td>\n",
       "      <td>None</td>\n",
       "      <td>None</td>\n",
       "      <td>None</td>\n",
       "      <td>Expense</td>\n",
       "    </tr>\n",
       "    <tr>\n",
       "      <th>157</th>\n",
       "      <td>2025-09-15</td>\n",
       "      <td>Salaries</td>\n",
       "      <td>None</td>\n",
       "      <td>Salaries expense for operations</td>\n",
       "      <td>1641452</td>\n",
       "      <td>None</td>\n",
       "      <td>None</td>\n",
       "      <td>None</td>\n",
       "      <td>Expense</td>\n",
       "    </tr>\n",
       "  </tbody>\n",
       "</table>\n",
       "</div>"
      ],
      "text/plain": [
       "          Date   Category Product                       Description   Amount  \\\n",
       "132 2025-09-03  Marketing    None  Marketing expense for operations   824934   \n",
       "140 2025-09-06       Rent    None       Rent expense for operations  1011162   \n",
       "85  2025-08-11   Salaries    None   Salaries expense for operations  1929290   \n",
       "136 2025-09-05   Supplies    None   Supplies expense for operations  1672304   \n",
       "157 2025-09-15   Salaries    None   Salaries expense for operations  1641452   \n",
       "\n",
       "    InvoiceNo Customer Region Source_Type  \n",
       "132      None     None   None     Expense  \n",
       "140      None     None   None     Expense  \n",
       "85       None     None   None     Expense  \n",
       "136      None     None   None     Expense  \n",
       "157      None     None   None     Expense  "
      ]
     },
     "execution_count": 423,
     "metadata": {},
     "output_type": "execute_result"
    }
   ],
   "source": [
    "# Standardize Expenses\n",
    "expenses = expenses.rename(columns={\n",
    "    \"ExpenseType\": \"Category\"\n",
    "})\n",
    "expenses[\"Source_Type\"] = \"Expense\"\n",
    "expenses[\"InvoiceNo\"] = None\n",
    "expenses[\"Customer\"] = None\n",
    "expenses[\"Region\"] = None\n",
    "expenses[\"Product\"] = None\n",
    "\n",
    "expenses = expenses[[\"Date\", \"Category\", \"Product\", \"Description\", \"Amount\", \"InvoiceNo\", \"Customer\", \"Region\", \"Source_Type\"]]\n",
    "expenses.sample(5)"
   ]
  },
  {
   "cell_type": "code",
   "execution_count": 424,
   "id": "e7db3c6f-94f2-49cc-a43d-0b3103e71626",
   "metadata": {},
   "outputs": [
    {
     "data": {
      "text/html": [
       "<div>\n",
       "<style scoped>\n",
       "    .dataframe tbody tr th:only-of-type {\n",
       "        vertical-align: middle;\n",
       "    }\n",
       "\n",
       "    .dataframe tbody tr th {\n",
       "        vertical-align: top;\n",
       "    }\n",
       "\n",
       "    .dataframe thead th {\n",
       "        text-align: right;\n",
       "    }\n",
       "</style>\n",
       "<table border=\"1\" class=\"dataframe\">\n",
       "  <thead>\n",
       "    <tr style=\"text-align: right;\">\n",
       "      <th></th>\n",
       "      <th>Date</th>\n",
       "      <th>Category</th>\n",
       "      <th>Product</th>\n",
       "      <th>Description</th>\n",
       "      <th>Amount</th>\n",
       "      <th>InvoiceNo</th>\n",
       "      <th>Customer</th>\n",
       "      <th>Region</th>\n",
       "      <th>Source_Type</th>\n",
       "    </tr>\n",
       "  </thead>\n",
       "  <tbody>\n",
       "    <tr>\n",
       "      <th>777</th>\n",
       "      <td>2025-09-21</td>\n",
       "      <td>Jewelry</td>\n",
       "      <td>Charm Pendant</td>\n",
       "      <td>None</td>\n",
       "      <td>550000</td>\n",
       "      <td>INV1777</td>\n",
       "      <td>Customer C</td>\n",
       "      <td>Surabaya</td>\n",
       "      <td>Sales</td>\n",
       "    </tr>\n",
       "    <tr>\n",
       "      <th>742</th>\n",
       "      <td>2025-09-17</td>\n",
       "      <td>Jewelry</td>\n",
       "      <td>Gold Bracelet</td>\n",
       "      <td>None</td>\n",
       "      <td>350000</td>\n",
       "      <td>INV1742</td>\n",
       "      <td>Customer C</td>\n",
       "      <td>Medan</td>\n",
       "      <td>Sales</td>\n",
       "    </tr>\n",
       "    <tr>\n",
       "      <th>152</th>\n",
       "      <td>2025-07-15</td>\n",
       "      <td>Jewelry</td>\n",
       "      <td>Gold Bracelet</td>\n",
       "      <td>None</td>\n",
       "      <td>1650000</td>\n",
       "      <td>INV1152</td>\n",
       "      <td>Customer B</td>\n",
       "      <td>Bandung</td>\n",
       "      <td>Sales</td>\n",
       "    </tr>\n",
       "    <tr>\n",
       "      <th>551</th>\n",
       "      <td>2025-08-28</td>\n",
       "      <td>Jewelry</td>\n",
       "      <td>Pearl Earrings</td>\n",
       "      <td>None</td>\n",
       "      <td>1100000</td>\n",
       "      <td>INV1551</td>\n",
       "      <td>Customer E</td>\n",
       "      <td>Medan</td>\n",
       "      <td>Sales</td>\n",
       "    </tr>\n",
       "    <tr>\n",
       "      <th>839</th>\n",
       "      <td>2025-09-26</td>\n",
       "      <td>Jewelry</td>\n",
       "      <td>Titanium Ring</td>\n",
       "      <td>None</td>\n",
       "      <td>650000</td>\n",
       "      <td>INV1839</td>\n",
       "      <td>Customer C</td>\n",
       "      <td>Jakarta</td>\n",
       "      <td>Sales</td>\n",
       "    </tr>\n",
       "  </tbody>\n",
       "</table>\n",
       "</div>"
      ],
      "text/plain": [
       "          Date Category         Product Description   Amount InvoiceNo  \\\n",
       "777 2025-09-21  Jewelry   Charm Pendant        None   550000   INV1777   \n",
       "742 2025-09-17  Jewelry   Gold Bracelet        None   350000   INV1742   \n",
       "152 2025-07-15  Jewelry   Gold Bracelet        None  1650000   INV1152   \n",
       "551 2025-08-28  Jewelry  Pearl Earrings        None  1100000   INV1551   \n",
       "839 2025-09-26  Jewelry   Titanium Ring        None   650000   INV1839   \n",
       "\n",
       "       Customer    Region Source_Type  \n",
       "777  Customer C  Surabaya       Sales  \n",
       "742  Customer C     Medan       Sales  \n",
       "152  Customer B   Bandung       Sales  \n",
       "551  Customer E     Medan       Sales  \n",
       "839  Customer C   Jakarta       Sales  "
      ]
     },
     "execution_count": 424,
     "metadata": {},
     "output_type": "execute_result"
    }
   ],
   "source": [
    "# Combine (Append)\n",
    "transactions = pd.concat([sales, expenses], ignore_index=True)\n",
    "\n",
    "# ubah expense menjadi negatif\n",
    "transactions[\"Amount\"] = transactions.apply(\n",
    "    lambda x: -x[\"Amount\"] if x[\"Source_Type\"] == \"Expense\" else x[\"Amount\"], axis=1\n",
    ")\n",
    "\n",
    "transactions.sample(5)"
   ]
  },
  {
   "cell_type": "code",
   "execution_count": 425,
   "id": "95d5b9c9-cdec-4b29-98c2-d82873a900ad",
   "metadata": {},
   "outputs": [
    {
     "data": {
      "text/html": [
       "<div>\n",
       "<style scoped>\n",
       "    .dataframe tbody tr th:only-of-type {\n",
       "        vertical-align: middle;\n",
       "    }\n",
       "\n",
       "    .dataframe tbody tr th {\n",
       "        vertical-align: top;\n",
       "    }\n",
       "\n",
       "    .dataframe thead th {\n",
       "        text-align: right;\n",
       "    }\n",
       "</style>\n",
       "<table border=\"1\" class=\"dataframe\">\n",
       "  <thead>\n",
       "    <tr style=\"text-align: right;\">\n",
       "      <th></th>\n",
       "      <th>Date</th>\n",
       "      <th>Category</th>\n",
       "      <th>Product</th>\n",
       "      <th>Description</th>\n",
       "      <th>Amount</th>\n",
       "      <th>InvoiceNo</th>\n",
       "      <th>Customer</th>\n",
       "      <th>Region</th>\n",
       "      <th>Source_Type</th>\n",
       "    </tr>\n",
       "  </thead>\n",
       "  <tbody>\n",
       "    <tr>\n",
       "      <th>0</th>\n",
       "      <td>2025-07-01</td>\n",
       "      <td>Jewelry</td>\n",
       "      <td>Pearl Earrings</td>\n",
       "      <td>None</td>\n",
       "      <td>450000</td>\n",
       "      <td>INV1000</td>\n",
       "      <td>Customer E</td>\n",
       "      <td>Bali</td>\n",
       "      <td>Sales</td>\n",
       "    </tr>\n",
       "    <tr>\n",
       "      <th>1</th>\n",
       "      <td>2025-07-01</td>\n",
       "      <td>Jewelry</td>\n",
       "      <td>Silver Necklace</td>\n",
       "      <td>None</td>\n",
       "      <td>1350000</td>\n",
       "      <td>INV1001</td>\n",
       "      <td>Customer C</td>\n",
       "      <td>Bali</td>\n",
       "      <td>Sales</td>\n",
       "    </tr>\n",
       "    <tr>\n",
       "      <th>2</th>\n",
       "      <td>2025-07-01</td>\n",
       "      <td>Jewelry</td>\n",
       "      <td>Pearl Earrings</td>\n",
       "      <td>None</td>\n",
       "      <td>1800000</td>\n",
       "      <td>INV1002</td>\n",
       "      <td>Customer E</td>\n",
       "      <td>Bandung</td>\n",
       "      <td>Sales</td>\n",
       "    </tr>\n",
       "    <tr>\n",
       "      <th>3</th>\n",
       "      <td>2025-07-01</td>\n",
       "      <td>Jewelry</td>\n",
       "      <td>Pearl Earrings</td>\n",
       "      <td>None</td>\n",
       "      <td>700000</td>\n",
       "      <td>INV1003</td>\n",
       "      <td>Customer D</td>\n",
       "      <td>Bali</td>\n",
       "      <td>Sales</td>\n",
       "    </tr>\n",
       "    <tr>\n",
       "      <th>4</th>\n",
       "      <td>2025-07-01</td>\n",
       "      <td>Jewelry</td>\n",
       "      <td>Titanium Ring</td>\n",
       "      <td>None</td>\n",
       "      <td>1400000</td>\n",
       "      <td>INV1004</td>\n",
       "      <td>Customer E</td>\n",
       "      <td>Medan</td>\n",
       "      <td>Sales</td>\n",
       "    </tr>\n",
       "    <tr>\n",
       "      <th>...</th>\n",
       "      <td>...</td>\n",
       "      <td>...</td>\n",
       "      <td>...</td>\n",
       "      <td>...</td>\n",
       "      <td>...</td>\n",
       "      <td>...</td>\n",
       "      <td>...</td>\n",
       "      <td>...</td>\n",
       "      <td>...</td>\n",
       "    </tr>\n",
       "    <tr>\n",
       "      <th>882</th>\n",
       "      <td>2025-09-30</td>\n",
       "      <td>Jewelry</td>\n",
       "      <td>Gold Bracelet</td>\n",
       "      <td>None</td>\n",
       "      <td>1300000</td>\n",
       "      <td>INV1882</td>\n",
       "      <td>Customer C</td>\n",
       "      <td>Surabaya</td>\n",
       "      <td>Sales</td>\n",
       "    </tr>\n",
       "    <tr>\n",
       "      <th>883</th>\n",
       "      <td>2025-09-30</td>\n",
       "      <td>Jewelry</td>\n",
       "      <td>Gold Bracelet</td>\n",
       "      <td>None</td>\n",
       "      <td>900000</td>\n",
       "      <td>INV1883</td>\n",
       "      <td>Customer D</td>\n",
       "      <td>Surabaya</td>\n",
       "      <td>Sales</td>\n",
       "    </tr>\n",
       "    <tr>\n",
       "      <th>884</th>\n",
       "      <td>2025-09-30</td>\n",
       "      <td>Jewelry</td>\n",
       "      <td>Pearl Earrings</td>\n",
       "      <td>None</td>\n",
       "      <td>1800000</td>\n",
       "      <td>INV1884</td>\n",
       "      <td>Customer B</td>\n",
       "      <td>Surabaya</td>\n",
       "      <td>Sales</td>\n",
       "    </tr>\n",
       "    <tr>\n",
       "      <th>885</th>\n",
       "      <td>2025-09-30</td>\n",
       "      <td>Jewelry</td>\n",
       "      <td>Gold Bracelet</td>\n",
       "      <td>None</td>\n",
       "      <td>900000</td>\n",
       "      <td>INV1885</td>\n",
       "      <td>Customer B</td>\n",
       "      <td>Jakarta</td>\n",
       "      <td>Sales</td>\n",
       "    </tr>\n",
       "    <tr>\n",
       "      <th>886</th>\n",
       "      <td>2025-09-30</td>\n",
       "      <td>Jewelry</td>\n",
       "      <td>Titanium Ring</td>\n",
       "      <td>None</td>\n",
       "      <td>2200000</td>\n",
       "      <td>INV1886</td>\n",
       "      <td>Customer B</td>\n",
       "      <td>Bali</td>\n",
       "      <td>Sales</td>\n",
       "    </tr>\n",
       "  </tbody>\n",
       "</table>\n",
       "<p>887 rows × 9 columns</p>\n",
       "</div>"
      ],
      "text/plain": [
       "          Date Category          Product Description   Amount InvoiceNo  \\\n",
       "0   2025-07-01  Jewelry   Pearl Earrings        None   450000   INV1000   \n",
       "1   2025-07-01  Jewelry  Silver Necklace        None  1350000   INV1001   \n",
       "2   2025-07-01  Jewelry   Pearl Earrings        None  1800000   INV1002   \n",
       "3   2025-07-01  Jewelry   Pearl Earrings        None   700000   INV1003   \n",
       "4   2025-07-01  Jewelry    Titanium Ring        None  1400000   INV1004   \n",
       "..         ...      ...              ...         ...      ...       ...   \n",
       "882 2025-09-30  Jewelry    Gold Bracelet        None  1300000   INV1882   \n",
       "883 2025-09-30  Jewelry    Gold Bracelet        None   900000   INV1883   \n",
       "884 2025-09-30  Jewelry   Pearl Earrings        None  1800000   INV1884   \n",
       "885 2025-09-30  Jewelry    Gold Bracelet        None   900000   INV1885   \n",
       "886 2025-09-30  Jewelry    Titanium Ring        None  2200000   INV1886   \n",
       "\n",
       "       Customer    Region Source_Type  \n",
       "0    Customer E      Bali       Sales  \n",
       "1    Customer C      Bali       Sales  \n",
       "2    Customer E   Bandung       Sales  \n",
       "3    Customer D      Bali       Sales  \n",
       "4    Customer E     Medan       Sales  \n",
       "..          ...       ...         ...  \n",
       "882  Customer C  Surabaya       Sales  \n",
       "883  Customer D  Surabaya       Sales  \n",
       "884  Customer B  Surabaya       Sales  \n",
       "885  Customer B   Jakarta       Sales  \n",
       "886  Customer B      Bali       Sales  \n",
       "\n",
       "[887 rows x 9 columns]"
      ]
     },
     "execution_count": 425,
     "metadata": {},
     "output_type": "execute_result"
    }
   ],
   "source": [
    "transactions[transactions['Source_Type'] == 'Sales']"
   ]
  },
  {
   "cell_type": "code",
   "execution_count": 426,
   "id": "30268405-4fa7-4184-a33c-7ff702a79e00",
   "metadata": {},
   "outputs": [
    {
     "data": {
      "text/html": [
       "<div>\n",
       "<style scoped>\n",
       "    .dataframe tbody tr th:only-of-type {\n",
       "        vertical-align: middle;\n",
       "    }\n",
       "\n",
       "    .dataframe tbody tr th {\n",
       "        vertical-align: top;\n",
       "    }\n",
       "\n",
       "    .dataframe thead th {\n",
       "        text-align: right;\n",
       "    }\n",
       "</style>\n",
       "<table border=\"1\" class=\"dataframe\">\n",
       "  <thead>\n",
       "    <tr style=\"text-align: right;\">\n",
       "      <th></th>\n",
       "      <th>Date</th>\n",
       "      <th>Category</th>\n",
       "      <th>Product</th>\n",
       "      <th>Description</th>\n",
       "      <th>Amount</th>\n",
       "      <th>InvoiceNo</th>\n",
       "      <th>Customer</th>\n",
       "      <th>Region</th>\n",
       "      <th>Source_Type</th>\n",
       "    </tr>\n",
       "  </thead>\n",
       "  <tbody>\n",
       "    <tr>\n",
       "      <th>887</th>\n",
       "      <td>2025-07-01</td>\n",
       "      <td>Rent</td>\n",
       "      <td>None</td>\n",
       "      <td>Rent expense for operations</td>\n",
       "      <td>-4524227</td>\n",
       "      <td>None</td>\n",
       "      <td>None</td>\n",
       "      <td>None</td>\n",
       "      <td>Expense</td>\n",
       "    </tr>\n",
       "    <tr>\n",
       "      <th>888</th>\n",
       "      <td>2025-07-01</td>\n",
       "      <td>Rent</td>\n",
       "      <td>None</td>\n",
       "      <td>Rent expense for operations</td>\n",
       "      <td>-3549316</td>\n",
       "      <td>None</td>\n",
       "      <td>None</td>\n",
       "      <td>None</td>\n",
       "      <td>Expense</td>\n",
       "    </tr>\n",
       "    <tr>\n",
       "      <th>889</th>\n",
       "      <td>2025-07-01</td>\n",
       "      <td>Supplies</td>\n",
       "      <td>None</td>\n",
       "      <td>Supplies expense for operations</td>\n",
       "      <td>-3049565</td>\n",
       "      <td>None</td>\n",
       "      <td>None</td>\n",
       "      <td>None</td>\n",
       "      <td>Expense</td>\n",
       "    </tr>\n",
       "    <tr>\n",
       "      <th>890</th>\n",
       "      <td>2025-07-02</td>\n",
       "      <td>Utilities</td>\n",
       "      <td>None</td>\n",
       "      <td>Utilities expense for operations</td>\n",
       "      <td>-3460883</td>\n",
       "      <td>None</td>\n",
       "      <td>None</td>\n",
       "      <td>None</td>\n",
       "      <td>Expense</td>\n",
       "    </tr>\n",
       "    <tr>\n",
       "      <th>891</th>\n",
       "      <td>2025-07-02</td>\n",
       "      <td>Rent</td>\n",
       "      <td>None</td>\n",
       "      <td>Rent expense for operations</td>\n",
       "      <td>-4607618</td>\n",
       "      <td>None</td>\n",
       "      <td>None</td>\n",
       "      <td>None</td>\n",
       "      <td>Expense</td>\n",
       "    </tr>\n",
       "    <tr>\n",
       "      <th>...</th>\n",
       "      <td>...</td>\n",
       "      <td>...</td>\n",
       "      <td>...</td>\n",
       "      <td>...</td>\n",
       "      <td>...</td>\n",
       "      <td>...</td>\n",
       "      <td>...</td>\n",
       "      <td>...</td>\n",
       "      <td>...</td>\n",
       "    </tr>\n",
       "    <tr>\n",
       "      <th>1066</th>\n",
       "      <td>2025-09-28</td>\n",
       "      <td>Rent</td>\n",
       "      <td>None</td>\n",
       "      <td>Rent expense for operations</td>\n",
       "      <td>-2615226</td>\n",
       "      <td>None</td>\n",
       "      <td>None</td>\n",
       "      <td>None</td>\n",
       "      <td>Expense</td>\n",
       "    </tr>\n",
       "    <tr>\n",
       "      <th>1067</th>\n",
       "      <td>2025-09-29</td>\n",
       "      <td>Salaries</td>\n",
       "      <td>None</td>\n",
       "      <td>Salaries expense for operations</td>\n",
       "      <td>-4130400</td>\n",
       "      <td>None</td>\n",
       "      <td>None</td>\n",
       "      <td>None</td>\n",
       "      <td>Expense</td>\n",
       "    </tr>\n",
       "    <tr>\n",
       "      <th>1068</th>\n",
       "      <td>2025-09-29</td>\n",
       "      <td>Marketing</td>\n",
       "      <td>None</td>\n",
       "      <td>Marketing expense for operations</td>\n",
       "      <td>-3354119</td>\n",
       "      <td>None</td>\n",
       "      <td>None</td>\n",
       "      <td>None</td>\n",
       "      <td>Expense</td>\n",
       "    </tr>\n",
       "    <tr>\n",
       "      <th>1069</th>\n",
       "      <td>2025-09-30</td>\n",
       "      <td>Delivery</td>\n",
       "      <td>None</td>\n",
       "      <td>Delivery expense for operations</td>\n",
       "      <td>-4097170</td>\n",
       "      <td>None</td>\n",
       "      <td>None</td>\n",
       "      <td>None</td>\n",
       "      <td>Expense</td>\n",
       "    </tr>\n",
       "    <tr>\n",
       "      <th>1070</th>\n",
       "      <td>2025-09-30</td>\n",
       "      <td>Marketing</td>\n",
       "      <td>None</td>\n",
       "      <td>Marketing expense for operations</td>\n",
       "      <td>-953222</td>\n",
       "      <td>None</td>\n",
       "      <td>None</td>\n",
       "      <td>None</td>\n",
       "      <td>Expense</td>\n",
       "    </tr>\n",
       "  </tbody>\n",
       "</table>\n",
       "<p>184 rows × 9 columns</p>\n",
       "</div>"
      ],
      "text/plain": [
       "           Date   Category Product                       Description   Amount  \\\n",
       "887  2025-07-01       Rent    None       Rent expense for operations -4524227   \n",
       "888  2025-07-01       Rent    None       Rent expense for operations -3549316   \n",
       "889  2025-07-01   Supplies    None   Supplies expense for operations -3049565   \n",
       "890  2025-07-02  Utilities    None  Utilities expense for operations -3460883   \n",
       "891  2025-07-02       Rent    None       Rent expense for operations -4607618   \n",
       "...         ...        ...     ...                               ...      ...   \n",
       "1066 2025-09-28       Rent    None       Rent expense for operations -2615226   \n",
       "1067 2025-09-29   Salaries    None   Salaries expense for operations -4130400   \n",
       "1068 2025-09-29  Marketing    None  Marketing expense for operations -3354119   \n",
       "1069 2025-09-30   Delivery    None   Delivery expense for operations -4097170   \n",
       "1070 2025-09-30  Marketing    None  Marketing expense for operations  -953222   \n",
       "\n",
       "     InvoiceNo Customer Region Source_Type  \n",
       "887       None     None   None     Expense  \n",
       "888       None     None   None     Expense  \n",
       "889       None     None   None     Expense  \n",
       "890       None     None   None     Expense  \n",
       "891       None     None   None     Expense  \n",
       "...        ...      ...    ...         ...  \n",
       "1066      None     None   None     Expense  \n",
       "1067      None     None   None     Expense  \n",
       "1068      None     None   None     Expense  \n",
       "1069      None     None   None     Expense  \n",
       "1070      None     None   None     Expense  \n",
       "\n",
       "[184 rows x 9 columns]"
      ]
     },
     "execution_count": 426,
     "metadata": {},
     "output_type": "execute_result"
    }
   ],
   "source": [
    "transactions[transactions['Source_Type'] == 'Expense']"
   ]
  },
  {
   "cell_type": "code",
   "execution_count": 427,
   "id": "8a0e27f9-4d8f-4aab-8e8a-412630c1adcc",
   "metadata": {},
   "outputs": [
    {
     "name": "stdout",
     "output_type": "stream",
     "text": [
      "<class 'pandas.core.frame.DataFrame'>\n",
      "RangeIndex: 1071 entries, 0 to 1070\n",
      "Data columns (total 9 columns):\n",
      " #   Column       Non-Null Count  Dtype         \n",
      "---  ------       --------------  -----         \n",
      " 0   Date         1071 non-null   datetime64[ns]\n",
      " 1   Category     1071 non-null   object        \n",
      " 2   Product      887 non-null    object        \n",
      " 3   Description  184 non-null    object        \n",
      " 4   Amount       1071 non-null   int64         \n",
      " 5   InvoiceNo    887 non-null    object        \n",
      " 6   Customer     887 non-null    object        \n",
      " 7   Region       887 non-null    object        \n",
      " 8   Source_Type  1071 non-null   object        \n",
      "dtypes: datetime64[ns](1), int64(1), object(7)\n",
      "memory usage: 75.4+ KB\n"
     ]
    }
   ],
   "source": [
    "transactions.info()"
   ]
  },
  {
   "cell_type": "markdown",
   "id": "bad67f5f-d23e-4dfc-b8da-a9e697870307",
   "metadata": {
    "jp-MarkdownHeadingCollapsed": true
   },
   "source": [
    "## Data Cleaning"
   ]
  },
  {
   "cell_type": "code",
   "execution_count": 428,
   "id": "3f74131b-74d6-490d-9541-7976868a9fb1",
   "metadata": {},
   "outputs": [
    {
     "data": {
      "text/plain": [
       "0"
      ]
     },
     "execution_count": 428,
     "metadata": {},
     "output_type": "execute_result"
    }
   ],
   "source": [
    "# Cek duplikat\n",
    "transactions.duplicated().sum()"
   ]
  },
  {
   "cell_type": "code",
   "execution_count": 429,
   "id": "8fbb5bf2-f413-4d32-9305-200aabe375df",
   "metadata": {},
   "outputs": [
    {
     "data": {
      "text/html": [
       "<div>\n",
       "<style scoped>\n",
       "    .dataframe tbody tr th:only-of-type {\n",
       "        vertical-align: middle;\n",
       "    }\n",
       "\n",
       "    .dataframe tbody tr th {\n",
       "        vertical-align: top;\n",
       "    }\n",
       "\n",
       "    .dataframe thead th {\n",
       "        text-align: right;\n",
       "    }\n",
       "</style>\n",
       "<table border=\"1\" class=\"dataframe\">\n",
       "  <thead>\n",
       "    <tr style=\"text-align: right;\">\n",
       "      <th></th>\n",
       "      <th>Date</th>\n",
       "      <th>Category</th>\n",
       "      <th>Product</th>\n",
       "      <th>Description</th>\n",
       "      <th>Amount</th>\n",
       "      <th>InvoiceNo</th>\n",
       "      <th>Customer</th>\n",
       "      <th>Region</th>\n",
       "      <th>Source_Type</th>\n",
       "      <th>Category_COA</th>\n",
       "      <th>Account</th>\n",
       "      <th>AccountType</th>\n",
       "      <th>Year</th>\n",
       "      <th>Month</th>\n",
       "    </tr>\n",
       "  </thead>\n",
       "  <tbody>\n",
       "    <tr>\n",
       "      <th>584</th>\n",
       "      <td>2025-08-31</td>\n",
       "      <td>Jewelry</td>\n",
       "      <td>Gold Bracelet</td>\n",
       "      <td>None</td>\n",
       "      <td>1350000</td>\n",
       "      <td>INV1584</td>\n",
       "      <td>Customer C</td>\n",
       "      <td>Bandung</td>\n",
       "      <td>Sales</td>\n",
       "      <td>Jewelry Sales</td>\n",
       "      <td>4000</td>\n",
       "      <td>Revenue</td>\n",
       "      <td>2025</td>\n",
       "      <td>8</td>\n",
       "    </tr>\n",
       "    <tr>\n",
       "      <th>430</th>\n",
       "      <td>2025-08-15</td>\n",
       "      <td>Jewelry</td>\n",
       "      <td>Titanium Ring</td>\n",
       "      <td>None</td>\n",
       "      <td>1400000</td>\n",
       "      <td>INV1430</td>\n",
       "      <td>Customer D</td>\n",
       "      <td>Bali</td>\n",
       "      <td>Sales</td>\n",
       "      <td>Jewelry Sales</td>\n",
       "      <td>4000</td>\n",
       "      <td>Revenue</td>\n",
       "      <td>2025</td>\n",
       "      <td>8</td>\n",
       "    </tr>\n",
       "    <tr>\n",
       "      <th>453</th>\n",
       "      <td>2025-08-17</td>\n",
       "      <td>Jewelry</td>\n",
       "      <td>Charm Pendant</td>\n",
       "      <td>None</td>\n",
       "      <td>1300000</td>\n",
       "      <td>INV1453</td>\n",
       "      <td>Customer B</td>\n",
       "      <td>Medan</td>\n",
       "      <td>Sales</td>\n",
       "      <td>Jewelry Sales</td>\n",
       "      <td>4000</td>\n",
       "      <td>Revenue</td>\n",
       "      <td>2025</td>\n",
       "      <td>8</td>\n",
       "    </tr>\n",
       "    <tr>\n",
       "      <th>978</th>\n",
       "      <td>2025-08-14</td>\n",
       "      <td>Supplies</td>\n",
       "      <td>None</td>\n",
       "      <td>Supplies expense for operations</td>\n",
       "      <td>-1447272</td>\n",
       "      <td>None</td>\n",
       "      <td>None</td>\n",
       "      <td>None</td>\n",
       "      <td>Expense</td>\n",
       "      <td>Supplies</td>\n",
       "      <td>6400</td>\n",
       "      <td>OPEX</td>\n",
       "      <td>2025</td>\n",
       "      <td>8</td>\n",
       "    </tr>\n",
       "    <tr>\n",
       "      <th>181</th>\n",
       "      <td>2025-07-19</td>\n",
       "      <td>Jewelry</td>\n",
       "      <td>Pearl Earrings</td>\n",
       "      <td>None</td>\n",
       "      <td>1400000</td>\n",
       "      <td>INV1181</td>\n",
       "      <td>Customer D</td>\n",
       "      <td>Medan</td>\n",
       "      <td>Sales</td>\n",
       "      <td>Jewelry Sales</td>\n",
       "      <td>4000</td>\n",
       "      <td>Revenue</td>\n",
       "      <td>2025</td>\n",
       "      <td>7</td>\n",
       "    </tr>\n",
       "  </tbody>\n",
       "</table>\n",
       "</div>"
      ],
      "text/plain": [
       "          Date  Category         Product                      Description  \\\n",
       "584 2025-08-31   Jewelry   Gold Bracelet                             None   \n",
       "430 2025-08-15   Jewelry   Titanium Ring                             None   \n",
       "453 2025-08-17   Jewelry   Charm Pendant                             None   \n",
       "978 2025-08-14  Supplies            None  Supplies expense for operations   \n",
       "181 2025-07-19   Jewelry  Pearl Earrings                             None   \n",
       "\n",
       "      Amount InvoiceNo    Customer   Region Source_Type   Category_COA  \\\n",
       "584  1350000   INV1584  Customer C  Bandung       Sales  Jewelry Sales   \n",
       "430  1400000   INV1430  Customer D     Bali       Sales  Jewelry Sales   \n",
       "453  1300000   INV1453  Customer B    Medan       Sales  Jewelry Sales   \n",
       "978 -1447272      None        None     None     Expense       Supplies   \n",
       "181  1400000   INV1181  Customer D    Medan       Sales  Jewelry Sales   \n",
       "\n",
       "     Account AccountType  Year  Month  \n",
       "584     4000     Revenue  2025      8  \n",
       "430     4000     Revenue  2025      8  \n",
       "453     4000     Revenue  2025      8  \n",
       "978     6400        OPEX  2025      8  \n",
       "181     4000     Revenue  2025      7  "
      ]
     },
     "execution_count": 429,
     "metadata": {},
     "output_type": "execute_result"
    }
   ],
   "source": [
    "# Type Casting\n",
    "transactions['Date'] = pd.to_datetime(transactions['Date'])\n",
    "transactions['Amount'] = pd.to_numeric(transactions['Amount'], errors='coerce')\n",
    "\n",
    "# Buat mapping manual\n",
    "category_mapping = {\n",
    "    \"Jewelry\": \"Jewelry Sales\",     # dari Sales\n",
    "    \"Salaries\": \"Salaries\",\n",
    "    \"Supplies\": \"Supplies\",\n",
    "    \"Marketing\": \"Marketing\",\n",
    "    \"Delivery\": \"Delivery\",\n",
    "    \"Rent\": \"Rent\",\n",
    "    \"Utilities\": \"Utilities\",\n",
    "    \"Product Cost\": \"Product Cost\" # Tidak ada match\n",
    "}\n",
    "\n",
    "# Buat kolom kategori baru untuk merge\n",
    "transactions[\"Category_COA\"] = transactions[\"Category\"].map(category_mapping)\n",
    "\n",
    "# Merge dengan COA\n",
    "transactions_merged = transactions.merge(coa, how=\"left\", left_on=\"Category_COA\", right_on=\"Category\")\n",
    "\n",
    "# Hapus duplikat kolom Category dari COA (optional)\n",
    "transactions_merged = transactions_merged.drop(columns=[\"Category_y\"]).rename(columns={\"Category_x\":\"Category\"})\n",
    "\n",
    "# Type Casting kolom Account\n",
    "transactions_merged['Account'] = pd.to_numeric(transactions_merged['Account'], errors='coerce')\n",
    "\n",
    "# Add year & month\n",
    "transactions_merged['Year'] = transactions_merged['Date'].dt.year\n",
    "transactions_merged['Month'] = transactions_merged['Date'].dt.month\n",
    "\n",
    "transactions_merged.sample(5)"
   ]
  },
  {
   "cell_type": "code",
   "execution_count": 430,
   "id": "0c88aa5a-0785-479e-96ec-6b3ae427fac0",
   "metadata": {},
   "outputs": [
    {
     "name": "stdout",
     "output_type": "stream",
     "text": [
      "<class 'pandas.core.frame.DataFrame'>\n",
      "RangeIndex: 1071 entries, 0 to 1070\n",
      "Data columns (total 14 columns):\n",
      " #   Column        Non-Null Count  Dtype         \n",
      "---  ------        --------------  -----         \n",
      " 0   Date          1071 non-null   datetime64[ns]\n",
      " 1   Category      1071 non-null   object        \n",
      " 2   Product       887 non-null    object        \n",
      " 3   Description   184 non-null    object        \n",
      " 4   Amount        1071 non-null   int64         \n",
      " 5   InvoiceNo     887 non-null    object        \n",
      " 6   Customer      887 non-null    object        \n",
      " 7   Region        887 non-null    object        \n",
      " 8   Source_Type   1071 non-null   object        \n",
      " 9   Category_COA  1071 non-null   object        \n",
      " 10  Account       1071 non-null   int64         \n",
      " 11  AccountType   1071 non-null   object        \n",
      " 12  Year          1071 non-null   int32         \n",
      " 13  Month         1071 non-null   int32         \n",
      "dtypes: datetime64[ns](1), int32(2), int64(2), object(9)\n",
      "memory usage: 108.9+ KB\n"
     ]
    }
   ],
   "source": [
    "transactions_merged.info()"
   ]
  },
  {
   "cell_type": "code",
   "execution_count": 431,
   "id": "18cee8da-87c4-4603-b0a9-8c55123d21f2",
   "metadata": {},
   "outputs": [
    {
     "name": "stdout",
     "output_type": "stream",
     "text": [
      "⚠️ Peringatan: Ada transaksi yang tidak terpetakan di COA!\n",
      "\tDaftar kategori belum terpetakan: ['Product Cost']\n",
      "👉 Disimpan di Unmapped_Transactions.csv untuk review.\n"
     ]
    }
   ],
   "source": [
    "# Peringatan kalau ada transaksi tanpa mapping\n",
    "mapped_categories = set(category_mapping.keys())\n",
    "existing_categories = set(transactions_merged['Category'].unique())\n",
    "unused_in_transactions = mapped_categories - existing_categories\n",
    "output_unused_in_transactions = pd.DataFrame({'Category': list(unused_in_transactions)})\n",
    "\n",
    "if unused_in_transactions:\n",
    "    print(\"⚠️ Peringatan: Ada transaksi yang tidak terpetakan di COA!\\n\\tDaftar kategori belum terpetakan:\", list(unused_in_transactions))\n",
    "    output_unused_in_transactions.to_csv(\"output/Unmapped_Transactions.csv\", index=False)\n",
    "    print(\"👉 Disimpan di Unmapped_Transactions.csv untuk review.\")"
   ]
  },
  {
   "cell_type": "markdown",
   "id": "bbfb0293-b80f-45dc-9a72-530c2e9fe2fe",
   "metadata": {
    "jp-MarkdownHeadingCollapsed": true
   },
   "source": [
    "# Automation"
   ]
  },
  {
   "cell_type": "markdown",
   "id": "59ad5be3-fb20-40f6-8455-4759cc5d927b",
   "metadata": {
    "jp-MarkdownHeadingCollapsed": true
   },
   "source": [
    "## Laporan Laba Rugi bulanan"
   ]
  },
  {
   "cell_type": "code",
   "execution_count": 451,
   "id": "936da760-4527-4492-9670-7b7a0b848b90",
   "metadata": {},
   "outputs": [
    {
     "name": "stdout",
     "output_type": "stream",
     "text": [
      "⚠️ Warning: Ada akun yang tidak muncul di transaksi bulan ini: ['COGS']\n"
     ]
    },
    {
     "data": {
      "text/html": [
       "<div>\n",
       "<style scoped>\n",
       "    .dataframe tbody tr th:only-of-type {\n",
       "        vertical-align: middle;\n",
       "    }\n",
       "\n",
       "    .dataframe tbody tr th {\n",
       "        vertical-align: top;\n",
       "    }\n",
       "\n",
       "    .dataframe thead th {\n",
       "        text-align: right;\n",
       "    }\n",
       "</style>\n",
       "<table border=\"1\" class=\"dataframe\">\n",
       "  <thead>\n",
       "    <tr style=\"text-align: right;\">\n",
       "      <th>AccountType</th>\n",
       "      <th>Period</th>\n",
       "      <th>Revenue</th>\n",
       "      <th>Expense</th>\n",
       "      <th>Net Profit</th>\n",
       "      <th>Year</th>\n",
       "      <th>Month</th>\n",
       "      <th>OPEX</th>\n",
       "      <th>COGS</th>\n",
       "    </tr>\n",
       "  </thead>\n",
       "  <tbody>\n",
       "    <tr>\n",
       "      <th>0</th>\n",
       "      <td>Jul 2025</td>\n",
       "      <td>354100000</td>\n",
       "      <td>162071155</td>\n",
       "      <td>192028845</td>\n",
       "      <td>2025</td>\n",
       "      <td>7</td>\n",
       "      <td>-162071155</td>\n",
       "      <td>0</td>\n",
       "    </tr>\n",
       "    <tr>\n",
       "      <th>1</th>\n",
       "      <td>Aug 2025</td>\n",
       "      <td>315250000</td>\n",
       "      <td>164949350</td>\n",
       "      <td>150300650</td>\n",
       "      <td>2025</td>\n",
       "      <td>8</td>\n",
       "      <td>-164949350</td>\n",
       "      <td>0</td>\n",
       "    </tr>\n",
       "    <tr>\n",
       "      <th>2</th>\n",
       "      <td>Sep 2025</td>\n",
       "      <td>328250000</td>\n",
       "      <td>156984349</td>\n",
       "      <td>171265651</td>\n",
       "      <td>2025</td>\n",
       "      <td>9</td>\n",
       "      <td>-156984349</td>\n",
       "      <td>0</td>\n",
       "    </tr>\n",
       "  </tbody>\n",
       "</table>\n",
       "</div>"
      ],
      "text/plain": [
       "AccountType    Period    Revenue    Expense  Net Profit  Year  Month  \\\n",
       "0            Jul 2025  354100000  162071155   192028845  2025      7   \n",
       "1            Aug 2025  315250000  164949350   150300650  2025      8   \n",
       "2            Sep 2025  328250000  156984349   171265651  2025      9   \n",
       "\n",
       "AccountType       OPEX  COGS  \n",
       "0           -162071155     0  \n",
       "1           -164949350     0  \n",
       "2           -156984349     0  "
      ]
     },
     "execution_count": 451,
     "metadata": {},
     "output_type": "execute_result"
    }
   ],
   "source": [
    "# Daftar AccountType yang diharapkan (berdasarkan COA)\n",
    "expected_types = list(set(pd.read_excel(\"03. Mapping_COA.xlsx\")['AccountType']))  # ['Revenue', 'OPEX', 'COGS']\n",
    "\n",
    "# Deteksi akun yang diharapkan tapi tidak ada di transaksi\n",
    "missing_accounts = [acct for acct in expected_types if acct not in transactions_merged['AccountType'].unique()]\n",
    "\n",
    "if missing_accounts:\n",
    "    print(\"⚠️ Warning: Ada akun yang tidak muncul di transaksi bulan ini:\", missing_accounts)\n",
    "else:\n",
    "    print(\"✅ Semua akun utama (Revenue, OPEX, COGS) ada di data transaksi.\")\n",
    "\n",
    "# Pivot transaksi berdasarkan AccountType\n",
    "pnl = transactions_merged.pivot_table(\n",
    "    index=['Year', 'Month'],\n",
    "    columns='AccountType',\n",
    "    values='Amount',\n",
    "    aggfunc='sum',\n",
    "    fill_value=0\n",
    ").reset_index()\n",
    "\n",
    "# Pastikan semua tipe akun yang diharapkan muncul, walaupun 0\n",
    "for acct in expected_types:\n",
    "    if acct not in pnl.columns:\n",
    "        pnl[acct] = 0  # tambahkan kolom kosong\n",
    "\n",
    "# Hitung Expense = OPEX + COGS\n",
    "pnl['Expense'] = abs(pnl['OPEX'] + pnl['COGS'])\n",
    "\n",
    "# Hitung Net Profit = Revenue - Expense\n",
    "pnl['Net Profit'] = pnl['Revenue'] - pnl['Expense']\n",
    "\n",
    "# Tambahkan kolom periode (untuk visualisasi)\n",
    "pnl['Period'] = pd.to_datetime(pnl[['Year','Month']].assign(day=1)).dt.strftime('%b %Y')\n",
    "\n",
    "# Urutkan kolom dengan urutan yang lebih logis\n",
    "cols = ['Period', 'Revenue', 'Expense', 'Net Profit']\n",
    "for c in pnl.columns:\n",
    "    if c not in cols:\n",
    "        cols.append(c)\n",
    "\n",
    "pnl_final = pnl[cols].copy()\n",
    "pnl_final.head()"
   ]
  },
  {
   "cell_type": "code",
   "execution_count": 452,
   "id": "9656c989-286a-4e46-a2bb-dea96af923ed",
   "metadata": {},
   "outputs": [
    {
     "name": "stdout",
     "output_type": "stream",
     "text": [
      "<class 'pandas.core.frame.DataFrame'>\n",
      "RangeIndex: 3 entries, 0 to 2\n",
      "Data columns (total 8 columns):\n",
      " #   Column      Non-Null Count  Dtype \n",
      "---  ------      --------------  ----- \n",
      " 0   Period      3 non-null      object\n",
      " 1   Revenue     3 non-null      int64 \n",
      " 2   Expense     3 non-null      int64 \n",
      " 3   Net Profit  3 non-null      int64 \n",
      " 4   Year        3 non-null      int32 \n",
      " 5   Month       3 non-null      int32 \n",
      " 6   OPEX        3 non-null      int64 \n",
      " 7   COGS        3 non-null      int64 \n",
      "dtypes: int32(2), int64(5), object(1)\n",
      "memory usage: 296.0+ bytes\n"
     ]
    }
   ],
   "source": [
    "pnl_final.info()"
   ]
  },
  {
   "cell_type": "code",
   "execution_count": 453,
   "id": "9bd271ab-bbdb-4ab1-8a87-8efef7188d6c",
   "metadata": {
    "scrolled": true
   },
   "outputs": [],
   "source": [
    "# Import raw data for saving\n",
    "sales = pd.read_excel(\"01. Sales.xlsx\")\n",
    "expenses = pd.read_excel(\"02. Expenses.xlsx\")\n",
    "coa = pd.read_excel(\"03. Mapping_COA.xlsx\")\n",
    "\n",
    "# Save to Excel\n",
    "with pd.ExcelWriter(\"output/Finance_Report_Automation.xlsx\", engine='openpyxl') as writer:\n",
    "    transactions.to_excel(writer, sheet_name='Transactions', index=False)\n",
    "    pnl_final.to_excel(writer, sheet_name='Monthly_PnL', index=False)\n",
    "    sales.to_excel(writer, sheet_name='Sales', index=False)\n",
    "    expenses.to_excel(writer, sheet_name='Expenses', index=False)\n",
    "    coa.to_excel(writer, sheet_name='Mapping_COA', index=False)"
   ]
  },
  {
   "cell_type": "markdown",
   "id": "114fcc18-84d3-4500-9497-d318656577c2",
   "metadata": {
    "jp-MarkdownHeadingCollapsed": true
   },
   "source": [
    "# Reporting & Insights"
   ]
  },
  {
   "cell_type": "markdown",
   "id": "6123bf1f-efb9-4726-977b-41f2780f2d5f",
   "metadata": {
    "jp-MarkdownHeadingCollapsed": true
   },
   "source": [
    "## Insights"
   ]
  },
  {
   "cell_type": "code",
   "execution_count": 454,
   "id": "621296eb-c563-4ea4-9079-3bb34ed2e4ef",
   "metadata": {},
   "outputs": [
    {
     "data": {
      "text/html": [
       "<div>\n",
       "<style scoped>\n",
       "    .dataframe tbody tr th:only-of-type {\n",
       "        vertical-align: middle;\n",
       "    }\n",
       "\n",
       "    .dataframe tbody tr th {\n",
       "        vertical-align: top;\n",
       "    }\n",
       "\n",
       "    .dataframe thead th {\n",
       "        text-align: right;\n",
       "    }\n",
       "</style>\n",
       "<table border=\"1\" class=\"dataframe\">\n",
       "  <thead>\n",
       "    <tr style=\"text-align: right;\">\n",
       "      <th>AccountType</th>\n",
       "      <th>Period</th>\n",
       "      <th>Revenue</th>\n",
       "      <th>Expense</th>\n",
       "      <th>Net Profit</th>\n",
       "      <th>Year</th>\n",
       "      <th>Month</th>\n",
       "      <th>OPEX</th>\n",
       "      <th>COGS</th>\n",
       "      <th>Margin (%)</th>\n",
       "    </tr>\n",
       "  </thead>\n",
       "  <tbody>\n",
       "    <tr>\n",
       "      <th>0</th>\n",
       "      <td>Jul 2025</td>\n",
       "      <td>354100000</td>\n",
       "      <td>162071155</td>\n",
       "      <td>192028845</td>\n",
       "      <td>2025</td>\n",
       "      <td>7</td>\n",
       "      <td>-162071155</td>\n",
       "      <td>0</td>\n",
       "      <td>54.230117</td>\n",
       "    </tr>\n",
       "    <tr>\n",
       "      <th>1</th>\n",
       "      <td>Aug 2025</td>\n",
       "      <td>315250000</td>\n",
       "      <td>164949350</td>\n",
       "      <td>150300650</td>\n",
       "      <td>2025</td>\n",
       "      <td>8</td>\n",
       "      <td>-164949350</td>\n",
       "      <td>0</td>\n",
       "      <td>47.676653</td>\n",
       "    </tr>\n",
       "    <tr>\n",
       "      <th>2</th>\n",
       "      <td>Sep 2025</td>\n",
       "      <td>328250000</td>\n",
       "      <td>156984349</td>\n",
       "      <td>171265651</td>\n",
       "      <td>2025</td>\n",
       "      <td>9</td>\n",
       "      <td>-156984349</td>\n",
       "      <td>0</td>\n",
       "      <td>52.175370</td>\n",
       "    </tr>\n",
       "  </tbody>\n",
       "</table>\n",
       "</div>"
      ],
      "text/plain": [
       "AccountType    Period    Revenue    Expense  Net Profit  Year  Month  \\\n",
       "0            Jul 2025  354100000  162071155   192028845  2025      7   \n",
       "1            Aug 2025  315250000  164949350   150300650  2025      8   \n",
       "2            Sep 2025  328250000  156984349   171265651  2025      9   \n",
       "\n",
       "AccountType       OPEX  COGS  Margin (%)  \n",
       "0           -162071155     0   54.230117  \n",
       "1           -164949350     0   47.676653  \n",
       "2           -156984349     0   52.175370  "
      ]
     },
     "execution_count": 454,
     "metadata": {},
     "output_type": "execute_result"
    }
   ],
   "source": [
    "# Pastikan ada kolom Margin\n",
    "pnl_df = pnl_final.copy()\n",
    "pnl_df['Margin (%)'] = (pnl_df['Net Profit'] / pnl_df['Revenue']) * 100\n",
    "\n",
    "pnl_df.head()"
   ]
  },
  {
   "cell_type": "code",
   "execution_count": 455,
   "id": "1cc8cebe-9496-49ca-b859-43932c32a203",
   "metadata": {},
   "outputs": [
    {
     "name": "stdout",
     "output_type": "stream",
     "text": [
      "Revenue Change: -7.300197684269981\n",
      "Expense Change: -3.1386251304249666\n"
     ]
    }
   ],
   "source": [
    "# 1 - Revenue & Expense trend\n",
    "pnl_sorted = pnl_df.sort_values(['Year', 'Month'])\n",
    "rev_change = ((pnl_sorted['Revenue'].iloc[-1] - pnl_sorted['Revenue'].iloc[0]) / pnl_sorted['Revenue'].iloc[0]) * 100\n",
    "exp_change = ((pnl_sorted['Expense'].iloc[-1] - pnl_sorted['Expense'].iloc[0]) / pnl_sorted['Expense'].iloc[0]) * 100\n",
    "\n",
    "print(f\"Revenue Change: {rev_change}\")\n",
    "print(f\"Expense Change: {exp_change}\")"
   ]
  },
  {
   "cell_type": "code",
   "execution_count": 458,
   "id": "921e5251-7860-4016-aae1-d583494662c9",
   "metadata": {},
   "outputs": [
    {
     "name": "stdout",
     "output_type": "stream",
     "text": [
      "---Best Margin--- \n",
      "AccountType\n",
      "Period          Jul 2025\n",
      "Revenue        354100000\n",
      "Expense        162071155\n",
      "Net Profit     192028845\n",
      "Year                2025\n",
      "Month                  7\n",
      "OPEX          -162071155\n",
      "COGS                   0\n",
      "Margin (%)     54.230117\n",
      "Name: 0, dtype: object\n",
      "---Worst Margin---\n",
      "AccountType\n",
      "Period          Aug 2025\n",
      "Revenue        315250000\n",
      "Expense        164949350\n",
      "Net Profit     150300650\n",
      "Year                2025\n",
      "Month                  8\n",
      "OPEX          -164949350\n",
      "COGS                   0\n",
      "Margin (%)     47.676653\n",
      "Name: 1, dtype: object\n"
     ]
    }
   ],
   "source": [
    "# 2 - Margin performance\n",
    "best_margin = pnl_df.loc[pnl_df['Margin (%)'].idxmax()]\n",
    "worst_margin = pnl_df.loc[pnl_df['Margin (%)'].idxmin()]\n",
    "\n",
    "print(f\"---Best Margin--- \\n{best_margin}\")\n",
    "print(f\"---Worst Margin---\\n{worst_margin}\")"
   ]
  },
  {
   "cell_type": "code",
   "execution_count": 460,
   "id": "ad47e58e-697e-4523-8762-468436d691c4",
   "metadata": {},
   "outputs": [
    {
     "name": "stdout",
     "output_type": "stream",
     "text": [
      "Average Expense Ratio: 48.639286554695786\n"
     ]
    }
   ],
   "source": [
    "# 3 - Expense efficiency\n",
    "avg_expense_ratio = (pnl_df['Expense'] / pnl_df['Revenue']).mean() * 100\n",
    "\n",
    "print(f\"Average Expense Ratio: {avg_expense_ratio}\")"
   ]
  },
  {
   "cell_type": "code",
   "execution_count": 462,
   "id": "53fc1155-9196-49b8-a964-6893f283ad68",
   "metadata": {},
   "outputs": [
    {
     "name": "stdout",
     "output_type": "stream",
     "text": [
      "Net profit shows a declining trend.\n"
     ]
    }
   ],
   "source": [
    "# 4 - Net Profit direction\n",
    "if pnl_sorted['Net Profit'].iloc[-1] > pnl_sorted['Net Profit'].iloc[0]:\n",
    "    profit_trend = \"Net profit is improving over time.\"\n",
    "    print(profit_trend)\n",
    "else:\n",
    "    profit_trend = \"Net profit shows a declining trend.\"\n",
    "    print(profit_trend)"
   ]
  },
  {
   "cell_type": "code",
   "execution_count": 463,
   "id": "4905e73f-83af-4714-a9ae-6bfcadbead0c",
   "metadata": {},
   "outputs": [
    {
     "name": "stdout",
     "output_type": "stream",
     "text": [
      "Most cost-efficient month was Jul 2025 with only 45.8% expense-to-revenue ratio.\n"
     ]
    }
   ],
   "source": [
    "# 5 - Most Efficient month\n",
    "best_efficiency = pnl_df.loc[(pnl_df['Expense']/pnl_df['Revenue']).idxmin()]\n",
    "print(f\"Most cost-efficient month was {best_efficiency['Period']} with only {(best_efficiency['Expense']/best_efficiency['Revenue']*100):.1f}% expense-to-revenue ratio.\")"
   ]
  },
  {
   "cell_type": "markdown",
   "id": "8f8f46d6-362f-4064-91be-fde7a1339421",
   "metadata": {
    "jp-MarkdownHeadingCollapsed": true
   },
   "source": [
    "## Visualisasi"
   ]
  },
  {
   "cell_type": "code",
   "execution_count": 466,
   "id": "75ab2e6c-3a09-41ce-8e6d-777951449c60",
   "metadata": {},
   "outputs": [
    {
     "data": {
      "image/png": "[encoded data removed]",
      "text/plain": [
       "<Figure size 1200x600 with 1 Axes>"
      ]
     },
     "metadata": {},
     "output_type": "display_data"
    }
   ],
   "source": [
    "# Siapkan data untuk plot\n",
    "plot_data = pnl_final.set_index('Period')[['Revenue', 'Net Profit']]\n",
    "\n",
    "# Plot\n",
    "plt.figure(figsize=(12, 6))\n",
    "plt.plot(plot_data.index, plot_data['Revenue'], marker='o', label='Revenue')\n",
    "plt.plot(plot_data.index, plot_data['Net Profit'], marker='s', label='Net Profit')\n",
    "plt.title('Monthly Revenue vs Net Profit (Jul–Sep 2025)')\n",
    "plt.ylabel('Amount (IDR)')\n",
    "plt.legend()\n",
    "plt.grid(True)\n",
    "plt.tight_layout()\n",
    "plt.show()"
   ]
  },
  {
   "cell_type": "code",
   "execution_count": 488,
   "id": "1147fa8f-7b79-4095-a90d-635470d43224",
   "metadata": {},
   "outputs": [
    {
     "data": {
      "image/png": "[encoded data removed]",
      "text/plain": [
       "<Figure size 1400x700 with 2 Axes>"
      ]
     },
     "metadata": {},
     "output_type": "display_data"
    }
   ],
   "source": [
    "# Validate data\n",
    "required_cols = ['Period', 'Revenue', 'Net Profit']\n",
    "missing_cols = [col for col in required_cols if col not in pnl_df.columns]\n",
    "\n",
    "if missing_cols:\n",
    "    raise ValueError(f\"Missing required columns: {missing_cols}\")\n",
    "\n",
    "# Create figure with two y-axes\n",
    "fig, ax1 = plt.subplots(figsize=(14, 7))\n",
    "ax2 = ax1.twinx()\n",
    "\n",
    "# Color scheme\n",
    "colors = {\n",
    "    'revenue': '#2E86DE',\n",
    "    'profit': '#10AC84',\n",
    "    'loss': '#EE5A6F',\n",
    "    'margin': '#F79F1F',\n",
    "}\n",
    "\n",
    "# Prepare x-axis\n",
    "x = range(len(pnl_df))\n",
    "x_labels = pnl_df['Period'].tolist()\n",
    "\n",
    "# Plot Revenue\n",
    "line1 = ax1.plot(x, pnl_df['Revenue'], \n",
    "                 color=colors['revenue'], \n",
    "                 linewidth=3, \n",
    "                 marker='o', \n",
    "                 markersize=10,\n",
    "                 markerfacecolor=colors['revenue'],\n",
    "                 markeredgecolor='white',\n",
    "                 markeredgewidth=2,\n",
    "                 label='Revenue',\n",
    "                 zorder=3)\n",
    "\n",
    "# Fill under Revenue line\n",
    "ax1.fill_between(x, pnl_df['Revenue'], alpha=0.1, color=colors['revenue'])\n",
    "\n",
    "# Plot Net Profit with conditional colors\n",
    "profit_colors = [colors['profit'] if p >= 0 else colors['loss'] \n",
    "                 for p in pnl_df['Net Profit']]\n",
    "\n",
    "line2 = ax1.plot(x, pnl_df['Net Profit'],\n",
    "                 color=colors['profit'],\n",
    "                 linewidth=3,\n",
    "                 marker='o',\n",
    "                 markersize=10,\n",
    "                 markerfacecolor=colors['profit'],\n",
    "                 markeredgecolor='white',\n",
    "                 markeredgewidth=2,\n",
    "                 label='Net Profit',\n",
    "                 zorder=3)\n",
    "\n",
    "# Add colored markers for profit/loss\n",
    "for i, (xi, yi, c) in enumerate(zip(x, pnl_df['Net Profit'], profit_colors)):\n",
    "    ax1.plot(xi, yi, 'o', markersize=10, \n",
    "            color=c, markeredgecolor='white', markeredgewidth=2, zorder=4)\n",
    "\n",
    "# Plot Margin (%) on secondary axis\n",
    "if 'Margin (%)' in pnl_df.columns:\n",
    "    line3 = ax2.plot(x, pnl_df['Margin (%)'],\n",
    "                    color=colors['margin'],\n",
    "                    linewidth=2,\n",
    "                    linestyle='--',\n",
    "                    marker='D',\n",
    "                    markersize=8,\n",
    "                    markerfacecolor=colors['margin'],\n",
    "                    markeredgecolor='white',\n",
    "                    markeredgewidth=2,\n",
    "                    label='Margin (%)',\n",
    "                    zorder=3)\n",
    "\n",
    "# Add value annotations\n",
    "for i, (xi, period) in enumerate(zip(x, pnl_df['Period'])):\n",
    "    # Revenue annotation\n",
    "    revenue_val = pnl_df['Revenue'].iloc[i]\n",
    "    ax1.annotate(f'IDR {revenue_val:,.0f}',\n",
    "                xy=(xi, revenue_val),\n",
    "                xytext=(0, 15),\n",
    "                textcoords='offset points',\n",
    "                ha='center',\n",
    "                fontsize=9,\n",
    "                color=colors['revenue'],\n",
    "                weight='bold',\n",
    "                bbox=dict(boxstyle='round,pad=0.5', \n",
    "                        facecolor='white', \n",
    "                        edgecolor=colors['revenue'],\n",
    "                        alpha=0.9))\n",
    "    \n",
    "    # Net Profit annotation\n",
    "    profit_val = pnl_df['Net Profit'].iloc[i]\n",
    "    profit_color = colors['profit'] if profit_val >= 0 else colors['loss']\n",
    "    ax1.annotate(f'IDR {profit_val:,.0f}',\n",
    "                xy=(xi, profit_val),\n",
    "                xytext=(0, -25),\n",
    "                textcoords='offset points',\n",
    "                ha='center',\n",
    "                fontsize=9,\n",
    "                color=profit_color,\n",
    "                weight='bold',\n",
    "                bbox=dict(boxstyle='round,pad=0.5',\n",
    "                        facecolor='white',\n",
    "                        edgecolor=profit_color,\n",
    "                        alpha=0.9))\n",
    "    \n",
    "    # Margin annotation\n",
    "    if 'Margin (%)' in pnl_df.columns:\n",
    "        margin_val = pnl_df['Margin (%)'].iloc[i]\n",
    "        ax2.annotate(f'{margin_val:.1f}%',\n",
    "                    xy=(xi, margin_val),\n",
    "                    xytext=(20, 8),\n",
    "                    textcoords='offset points',\n",
    "                    ha='left',\n",
    "                    fontsize=9,\n",
    "                    color=colors['margin'],\n",
    "                    weight='bold',\n",
    "                    bbox=dict(boxstyle='round,pad=0.5',\n",
    "                            facecolor='white',\n",
    "                            edgecolor=colors['margin'],\n",
    "                            alpha=0.9))\n",
    "\n",
    "# Formatting\n",
    "ax1.set_xlabel('Period', fontsize=14, weight='bold')\n",
    "ax1.set_ylabel('Amount (IDR)', fontsize=14, weight='bold')\n",
    "ax1.set_xticks(x)\n",
    "ax1.set_xticklabels(x_labels, fontsize=12)\n",
    "ax1.tick_params(axis='y', labelsize=12)\n",
    "ax1.grid(True, alpha=0.3, linestyle='-', linewidth=0.5)\n",
    "ax1.set_axisbelow(True)\n",
    "\n",
    "if 'Margin (%)' in pnl_df.columns:\n",
    "    ax2.set_ylabel('Margin (%)', fontsize=14, weight='bold', color=colors['margin'])\n",
    "    ax2.tick_params(axis='y', labelcolor=colors['margin'], labelsize=12)\n",
    "    ax2.set_ylim(bottom=0)\n",
    "\n",
    "# Title\n",
    "fig.suptitle(\"Monthly Revenue, Net Profit & Margin Analysis\", fontsize=18, weight='bold', color='#2c3e50')\n",
    "\n",
    "# Legend\n",
    "lines1, labels1 = ax1.get_legend_handles_labels()\n",
    "if 'Margin (%)' in pnl_df.columns:\n",
    "    lines2, labels2 = ax2.get_legend_handles_labels()\n",
    "    ax1.legend(lines1 + lines2, labels1 + labels2, \n",
    "              loc='upper center', bbox_to_anchor=(0.5, -0.1),\n",
    "              ncol=3, fontsize=12, frameon=True, fancybox=True)\n",
    "else:\n",
    "    ax1.legend(loc='upper center', bbox_to_anchor=(0.5, -0.1),\n",
    "              ncol=2, fontsize=12, frameon=True, fancybox=True)\n",
    "\n",
    "# Layout\n",
    "plt.tight_layout()\n",
    "plt.show()"
   ]
  },
  {
   "cell_type": "code",
   "execution_count": 485,
   "id": "0d5520f0-347a-41ef-b4af-b73fc5ad8d00",
   "metadata": {},
   "outputs": [
    {
     "name": "stdout",
     "output_type": "stream",
     "text": [
      "Creating Fixed Version...\n"
     ]
    },
    {
     "data": {
      "application/vnd.plotly.v1+json": {
       "config": {
        "plotlyServerURL": "https://plot.ly"
       },
       "data": [
        {
         "hovertemplate": "<b>Revenue</b><br>Period: %{x}<br>Amount: IDR %{y:,.0f}<extra></extra>",
         "line": {
          "color": "#1f77b4",
          "width": 3
         },
         "marker": {
          "size": 8
         },
         "mode": "lines+markers+text",
         "name": "Revenue",
         "text": [
          "354,100,000",
          "315,250,000",
          "328,250,000"
         ],
         "textfont": {
          "size": 10
         },
         "textposition": "top center",
         "type": "scatter",
         "x": [
          "Jul 2025",
          "Aug 2025",
          "Sep 2025"
         ],
         "y": {
          "bdata": "ICMbFVBVyhKQspAT",
          "dtype": "i4"
         }
        },
        {
         "hovertemplate": "<b>Net Profit</b><br>Period: %{x}<br>Amount: IDR %{y:,.0f}<extra></extra>",
         "line": {
          "color": "#2ca02c",
          "width": 3
         },
         "marker": {
          "size": 8
         },
         "mode": "lines+markers+text",
         "name": "Net Profit",
         "text": [
          "192,028,845",
          "150,300,650",
          "171,265,651"
         ],
         "textfont": {
          "size": 10
         },
         "textposition": "bottom center",
         "type": "scatter",
         "x": [
          "Jul 2025",
          "Aug 2025",
          "Sep 2025"
         ],
         "y": {
          "bdata": "rSByC+pn9QhzTjUK",
          "dtype": "i4"
         }
        },
        {
         "hovertemplate": "<b>Margin</b><br>Period: %{x}<br>Percentage: %{y:.1f}%<extra></extra>",
         "line": {
          "color": "#ff7f0e",
          "dash": "dot",
          "width": 2
         },
         "marker": {
          "size": 7
         },
         "mode": "lines+markers+text",
         "name": "Margin (%)",
         "text": [
          "54.2%",
          "47.7%",
          "52.2%"
         ],
         "textfont": {
          "size": 10
         },
         "textposition": "top right",
         "type": "scatter",
         "x": [
          "Jul 2025",
          "Aug 2025",
          "Sep 2025"
         ],
         "y": {
          "bdata": "Tvj4enQdS0CweIqUnNZHQLHFkINyFkpA",
          "dtype": "f8"
         },
         "yaxis": "y2"
        }
       ],
       "layout": {
        "height": 600,
        "hovermode": "x unified",
        "legend": {
         "bgcolor": "rgba(255,255,255,0.8)",
         "orientation": "h",
         "x": 0.5,
         "xanchor": "center",
         "y": -0.2,
         "yanchor": "bottom"
        },
        "template": {
         "data": {
          "bar": [
           {
            "error_x": {
             "color": "#2a3f5f"
            },
            "error_y": {
             "color": "#2a3f5f"
            },
            "marker": {
             "line": {
              "color": "white",
              "width": 0.5
             },
             "pattern": {
              "fillmode": "overlay",
              "size": 10,
              "solidity": 0.2
             }
            },
            "type": "bar"
           }
          ],
          "barpolar": [
           {
            "marker": {
             "line": {
              "color": "white",
              "width": 0.5
             },
             "pattern": {
              "fillmode": "overlay",
              "size": 10,
              "solidity": 0.2
             }
            },
            "type": "barpolar"
           }
          ],
          "carpet": [
           {
            "aaxis": {
             "endlinecolor": "#2a3f5f",
             "gridcolor": "#C8D4E3",
             "linecolor": "#C8D4E3",
             "minorgridcolor": "#C8D4E3",
             "startlinecolor": "#2a3f5f"
            },
            "baxis": {
             "endlinecolor": "#2a3f5f",
             "gridcolor": "#C8D4E3",
             "linecolor": "#C8D4E3",
             "minorgridcolor": "#C8D4E3",
             "startlinecolor": "#2a3f5f"
            },
            "type": "carpet"
           }
          ],
          "choropleth": [
           {
            "colorbar": {
             "outlinewidth": 0,
             "ticks": ""
            },
            "type": "choropleth"
           }
          ],
          "contour": [
           {
            "colorbar": {
             "outlinewidth": 0,
             "ticks": ""
            },
            "colorscale": [
             [
              0,
              "#0d0887"
             ],
             [
              0.1111111111111111,
              "#46039f"
             ],
             [
              0.2222222222222222,
              "#7201a8"
             ],
             [
              0.3333333333333333,
              "#9c179e"
             ],
             [
              0.4444444444444444,
              "#bd3786"
             ],
             [
              0.5555555555555556,
              "#d8576b"
             ],
             [
              0.6666666666666666,
              "#ed7953"
             ],
             [
              0.7777777777777778,
              "#fb9f3a"
             ],
             [
              0.8888888888888888,
              "#fdca26"
             ],
             [
              1,
              "#f0f921"
             ]
            ],
            "type": "contour"
           }
          ],
          "contourcarpet": [
           {
            "colorbar": {
             "outlinewidth": 0,
             "ticks": ""
            },
            "type": "contourcarpet"
           }
          ],
          "heatmap": [
           {
            "colorbar": {
             "outlinewidth": 0,
             "ticks": ""
            },
            "colorscale": [
             [
              0,
              "#0d0887"
             ],
             [
              0.1111111111111111,
              "#46039f"
             ],
             [
              0.2222222222222222,
              "#7201a8"
             ],
             [
              0.3333333333333333,
              "#9c179e"
             ],
             [
              0.4444444444444444,
              "#bd3786"
             ],
             [
              0.5555555555555556,
              "#d8576b"
             ],
             [
              0.6666666666666666,
              "#ed7953"
             ],
             [
              0.7777777777777778,
              "#fb9f3a"
             ],
             [
              0.8888888888888888,
              "#fdca26"
             ],
             [
              1,
              "#f0f921"
             ]
            ],
            "type": "heatmap"
           }
          ],
          "histogram": [
           {
            "marker": {
             "pattern": {
              "fillmode": "overlay",
              "size": 10,
              "solidity": 0.2
             }
            },
            "type": "histogram"
           }
          ],
          "histogram2d": [
           {
            "colorbar": {
             "outlinewidth": 0,
             "ticks": ""
            },
            "colorscale": [
             [
              0,
              "#0d0887"
             ],
             [
              0.1111111111111111,
              "#46039f"
             ],
             [
              0.2222222222222222,
              "#7201a8"
             ],
             [
              0.3333333333333333,
              "#9c179e"
             ],
             [
              0.4444444444444444,
              "#bd3786"
             ],
             [
              0.5555555555555556,
              "#d8576b"
             ],
             [
              0.6666666666666666,
              "#ed7953"
             ],
             [
              0.7777777777777778,
              "#fb9f3a"
             ],
             [
              0.8888888888888888,
              "#fdca26"
             ],
             [
              1,
              "#f0f921"
             ]
            ],
            "type": "histogram2d"
           }
          ],
          "histogram2dcontour": [
           {
            "colorbar": {
             "outlinewidth": 0,
             "ticks": ""
            },
            "colorscale": [
             [
              0,
              "#0d0887"
             ],
             [
              0.1111111111111111,
              "#46039f"
             ],
             [
              0.2222222222222222,
              "#7201a8"
             ],
             [
              0.3333333333333333,
              "#9c179e"
             ],
             [
              0.4444444444444444,
              "#bd3786"
             ],
             [
              0.5555555555555556,
              "#d8576b"
             ],
             [
              0.6666666666666666,
              "#ed7953"
             ],
             [
              0.7777777777777778,
              "#fb9f3a"
             ],
             [
              0.8888888888888888,
              "#fdca26"
             ],
             [
              1,
              "#f0f921"
             ]
            ],
            "type": "histogram2dcontour"
           }
          ],
          "mesh3d": [
           {
            "colorbar": {
             "outlinewidth": 0,
             "ticks": ""
            },
            "type": "mesh3d"
           }
          ],
          "parcoords": [
           {
            "line": {
             "colorbar": {
              "outlinewidth": 0,
              "ticks": ""
             }
            },
            "type": "parcoords"
           }
          ],
          "pie": [
           {
            "automargin": true,
            "type": "pie"
           }
          ],
          "scatter": [
           {
            "fillpattern": {
             "fillmode": "overlay",
             "size": 10,
             "solidity": 0.2
            },
            "type": "scatter"
           }
          ],
          "scatter3d": [
           {
            "line": {
             "colorbar": {
              "outlinewidth": 0,
              "ticks": ""
             }
            },
            "marker": {
             "colorbar": {
              "outlinewidth": 0,
              "ticks": ""
             }
            },
            "type": "scatter3d"
           }
          ],
          "scattercarpet": [
           {
            "marker": {
             "colorbar": {
              "outlinewidth": 0,
              "ticks": ""
             }
            },
            "type": "scattercarpet"
           }
          ],
          "scattergeo": [
           {
            "marker": {
             "colorbar": {
              "outlinewidth": 0,
              "ticks": ""
             }
            },
            "type": "scattergeo"
           }
          ],
          "scattergl": [
           {
            "marker": {
             "colorbar": {
              "outlinewidth": 0,
              "ticks": ""
             }
            },
            "type": "scattergl"
           }
          ],
          "scattermap": [
           {
            "marker": {
             "colorbar": {
              "outlinewidth": 0,
              "ticks": ""
             }
            },
            "type": "scattermap"
           }
          ],
          "scattermapbox": [
           {
            "marker": {
             "colorbar": {
              "outlinewidth": 0,
              "ticks": ""
             }
            },
            "type": "scattermapbox"
           }
          ],
          "scatterpolar": [
           {
            "marker": {
             "colorbar": {
              "outlinewidth": 0,
              "ticks": ""
             }
            },
            "type": "scatterpolar"
           }
          ],
          "scatterpolargl": [
           {
            "marker": {
             "colorbar": {
              "outlinewidth": 0,
              "ticks": ""
             }
            },
            "type": "scatterpolargl"
           }
          ],
          "scatterternary": [
           {
            "marker": {
             "colorbar": {
              "outlinewidth": 0,
              "ticks": ""
             }
            },
            "type": "scatterternary"
           }
          ],
          "surface": [
           {
            "colorbar": {
             "outlinewidth": 0,
             "ticks": ""
            },
            "colorscale": [
             [
              0,
              "#0d0887"
             ],
             [
              0.1111111111111111,
              "#46039f"
             ],
             [
              0.2222222222222222,
              "#7201a8"
             ],
             [
              0.3333333333333333,
              "#9c179e"
             ],
             [
              0.4444444444444444,
              "#bd3786"
             ],
             [
              0.5555555555555556,
              "#d8576b"
             ],
             [
              0.6666666666666666,
              "#ed7953"
             ],
             [
              0.7777777777777778,
              "#fb9f3a"
             ],
             [
              0.8888888888888888,
              "#fdca26"
             ],
             [
              1,
              "#f0f921"
             ]
            ],
            "type": "surface"
           }
          ],
          "table": [
           {
            "cells": {
             "fill": {
              "color": "#EBF0F8"
             },
             "line": {
              "color": "white"
             }
            },
            "header": {
             "fill": {
              "color": "#C8D4E3"
             },
             "line": {
              "color": "white"
             }
            },
            "type": "table"
           }
          ]
         },
         "layout": {
          "annotationdefaults": {
           "arrowcolor": "#2a3f5f",
           "arrowhead": 0,
           "arrowwidth": 1
          },
          "autotypenumbers": "strict",
          "coloraxis": {
           "colorbar": {
            "outlinewidth": 0,
            "ticks": ""
           }
          },
          "colorscale": {
           "diverging": [
            [
             0,
             "#8e0152"
            ],
            [
             0.1,
             "#c51b7d"
            ],
            [
             0.2,
             "#de77ae"
            ],
            [
             0.3,
             "#f1b6da"
            ],
            [
             0.4,
             "#fde0ef"
            ],
            [
             0.5,
             "#f7f7f7"
            ],
            [
             0.6,
             "#e6f5d0"
            ],
            [
             0.7,
             "#b8e186"
            ],
            [
             0.8,
             "#7fbc41"
            ],
            [
             0.9,
             "#4d9221"
            ],
            [
             1,
             "#276419"
            ]
           ],
           "sequential": [
            [
             0,
             "#0d0887"
            ],
            [
             0.1111111111111111,
             "#46039f"
            ],
            [
             0.2222222222222222,
             "#7201a8"
            ],
            [
             0.3333333333333333,
             "#9c179e"
            ],
            [
             0.4444444444444444,
             "#bd3786"
            ],
            [
             0.5555555555555556,
             "#d8576b"
            ],
            [
             0.6666666666666666,
             "#ed7953"
            ],
            [
             0.7777777777777778,
             "#fb9f3a"
            ],
            [
             0.8888888888888888,
             "#fdca26"
            ],
            [
             1,
             "#f0f921"
            ]
           ],
           "sequentialminus": [
            [
             0,
             "#0d0887"
            ],
            [
             0.1111111111111111,
             "#46039f"
            ],
            [
             0.2222222222222222,
             "#7201a8"
            ],
            [
             0.3333333333333333,
             "#9c179e"
            ],
            [
             0.4444444444444444,
             "#bd3786"
            ],
            [
             0.5555555555555556,
             "#d8576b"
            ],
            [
             0.6666666666666666,
             "#ed7953"
            ],
            [
             0.7777777777777778,
             "#fb9f3a"
            ],
            [
             0.8888888888888888,
             "#fdca26"
            ],
            [
             1,
             "#f0f921"
            ]
           ]
          },
          "colorway": [
           "#636efa",
           "#EF553B",
           "#00cc96",
           "#ab63fa",
           "#FFA15A",
           "#19d3f3",
           "#FF6692",
           "#B6E880",
           "#FF97FF",
           "#FECB52"
          ],
          "font": {
           "color": "#2a3f5f"
          },
          "geo": {
           "bgcolor": "white",
           "lakecolor": "white",
           "landcolor": "white",
           "showlakes": true,
           "showland": true,
           "subunitcolor": "#C8D4E3"
          },
          "hoverlabel": {
           "align": "left"
          },
          "hovermode": "closest",
          "mapbox": {
           "style": "light"
          },
          "paper_bgcolor": "white",
          "plot_bgcolor": "white",
          "polar": {
           "angularaxis": {
            "gridcolor": "#EBF0F8",
            "linecolor": "#EBF0F8",
            "ticks": ""
           },
           "bgcolor": "white",
           "radialaxis": {
            "gridcolor": "#EBF0F8",
            "linecolor": "#EBF0F8",
            "ticks": ""
           }
          },
          "scene": {
           "xaxis": {
            "backgroundcolor": "white",
            "gridcolor": "#DFE8F3",
            "gridwidth": 2,
            "linecolor": "#EBF0F8",
            "showbackground": true,
            "ticks": "",
            "zerolinecolor": "#EBF0F8"
           },
           "yaxis": {
            "backgroundcolor": "white",
            "gridcolor": "#DFE8F3",
            "gridwidth": 2,
            "linecolor": "#EBF0F8",
            "showbackground": true,
            "ticks": "",
            "zerolinecolor": "#EBF0F8"
           },
           "zaxis": {
            "backgroundcolor": "white",
            "gridcolor": "#DFE8F3",
            "gridwidth": 2,
            "linecolor": "#EBF0F8",
            "showbackground": true,
            "ticks": "",
            "zerolinecolor": "#EBF0F8"
           }
          },
          "shapedefaults": {
           "line": {
            "color": "#2a3f5f"
           }
          },
          "ternary": {
           "aaxis": {
            "gridcolor": "#DFE8F3",
            "linecolor": "#A2B1C6",
            "ticks": ""
           },
           "baxis": {
            "gridcolor": "#DFE8F3",
            "linecolor": "#A2B1C6",
            "ticks": ""
           },
           "bgcolor": "white",
           "caxis": {
            "gridcolor": "#DFE8F3",
            "linecolor": "#A2B1C6",
            "ticks": ""
           }
          },
          "title": {
           "x": 0.05
          },
          "xaxis": {
           "automargin": true,
           "gridcolor": "#EBF0F8",
           "linecolor": "#EBF0F8",
           "ticks": "",
           "title": {
            "standoff": 15
           },
           "zerolinecolor": "#EBF0F8",
           "zerolinewidth": 2
          },
          "yaxis": {
           "automargin": true,
           "gridcolor": "#EBF0F8",
           "linecolor": "#EBF0F8",
           "ticks": "",
           "title": {
            "standoff": 15
           },
           "zerolinecolor": "#EBF0F8",
           "zerolinewidth": 2
          }
         }
        },
        "title": {
         "font": {
          "color": "#333",
          "size": 18
         },
         "text": "Monthly Revenue, Net Profit & Margin (%) — Jul–Sep 2025",
         "x": 0.5,
         "xanchor": "center"
        },
        "xaxis": {
         "gridcolor": "rgba(200,200,200,0.3)",
         "showgrid": true,
         "title": {
          "text": "Period"
         }
        },
        "yaxis": {
         "gridcolor": "rgba(200,200,200,0.3)",
         "showgrid": true,
         "title": {
          "text": "Amount (IDR)"
         },
         "zeroline": false
        },
        "yaxis2": {
         "overlaying": "y",
         "rangemode": "tozero",
         "showgrid": false,
         "side": "right",
         "tickfont": {
          "color": "#ff7f0e"
         },
         "title": {
          "text": "Margin (%)"
         }
        }
       }
      },
      "image/png": "[encoded data removed]"
     },
     "metadata": {},
     "output_type": "display_data"
    },
    {
     "name": "stdout",
     "output_type": "stream",
     "text": [
      "\n",
      "Creating Improved Version...\n"
     ]
    },
    {
     "data": {
      "application/vnd.plotly.v1+json": {
       "config": {
        "plotlyServerURL": "https://plot.ly"
       },
       "data": [
        {
         "fill": "tozeroy",
         "fillcolor": "rgba(46, 134, 222, 0.1)",
         "hovertemplate": "<b>Revenue</b><br>Period: %{x}<br>Amount: IDR %{y:,.0f}<extra></extra>",
         "line": {
          "color": "#2E86DE",
          "width": 3
         },
         "marker": {
          "color": "#2E86DE",
          "line": {
           "color": "white",
           "width": 2
          },
          "size": 10
         },
         "mode": "lines+markers",
         "name": "Revenue",
         "type": "scatter",
         "x": [
          "Jul 2025",
          "Aug 2025",
          "Sep 2025"
         ],
         "xaxis": "x",
         "y": {
          "bdata": "ICMbFVBVyhKQspAT",
          "dtype": "i4"
         },
         "yaxis": "y"
        },
        {
         "hovertemplate": "<b>Net Profit</b><br>Period: %{x}<br>Amount: IDR %{y:,.0f}<extra></extra>",
         "line": {
          "color": "#10AC84",
          "width": 3
         },
         "marker": {
          "color": [
           "#10AC84",
           "#10AC84",
           "#10AC84"
          ],
          "line": {
           "color": "white",
           "width": 2
          },
          "size": 10
         },
         "mode": "lines+markers",
         "name": "Net Profit",
         "type": "scatter",
         "x": [
          "Jul 2025",
          "Aug 2025",
          "Sep 2025"
         ],
         "xaxis": "x",
         "y": {
          "bdata": "rSByC+pn9QhzTjUK",
          "dtype": "i4"
         },
         "yaxis": "y"
        },
        {
         "hovertemplate": "<b>Margin</b><br>Period: %{x}<br>Percentage: %{y:.1f}%<extra></extra>",
         "line": {
          "color": "#F79F1F",
          "dash": "dash",
          "width": 2
         },
         "marker": {
          "color": "#F79F1F",
          "line": {
           "color": "white",
           "width": 1
          },
          "size": 8,
          "symbol": "diamond"
         },
         "mode": "lines+markers",
         "name": "Margin (%)",
         "type": "scatter",
         "x": [
          "Jul 2025",
          "Aug 2025",
          "Sep 2025"
         ],
         "xaxis": "x",
         "y": {
          "bdata": "Tvj4enQdS0CweIqUnNZHQLHFkINyFkpA",
          "dtype": "f8"
         },
         "yaxis": "y2"
        }
       ],
       "layout": {
        "annotations": [
         {
          "font": {
           "size": 16
          },
          "showarrow": false,
          "text": "Monthly Revenue, Net Profit & Margin (%) — Jul–Sep 2025",
          "x": 0.47,
          "xanchor": "center",
          "xref": "paper",
          "y": 1,
          "yanchor": "bottom",
          "yref": "paper"
         },
         {
          "bgcolor": "rgba(255,255,255,0.8)",
          "borderpad": 2,
          "font": {
           "color": "#10AC84",
           "size": 9,
           "weight": "bold"
          },
          "showarrow": false,
          "text": "IDR 192,028,845",
          "x": "Jul 2025",
          "y": 192028845,
          "yshift": -15
         },
         {
          "bgcolor": "rgba(255,255,255,0.8)",
          "borderpad": 2,
          "font": {
           "color": "#F79F1F",
           "size": 9,
           "weight": "bold"
          },
          "showarrow": false,
          "text": "54.2%",
          "x": "Jul 2025",
          "xshift": 25,
          "y": 54.23011719853149,
          "yref": "y2",
          "yshift": 5
         },
         {
          "bgcolor": "rgba(255,255,255,0.8)",
          "borderpad": 2,
          "font": {
           "color": "#2E86DE",
           "size": 9,
           "weight": "bold"
          },
          "showarrow": false,
          "text": "IDR 315,250,000",
          "x": "Aug 2025",
          "y": 315250000,
          "yshift": 15
         },
         {
          "bgcolor": "rgba(255,255,255,0.8)",
          "borderpad": 2,
          "font": {
           "color": "#10AC84",
           "size": 9,
           "weight": "bold"
          },
          "showarrow": false,
          "text": "IDR 150,300,650",
          "x": "Aug 2025",
          "y": 150300650,
          "yshift": -15
         },
         {
          "bgcolor": "rgba(255,255,255,0.8)",
          "borderpad": 2,
          "font": {
           "color": "#F79F1F",
           "size": 9,
           "weight": "bold"
          },
          "showarrow": false,
          "text": "47.7%",
          "x": "Aug 2025",
          "xshift": 25,
          "y": 47.67665344964314,
          "yref": "y2",
          "yshift": 5
         },
         {
          "bgcolor": "rgba(255,255,255,0.8)",
          "borderpad": 2,
          "font": {
           "color": "#2E86DE",
           "size": 9,
           "weight": "bold"
          },
          "showarrow": false,
          "text": "IDR 328,250,000",
          "x": "Sep 2025",
          "y": 328250000,
          "yshift": 15
         },
         {
          "bgcolor": "rgba(255,255,255,0.8)",
          "borderpad": 2,
          "font": {
           "color": "#10AC84",
           "size": 9,
           "weight": "bold"
          },
          "showarrow": false,
          "text": "IDR 171,265,651",
          "x": "Sep 2025",
          "y": 171265651,
          "yshift": -15
         },
         {
          "bgcolor": "rgba(255,255,255,0.8)",
          "borderpad": 2,
          "font": {
           "color": "#F79F1F",
           "size": 9,
           "weight": "bold"
          },
          "showarrow": false,
          "text": "52.2%",
          "x": "Sep 2025",
          "xshift": 25,
          "y": 52.175369687738005,
          "yref": "y2",
          "yshift": 5
         }
        ],
        "height": 650,
        "hovermode": "x unified",
        "legend": {
         "bgcolor": "rgba(255,255,255,0.9)",
         "bordercolor": "rgba(100,100,100,0.3)",
         "borderwidth": 1,
         "font": {
          "size": 12
         },
         "orientation": "h",
         "x": 0.5,
         "xanchor": "center",
         "y": -0.25,
         "yanchor": "bottom"
        },
        "margin": {
         "b": 100,
         "l": 80,
         "r": 80,
         "t": 100
        },
        "paper_bgcolor": "white",
        "plot_bgcolor": "rgba(250,250,250,0.5)",
        "template": {
         "data": {
          "bar": [
           {
            "error_x": {
             "color": "#2a3f5f"
            },
            "error_y": {
             "color": "#2a3f5f"
            },
            "marker": {
             "line": {
              "color": "white",
              "width": 0.5
             },
             "pattern": {
              "fillmode": "overlay",
              "size": 10,
              "solidity": 0.2
             }
            },
            "type": "bar"
           }
          ],
          "barpolar": [
           {
            "marker": {
             "line": {
              "color": "white",
              "width": 0.5
             },
             "pattern": {
              "fillmode": "overlay",
              "size": 10,
              "solidity": 0.2
             }
            },
            "type": "barpolar"
           }
          ],
          "carpet": [
           {
            "aaxis": {
             "endlinecolor": "#2a3f5f",
             "gridcolor": "#C8D4E3",
             "linecolor": "#C8D4E3",
             "minorgridcolor": "#C8D4E3",
             "startlinecolor": "#2a3f5f"
            },
            "baxis": {
             "endlinecolor": "#2a3f5f",
             "gridcolor": "#C8D4E3",
             "linecolor": "#C8D4E3",
             "minorgridcolor": "#C8D4E3",
             "startlinecolor": "#2a3f5f"
            },
            "type": "carpet"
           }
          ],
          "choropleth": [
           {
            "colorbar": {
             "outlinewidth": 0,
             "ticks": ""
            },
            "type": "choropleth"
           }
          ],
          "contour": [
           {
            "colorbar": {
             "outlinewidth": 0,
             "ticks": ""
            },
            "colorscale": [
             [
              0,
              "#0d0887"
             ],
             [
              0.1111111111111111,
              "#46039f"
             ],
             [
              0.2222222222222222,
              "#7201a8"
             ],
             [
              0.3333333333333333,
              "#9c179e"
             ],
             [
              0.4444444444444444,
              "#bd3786"
             ],
             [
              0.5555555555555556,
              "#d8576b"
             ],
             [
              0.6666666666666666,
              "#ed7953"
             ],
             [
              0.7777777777777778,
              "#fb9f3a"
             ],
             [
              0.8888888888888888,
              "#fdca26"
             ],
             [
              1,
              "#f0f921"
             ]
            ],
            "type": "contour"
           }
          ],
          "contourcarpet": [
           {
            "colorbar": {
             "outlinewidth": 0,
             "ticks": ""
            },
            "type": "contourcarpet"
           }
          ],
          "heatmap": [
           {
            "colorbar": {
             "outlinewidth": 0,
             "ticks": ""
            },
            "colorscale": [
             [
              0,
              "#0d0887"
             ],
             [
              0.1111111111111111,
              "#46039f"
             ],
             [
              0.2222222222222222,
              "#7201a8"
             ],
             [
              0.3333333333333333,
              "#9c179e"
             ],
             [
              0.4444444444444444,
              "#bd3786"
             ],
             [
              0.5555555555555556,
              "#d8576b"
             ],
             [
              0.6666666666666666,
              "#ed7953"
             ],
             [
              0.7777777777777778,
              "#fb9f3a"
             ],
             [
              0.8888888888888888,
              "#fdca26"
             ],
             [
              1,
              "#f0f921"
             ]
            ],
            "type": "heatmap"
           }
          ],
          "histogram": [
           {
            "marker": {
             "pattern": {
              "fillmode": "overlay",
              "size": 10,
              "solidity": 0.2
             }
            },
            "type": "histogram"
           }
          ],
          "histogram2d": [
           {
            "colorbar": {
             "outlinewidth": 0,
             "ticks": ""
            },
            "colorscale": [
             [
              0,
              "#0d0887"
             ],
             [
              0.1111111111111111,
              "#46039f"
             ],
             [
              0.2222222222222222,
              "#7201a8"
             ],
             [
              0.3333333333333333,
              "#9c179e"
             ],
             [
              0.4444444444444444,
              "#bd3786"
             ],
             [
              0.5555555555555556,
              "#d8576b"
             ],
             [
              0.6666666666666666,
              "#ed7953"
             ],
             [
              0.7777777777777778,
              "#fb9f3a"
             ],
             [
              0.8888888888888888,
              "#fdca26"
             ],
             [
              1,
              "#f0f921"
             ]
            ],
            "type": "histogram2d"
           }
          ],
          "histogram2dcontour": [
           {
            "colorbar": {
             "outlinewidth": 0,
             "ticks": ""
            },
            "colorscale": [
             [
              0,
              "#0d0887"
             ],
             [
              0.1111111111111111,
              "#46039f"
             ],
             [
              0.2222222222222222,
              "#7201a8"
             ],
             [
              0.3333333333333333,
              "#9c179e"
             ],
             [
              0.4444444444444444,
              "#bd3786"
             ],
             [
              0.5555555555555556,
              "#d8576b"
             ],
             [
              0.6666666666666666,
              "#ed7953"
             ],
             [
              0.7777777777777778,
              "#fb9f3a"
             ],
             [
              0.8888888888888888,
              "#fdca26"
             ],
             [
              1,
              "#f0f921"
             ]
            ],
            "type": "histogram2dcontour"
           }
          ],
          "mesh3d": [
           {
            "colorbar": {
             "outlinewidth": 0,
             "ticks": ""
            },
            "type": "mesh3d"
           }
          ],
          "parcoords": [
           {
            "line": {
             "colorbar": {
              "outlinewidth": 0,
              "ticks": ""
             }
            },
            "type": "parcoords"
           }
          ],
          "pie": [
           {
            "automargin": true,
            "type": "pie"
           }
          ],
          "scatter": [
           {
            "fillpattern": {
             "fillmode": "overlay",
             "size": 10,
             "solidity": 0.2
            },
            "type": "scatter"
           }
          ],
          "scatter3d": [
           {
            "line": {
             "colorbar": {
              "outlinewidth": 0,
              "ticks": ""
             }
            },
            "marker": {
             "colorbar": {
              "outlinewidth": 0,
              "ticks": ""
             }
            },
            "type": "scatter3d"
           }
          ],
          "scattercarpet": [
           {
            "marker": {
             "colorbar": {
              "outlinewidth": 0,
              "ticks": ""
             }
            },
            "type": "scattercarpet"
           }
          ],
          "scattergeo": [
           {
            "marker": {
             "colorbar": {
              "outlinewidth": 0,
              "ticks": ""
             }
            },
            "type": "scattergeo"
           }
          ],
          "scattergl": [
           {
            "marker": {
             "colorbar": {
              "outlinewidth": 0,
              "ticks": ""
             }
            },
            "type": "scattergl"
           }
          ],
          "scattermap": [
           {
            "marker": {
             "colorbar": {
              "outlinewidth": 0,
              "ticks": ""
             }
            },
            "type": "scattermap"
           }
          ],
          "scattermapbox": [
           {
            "marker": {
             "colorbar": {
              "outlinewidth": 0,
              "ticks": ""
             }
            },
            "type": "scattermapbox"
           }
          ],
          "scatterpolar": [
           {
            "marker": {
             "colorbar": {
              "outlinewidth": 0,
              "ticks": ""
             }
            },
            "type": "scatterpolar"
           }
          ],
          "scatterpolargl": [
           {
            "marker": {
             "colorbar": {
              "outlinewidth": 0,
              "ticks": ""
             }
            },
            "type": "scatterpolargl"
           }
          ],
          "scatterternary": [
           {
            "marker": {
             "colorbar": {
              "outlinewidth": 0,
              "ticks": ""
             }
            },
            "type": "scatterternary"
           }
          ],
          "surface": [
           {
            "colorbar": {
             "outlinewidth": 0,
             "ticks": ""
            },
            "colorscale": [
             [
              0,
              "#0d0887"
             ],
             [
              0.1111111111111111,
              "#46039f"
             ],
             [
              0.2222222222222222,
              "#7201a8"
             ],
             [
              0.3333333333333333,
              "#9c179e"
             ],
             [
              0.4444444444444444,
              "#bd3786"
             ],
             [
              0.5555555555555556,
              "#d8576b"
             ],
             [
              0.6666666666666666,
              "#ed7953"
             ],
             [
              0.7777777777777778,
              "#fb9f3a"
             ],
             [
              0.8888888888888888,
              "#fdca26"
             ],
             [
              1,
              "#f0f921"
             ]
            ],
            "type": "surface"
           }
          ],
          "table": [
           {
            "cells": {
             "fill": {
              "color": "#EBF0F8"
             },
             "line": {
              "color": "white"
             }
            },
            "header": {
             "fill": {
              "color": "#C8D4E3"
             },
             "line": {
              "color": "white"
             }
            },
            "type": "table"
           }
          ]
         },
         "layout": {
          "annotationdefaults": {
           "arrowcolor": "#2a3f5f",
           "arrowhead": 0,
           "arrowwidth": 1
          },
          "autotypenumbers": "strict",
          "coloraxis": {
           "colorbar": {
            "outlinewidth": 0,
            "ticks": ""
           }
          },
          "colorscale": {
           "diverging": [
            [
             0,
             "#8e0152"
            ],
            [
             0.1,
             "#c51b7d"
            ],
            [
             0.2,
             "#de77ae"
            ],
            [
             0.3,
             "#f1b6da"
            ],
            [
             0.4,
             "#fde0ef"
            ],
            [
             0.5,
             "#f7f7f7"
            ],
            [
             0.6,
             "#e6f5d0"
            ],
            [
             0.7,
             "#b8e186"
            ],
            [
             0.8,
             "#7fbc41"
            ],
            [
             0.9,
             "#4d9221"
            ],
            [
             1,
             "#276419"
            ]
           ],
           "sequential": [
            [
             0,
             "#0d0887"
            ],
            [
             0.1111111111111111,
             "#46039f"
            ],
            [
             0.2222222222222222,
             "#7201a8"
            ],
            [
             0.3333333333333333,
             "#9c179e"
            ],
            [
             0.4444444444444444,
             "#bd3786"
            ],
            [
             0.5555555555555556,
             "#d8576b"
            ],
            [
             0.6666666666666666,
             "#ed7953"
            ],
            [
             0.7777777777777778,
             "#fb9f3a"
            ],
            [
             0.8888888888888888,
             "#fdca26"
            ],
            [
             1,
             "#f0f921"
            ]
           ],
           "sequentialminus": [
            [
             0,
             "#0d0887"
            ],
            [
             0.1111111111111111,
             "#46039f"
            ],
            [
             0.2222222222222222,
             "#7201a8"
            ],
            [
             0.3333333333333333,
             "#9c179e"
            ],
            [
             0.4444444444444444,
             "#bd3786"
            ],
            [
             0.5555555555555556,
             "#d8576b"
            ],
            [
             0.6666666666666666,
             "#ed7953"
            ],
            [
             0.7777777777777778,
             "#fb9f3a"
            ],
            [
             0.8888888888888888,
             "#fdca26"
            ],
            [
             1,
             "#f0f921"
            ]
           ]
          },
          "colorway": [
           "#636efa",
           "#EF553B",
           "#00cc96",
           "#ab63fa",
           "#FFA15A",
           "#19d3f3",
           "#FF6692",
           "#B6E880",
           "#FF97FF",
           "#FECB52"
          ],
          "font": {
           "color": "#2a3f5f"
          },
          "geo": {
           "bgcolor": "white",
           "lakecolor": "white",
           "landcolor": "white",
           "showlakes": true,
           "showland": true,
           "subunitcolor": "#C8D4E3"
          },
          "hoverlabel": {
           "align": "left"
          },
          "hovermode": "closest",
          "mapbox": {
           "style": "light"
          },
          "paper_bgcolor": "white",
          "plot_bgcolor": "white",
          "polar": {
           "angularaxis": {
            "gridcolor": "#EBF0F8",
            "linecolor": "#EBF0F8",
            "ticks": ""
           },
           "bgcolor": "white",
           "radialaxis": {
            "gridcolor": "#EBF0F8",
            "linecolor": "#EBF0F8",
            "ticks": ""
           }
          },
          "scene": {
           "xaxis": {
            "backgroundcolor": "white",
            "gridcolor": "#DFE8F3",
            "gridwidth": 2,
            "linecolor": "#EBF0F8",
            "showbackground": true,
            "ticks": "",
            "zerolinecolor": "#EBF0F8"
           },
           "yaxis": {
            "backgroundcolor": "white",
            "gridcolor": "#DFE8F3",
            "gridwidth": 2,
            "linecolor": "#EBF0F8",
            "showbackground": true,
            "ticks": "",
            "zerolinecolor": "#EBF0F8"
           },
           "zaxis": {
            "backgroundcolor": "white",
            "gridcolor": "#DFE8F3",
            "gridwidth": 2,
            "linecolor": "#EBF0F8",
            "showbackground": true,
            "ticks": "",
            "zerolinecolor": "#EBF0F8"
           }
          },
          "shapedefaults": {
           "line": {
            "color": "#2a3f5f"
           }
          },
          "ternary": {
           "aaxis": {
            "gridcolor": "#DFE8F3",
            "linecolor": "#A2B1C6",
            "ticks": ""
           },
           "baxis": {
            "gridcolor": "#DFE8F3",
            "linecolor": "#A2B1C6",
            "ticks": ""
           },
           "bgcolor": "white",
           "caxis": {
            "gridcolor": "#DFE8F3",
            "linecolor": "#A2B1C6",
            "ticks": ""
           }
          },
          "title": {
           "x": 0.05
          },
          "xaxis": {
           "automargin": true,
           "gridcolor": "#EBF0F8",
           "linecolor": "#EBF0F8",
           "ticks": "",
           "title": {
            "standoff": 15
           },
           "zerolinecolor": "#EBF0F8",
           "zerolinewidth": 2
          },
          "yaxis": {
           "automargin": true,
           "gridcolor": "#EBF0F8",
           "linecolor": "#EBF0F8",
           "ticks": "",
           "title": {
            "standoff": 15
           },
           "zerolinecolor": "#EBF0F8",
           "zerolinewidth": 2
          }
         }
        },
        "title": {
         "font": {
          "color": "#2c3e50",
          "family": "Arial Black",
          "size": 20
         },
         "text": "Monthly Revenue, Net Profit & Margin (%) — Jul–Sep 2025",
         "x": 0.5,
         "xanchor": "center"
        },
        "xaxis": {
         "anchor": "y",
         "domain": [
          0,
          0.94
         ],
         "gridcolor": "rgba(200,200,200,0.2)",
         "linecolor": "rgba(100,100,100,0.5)",
         "linewidth": 2,
         "mirror": true,
         "showgrid": true,
         "title": {
          "text": "Period"
         }
        },
        "yaxis": {
         "anchor": "x",
         "domain": [
          0,
          1
         ],
         "gridcolor": "rgba(200,200,200,0.2)",
         "linecolor": "rgba(100,100,100,0.5)",
         "linewidth": 2,
         "mirror": true,
         "showgrid": true,
         "title": {
          "text": "<b>Amount (IDR)</b>"
         }
        },
        "yaxis2": {
         "anchor": "x",
         "linecolor": "#F79F1F",
         "linewidth": 2,
         "mirror": true,
         "overlaying": "y",
         "rangemode": "tozero",
         "showgrid": false,
         "side": "right",
         "title": {
          "text": "<b>Margin (%)</b>"
         }
        }
       }
      },
      "image/png": "[encoded data removed]"
     },
     "metadata": {},
     "output_type": "display_data"
    },
    {
     "name": "stdout",
     "output_type": "stream",
     "text": [
      "\n",
      "Creating Version with Growth Indicators...\n"
     ]
    },
    {
     "data": {
      "application/vnd.plotly.v1+json": {
       "config": {
        "plotlyServerURL": "https://plot.ly"
       },
       "data": [
        {
         "fill": "tozeroy",
         "fillcolor": "rgba(46, 134, 222, 0.1)",
         "hovertemplate": "<b>Revenue</b><br>Period: %{x}<br>Amount: IDR %{y:,.0f}<extra></extra>",
         "line": {
          "color": "#2E86DE",
          "width": 3
         },
         "marker": {
          "color": "#2E86DE",
          "line": {
           "color": "white",
           "width": 2
          },
          "size": 10
         },
         "mode": "lines+markers",
         "name": "Revenue",
         "type": "scatter",
         "x": [
          "Jul 2025",
          "Aug 2025",
          "Sep 2025"
         ],
         "xaxis": "x",
         "y": {
          "bdata": "ICMbFVBVyhKQspAT",
          "dtype": "i4"
         },
         "yaxis": "y"
        },
        {
         "hovertemplate": "<b>Net Profit</b><br>Period: %{x}<br>Amount: IDR %{y:,.0f}<extra></extra>",
         "line": {
          "color": "#10AC84",
          "width": 3
         },
         "marker": {
          "color": [
           "#10AC84",
           "#10AC84",
           "#10AC84"
          ],
          "line": {
           "color": "white",
           "width": 2
          },
          "size": 10
         },
         "mode": "lines+markers",
         "name": "Net Profit",
         "type": "scatter",
         "x": [
          "Jul 2025",
          "Aug 2025",
          "Sep 2025"
         ],
         "xaxis": "x",
         "y": {
          "bdata": "rSByC+pn9QhzTjUK",
          "dtype": "i4"
         },
         "yaxis": "y"
        },
        {
         "hovertemplate": "<b>Margin</b><br>Period: %{x}<br>Percentage: %{y:.1f}%<extra></extra>",
         "line": {
          "color": "#F79F1F",
          "dash": "dash",
          "width": 2
         },
         "marker": {
          "color": "#F79F1F",
          "line": {
           "color": "white",
           "width": 1
          },
          "size": 8,
          "symbol": "diamond"
         },
         "mode": "lines+markers",
         "name": "Margin (%)",
         "type": "scatter",
         "x": [
          "Jul 2025",
          "Aug 2025",
          "Sep 2025"
         ],
         "xaxis": "x",
         "y": {
          "bdata": "Tvj4enQdS0CweIqUnNZHQLHFkINyFkpA",
          "dtype": "f8"
         },
         "yaxis": "y2"
        }
       ],
       "layout": {
        "annotations": [
         {
          "font": {
           "size": 16
          },
          "showarrow": false,
          "text": "P&L Analysis with Growth Indicators",
          "x": 0.47,
          "xanchor": "center",
          "xref": "paper",
          "y": 1,
          "yanchor": "bottom",
          "yref": "paper"
         },
         {
          "arrowcolor": "green",
          "arrowhead": 2,
          "arrowsize": 1,
          "arrowwidth": 2,
          "ax": 0,
          "ay": -40,
          "bgcolor": "rgba(255,255,255,0.9)",
          "borderpad": 3,
          "font": {
           "color": "green",
           "size": 10,
           "weight": "bold"
          },
          "showarrow": true,
          "text": "↑ 4.1%",
          "x": "Sep 2025",
          "y": 328250000
         }
        ],
        "height": 650,
        "hovermode": "x unified",
        "legend": {
         "bgcolor": "rgba(255,255,255,0.9)",
         "bordercolor": "rgba(100,100,100,0.3)",
         "borderwidth": 1,
         "font": {
          "size": 12
         },
         "orientation": "h",
         "x": 0.5,
         "xanchor": "center",
         "y": -0.25,
         "yanchor": "bottom"
        },
        "margin": {
         "b": 100,
         "l": 80,
         "r": 80,
         "t": 100
        },
        "paper_bgcolor": "white",
        "plot_bgcolor": "rgba(250,250,250,0.5)",
        "template": {
         "data": {
          "bar": [
           {
            "error_x": {
             "color": "#2a3f5f"
            },
            "error_y": {
             "color": "#2a3f5f"
            },
            "marker": {
             "line": {
              "color": "white",
              "width": 0.5
             },
             "pattern": {
              "fillmode": "overlay",
              "size": 10,
              "solidity": 0.2
             }
            },
            "type": "bar"
           }
          ],
          "barpolar": [
           {
            "marker": {
             "line": {
              "color": "white",
              "width": 0.5
             },
             "pattern": {
              "fillmode": "overlay",
              "size": 10,
              "solidity": 0.2
             }
            },
            "type": "barpolar"
           }
          ],
          "carpet": [
           {
            "aaxis": {
             "endlinecolor": "#2a3f5f",
             "gridcolor": "#C8D4E3",
             "linecolor": "#C8D4E3",
             "minorgridcolor": "#C8D4E3",
             "startlinecolor": "#2a3f5f"
            },
            "baxis": {
             "endlinecolor": "#2a3f5f",
             "gridcolor": "#C8D4E3",
             "linecolor": "#C8D4E3",
             "minorgridcolor": "#C8D4E3",
             "startlinecolor": "#2a3f5f"
            },
            "type": "carpet"
           }
          ],
          "choropleth": [
           {
            "colorbar": {
             "outlinewidth": 0,
             "ticks": ""
            },
            "type": "choropleth"
           }
          ],
          "contour": [
           {
            "colorbar": {
             "outlinewidth": 0,
             "ticks": ""
            },
            "colorscale": [
             [
              0,
              "#0d0887"
             ],
             [
              0.1111111111111111,
              "#46039f"
             ],
             [
              0.2222222222222222,
              "#7201a8"
             ],
             [
              0.3333333333333333,
              "#9c179e"
             ],
             [
              0.4444444444444444,
              "#bd3786"
             ],
             [
              0.5555555555555556,
              "#d8576b"
             ],
             [
              0.6666666666666666,
              "#ed7953"
             ],
             [
              0.7777777777777778,
              "#fb9f3a"
             ],
             [
              0.8888888888888888,
              "#fdca26"
             ],
             [
              1,
              "#f0f921"
             ]
            ],
            "type": "contour"
           }
          ],
          "contourcarpet": [
           {
            "colorbar": {
             "outlinewidth": 0,
             "ticks": ""
            },
            "type": "contourcarpet"
           }
          ],
          "heatmap": [
           {
            "colorbar": {
             "outlinewidth": 0,
             "ticks": ""
            },
            "colorscale": [
             [
              0,
              "#0d0887"
             ],
             [
              0.1111111111111111,
              "#46039f"
             ],
             [
              0.2222222222222222,
              "#7201a8"
             ],
             [
              0.3333333333333333,
              "#9c179e"
             ],
             [
              0.4444444444444444,
              "#bd3786"
             ],
             [
              0.5555555555555556,
              "#d8576b"
             ],
             [
              0.6666666666666666,
              "#ed7953"
             ],
             [
              0.7777777777777778,
              "#fb9f3a"
             ],
             [
              0.8888888888888888,
              "#fdca26"
             ],
             [
              1,
              "#f0f921"
             ]
            ],
            "type": "heatmap"
           }
          ],
          "histogram": [
           {
            "marker": {
             "pattern": {
              "fillmode": "overlay",
              "size": 10,
              "solidity": 0.2
             }
            },
            "type": "histogram"
           }
          ],
          "histogram2d": [
           {
            "colorbar": {
             "outlinewidth": 0,
             "ticks": ""
            },
            "colorscale": [
             [
              0,
              "#0d0887"
             ],
             [
              0.1111111111111111,
              "#46039f"
             ],
             [
              0.2222222222222222,
              "#7201a8"
             ],
             [
              0.3333333333333333,
              "#9c179e"
             ],
             [
              0.4444444444444444,
              "#bd3786"
             ],
             [
              0.5555555555555556,
              "#d8576b"
             ],
             [
              0.6666666666666666,
              "#ed7953"
             ],
             [
              0.7777777777777778,
              "#fb9f3a"
             ],
             [
              0.8888888888888888,
              "#fdca26"
             ],
             [
              1,
              "#f0f921"
             ]
            ],
            "type": "histogram2d"
           }
          ],
          "histogram2dcontour": [
           {
            "colorbar": {
             "outlinewidth": 0,
             "ticks": ""
            },
            "colorscale": [
             [
              0,
              "#0d0887"
             ],
             [
              0.1111111111111111,
              "#46039f"
             ],
             [
              0.2222222222222222,
              "#7201a8"
             ],
             [
              0.3333333333333333,
              "#9c179e"
             ],
             [
              0.4444444444444444,
              "#bd3786"
             ],
             [
              0.5555555555555556,
              "#d8576b"
             ],
             [
              0.6666666666666666,
              "#ed7953"
             ],
             [
              0.7777777777777778,
              "#fb9f3a"
             ],
             [
              0.8888888888888888,
              "#fdca26"
             ],
             [
              1,
              "#f0f921"
             ]
            ],
            "type": "histogram2dcontour"
           }
          ],
          "mesh3d": [
           {
            "colorbar": {
             "outlinewidth": 0,
             "ticks": ""
            },
            "type": "mesh3d"
           }
          ],
          "parcoords": [
           {
            "line": {
             "colorbar": {
              "outlinewidth": 0,
              "ticks": ""
             }
            },
            "type": "parcoords"
           }
          ],
          "pie": [
           {
            "automargin": true,
            "type": "pie"
           }
          ],
          "scatter": [
           {
            "fillpattern": {
             "fillmode": "overlay",
             "size": 10,
             "solidity": 0.2
            },
            "type": "scatter"
           }
          ],
          "scatter3d": [
           {
            "line": {
             "colorbar": {
              "outlinewidth": 0,
              "ticks": ""
             }
            },
            "marker": {
             "colorbar": {
              "outlinewidth": 0,
              "ticks": ""
             }
            },
            "type": "scatter3d"
           }
          ],
          "scattercarpet": [
           {
            "marker": {
             "colorbar": {
              "outlinewidth": 0,
              "ticks": ""
             }
            },
            "type": "scattercarpet"
           }
          ],
          "scattergeo": [
           {
            "marker": {
             "colorbar": {
              "outlinewidth": 0,
              "ticks": ""
             }
            },
            "type": "scattergeo"
           }
          ],
          "scattergl": [
           {
            "marker": {
             "colorbar": {
              "outlinewidth": 0,
              "ticks": ""
             }
            },
            "type": "scattergl"
           }
          ],
          "scattermap": [
           {
            "marker": {
             "colorbar": {
              "outlinewidth": 0,
              "ticks": ""
             }
            },
            "type": "scattermap"
           }
          ],
          "scattermapbox": [
           {
            "marker": {
             "colorbar": {
              "outlinewidth": 0,
              "ticks": ""
             }
            },
            "type": "scattermapbox"
           }
          ],
          "scatterpolar": [
           {
            "marker": {
             "colorbar": {
              "outlinewidth": 0,
              "ticks": ""
             }
            },
            "type": "scatterpolar"
           }
          ],
          "scatterpolargl": [
           {
            "marker": {
             "colorbar": {
              "outlinewidth": 0,
              "ticks": ""
             }
            },
            "type": "scatterpolargl"
           }
          ],
          "scatterternary": [
           {
            "marker": {
             "colorbar": {
              "outlinewidth": 0,
              "ticks": ""
             }
            },
            "type": "scatterternary"
           }
          ],
          "surface": [
           {
            "colorbar": {
             "outlinewidth": 0,
             "ticks": ""
            },
            "colorscale": [
             [
              0,
              "#0d0887"
             ],
             [
              0.1111111111111111,
              "#46039f"
             ],
             [
              0.2222222222222222,
              "#7201a8"
             ],
             [
              0.3333333333333333,
              "#9c179e"
             ],
             [
              0.4444444444444444,
              "#bd3786"
             ],
             [
              0.5555555555555556,
              "#d8576b"
             ],
             [
              0.6666666666666666,
              "#ed7953"
             ],
             [
              0.7777777777777778,
              "#fb9f3a"
             ],
             [
              0.8888888888888888,
              "#fdca26"
             ],
             [
              1,
              "#f0f921"
             ]
            ],
            "type": "surface"
           }
          ],
          "table": [
           {
            "cells": {
             "fill": {
              "color": "#EBF0F8"
             },
             "line": {
              "color": "white"
             }
            },
            "header": {
             "fill": {
              "color": "#C8D4E3"
             },
             "line": {
              "color": "white"
             }
            },
            "type": "table"
           }
          ]
         },
         "layout": {
          "annotationdefaults": {
           "arrowcolor": "#2a3f5f",
           "arrowhead": 0,
           "arrowwidth": 1
          },
          "autotypenumbers": "strict",
          "coloraxis": {
           "colorbar": {
            "outlinewidth": 0,
            "ticks": ""
           }
          },
          "colorscale": {
           "diverging": [
            [
             0,
             "#8e0152"
            ],
            [
             0.1,
             "#c51b7d"
            ],
            [
             0.2,
             "#de77ae"
            ],
            [
             0.3,
             "#f1b6da"
            ],
            [
             0.4,
             "#fde0ef"
            ],
            [
             0.5,
             "#f7f7f7"
            ],
            [
             0.6,
             "#e6f5d0"
            ],
            [
             0.7,
             "#b8e186"
            ],
            [
             0.8,
             "#7fbc41"
            ],
            [
             0.9,
             "#4d9221"
            ],
            [
             1,
             "#276419"
            ]
           ],
           "sequential": [
            [
             0,
             "#0d0887"
            ],
            [
             0.1111111111111111,
             "#46039f"
            ],
            [
             0.2222222222222222,
             "#7201a8"
            ],
            [
             0.3333333333333333,
             "#9c179e"
            ],
            [
             0.4444444444444444,
             "#bd3786"
            ],
            [
             0.5555555555555556,
             "#d8576b"
            ],
            [
             0.6666666666666666,
             "#ed7953"
            ],
            [
             0.7777777777777778,
             "#fb9f3a"
            ],
            [
             0.8888888888888888,
             "#fdca26"
            ],
            [
             1,
             "#f0f921"
            ]
           ],
           "sequentialminus": [
            [
             0,
             "#0d0887"
            ],
            [
             0.1111111111111111,
             "#46039f"
            ],
            [
             0.2222222222222222,
             "#7201a8"
            ],
            [
             0.3333333333333333,
             "#9c179e"
            ],
            [
             0.4444444444444444,
             "#bd3786"
            ],
            [
             0.5555555555555556,
             "#d8576b"
            ],
            [
             0.6666666666666666,
             "#ed7953"
            ],
            [
             0.7777777777777778,
             "#fb9f3a"
            ],
            [
             0.8888888888888888,
             "#fdca26"
            ],
            [
             1,
             "#f0f921"
            ]
           ]
          },
          "colorway": [
           "#636efa",
           "#EF553B",
           "#00cc96",
           "#ab63fa",
           "#FFA15A",
           "#19d3f3",
           "#FF6692",
           "#B6E880",
           "#FF97FF",
           "#FECB52"
          ],
          "font": {
           "color": "#2a3f5f"
          },
          "geo": {
           "bgcolor": "white",
           "lakecolor": "white",
           "landcolor": "white",
           "showlakes": true,
           "showland": true,
           "subunitcolor": "#C8D4E3"
          },
          "hoverlabel": {
           "align": "left"
          },
          "hovermode": "closest",
          "mapbox": {
           "style": "light"
          },
          "paper_bgcolor": "white",
          "plot_bgcolor": "white",
          "polar": {
           "angularaxis": {
            "gridcolor": "#EBF0F8",
            "linecolor": "#EBF0F8",
            "ticks": ""
           },
           "bgcolor": "white",
           "radialaxis": {
            "gridcolor": "#EBF0F8",
            "linecolor": "#EBF0F8",
            "ticks": ""
           }
          },
          "scene": {
           "xaxis": {
            "backgroundcolor": "white",
            "gridcolor": "#DFE8F3",
            "gridwidth": 2,
            "linecolor": "#EBF0F8",
            "showbackground": true,
            "ticks": "",
            "zerolinecolor": "#EBF0F8"
           },
           "yaxis": {
            "backgroundcolor": "white",
            "gridcolor": "#DFE8F3",
            "gridwidth": 2,
            "linecolor": "#EBF0F8",
            "showbackground": true,
            "ticks": "",
            "zerolinecolor": "#EBF0F8"
           },
           "zaxis": {
            "backgroundcolor": "white",
            "gridcolor": "#DFE8F3",
            "gridwidth": 2,
            "linecolor": "#EBF0F8",
            "showbackground": true,
            "ticks": "",
            "zerolinecolor": "#EBF0F8"
           }
          },
          "shapedefaults": {
           "line": {
            "color": "#2a3f5f"
           }
          },
          "ternary": {
           "aaxis": {
            "gridcolor": "#DFE8F3",
            "linecolor": "#A2B1C6",
            "ticks": ""
           },
           "baxis": {
            "gridcolor": "#DFE8F3",
            "linecolor": "#A2B1C6",
            "ticks": ""
           },
           "bgcolor": "white",
           "caxis": {
            "gridcolor": "#DFE8F3",
            "linecolor": "#A2B1C6",
            "ticks": ""
           }
          },
          "title": {
           "x": 0.05
          },
          "xaxis": {
           "automargin": true,
           "gridcolor": "#EBF0F8",
           "linecolor": "#EBF0F8",
           "ticks": "",
           "title": {
            "standoff": 15
           },
           "zerolinecolor": "#EBF0F8",
           "zerolinewidth": 2
          },
          "yaxis": {
           "automargin": true,
           "gridcolor": "#EBF0F8",
           "linecolor": "#EBF0F8",
           "ticks": "",
           "title": {
            "standoff": 15
           },
           "zerolinecolor": "#EBF0F8",
           "zerolinewidth": 2
          }
         }
        },
        "title": {
         "font": {
          "color": "#2c3e50",
          "family": "Arial Black",
          "size": 20
         },
         "text": "P&L Analysis with Growth Indicators",
         "x": 0.5,
         "xanchor": "center"
        },
        "xaxis": {
         "anchor": "y",
         "domain": [
          0,
          0.94
         ],
         "gridcolor": "rgba(200,200,200,0.2)",
         "linecolor": "rgba(100,100,100,0.5)",
         "linewidth": 2,
         "mirror": true,
         "showgrid": true,
         "title": {
          "text": "Period"
         }
        },
        "yaxis": {
         "anchor": "x",
         "domain": [
          0,
          1
         ],
         "gridcolor": "rgba(200,200,200,0.2)",
         "linecolor": "rgba(100,100,100,0.5)",
         "linewidth": 2,
         "mirror": true,
         "showgrid": true,
         "title": {
          "text": "<b>Amount (IDR)</b>"
         }
        },
        "yaxis2": {
         "anchor": "x",
         "linecolor": "#F79F1F",
         "linewidth": 2,
         "mirror": true,
         "overlaying": "y",
         "rangemode": "tozero",
         "showgrid": false,
         "side": "right",
         "title": {
          "text": "<b>Margin (%)</b>"
         }
        }
       }
      },
      "image/png": "[encoded data removed]"
     },
     "metadata": {},
     "output_type": "display_data"
    }
   ],
   "source": [
    "import plotly.graph_objects as go\n",
    "import pandas as pd\n",
    "import numpy as np\n",
    "\n",
    "# ============================================================\n",
    "# FIXED VERSION - Original Code with Error Corrections\n",
    "# ============================================================\n",
    "\n",
    "def create_pnl_chart_fixed(pnl_df):\n",
    "    \"\"\"\n",
    "    Fixed version of the original chart\n",
    "    Handles missing columns and data type issues\n",
    "    \"\"\"\n",
    "    # Validate required columns\n",
    "    required_cols = ['Period', 'Revenue', 'Net Profit']\n",
    "    missing_cols = [col for col in required_cols if col not in pnl_df.columns]\n",
    "    \n",
    "    if missing_cols:\n",
    "        raise ValueError(f\"Missing required columns: {missing_cols}\")\n",
    "    \n",
    "    # Create figure\n",
    "    fig = go.Figure()\n",
    "    \n",
    "    # Add Revenue trace\n",
    "    fig.add_trace(go.Scatter(\n",
    "        x=pnl_df['Period'],\n",
    "        y=pnl_df['Revenue'],\n",
    "        mode='lines+markers+text',\n",
    "        name='Revenue',\n",
    "        text=[f\"{val:,.0f}\" for val in pnl_df['Revenue']],\n",
    "        textposition=\"top center\",\n",
    "        textfont=dict(size=10),\n",
    "        line=dict(color='#1f77b4', width=3),\n",
    "        marker=dict(size=8),\n",
    "        hovertemplate='<b>Revenue</b><br>Period: %{x}<br>Amount: IDR %{y:,.0f}<extra></extra>'\n",
    "    ))\n",
    "    \n",
    "    # Add Net Profit trace\n",
    "    fig.add_trace(go.Scatter(\n",
    "        x=pnl_df['Period'],\n",
    "        y=pnl_df['Net Profit'],\n",
    "        mode='lines+markers+text',\n",
    "        name='Net Profit',\n",
    "        text=[f\"{val:,.0f}\" for val in pnl_df['Net Profit']],\n",
    "        textposition=\"bottom center\",\n",
    "        textfont=dict(size=10),\n",
    "        line=dict(color='#2ca02c', width=3),\n",
    "        marker=dict(size=8),\n",
    "        hovertemplate='<b>Net Profit</b><br>Period: %{x}<br>Amount: IDR %{y:,.0f}<extra></extra>'\n",
    "    ))\n",
    "    \n",
    "    # Add Margin (%) on right axis if available\n",
    "    if 'Margin (%)' in pnl_df.columns:\n",
    "        fig.add_trace(go.Scatter(\n",
    "            x=pnl_df['Period'],\n",
    "            y=pnl_df['Margin (%)'],\n",
    "            mode='lines+markers+text',\n",
    "            name='Margin (%)',\n",
    "            text=[f\"{val:.1f}%\" for val in pnl_df['Margin (%)']],\n",
    "            textposition=\"top right\",\n",
    "            textfont=dict(size=10),\n",
    "            line=dict(color='#ff7f0e', width=2, dash='dot'),\n",
    "            marker=dict(size=7),\n",
    "            yaxis='y2',\n",
    "            hovertemplate='<b>Margin</b><br>Period: %{x}<br>Percentage: %{y:.1f}%<extra></extra>'\n",
    "        ))\n",
    "    \n",
    "    # Layout & Design\n",
    "    fig.update_layout(\n",
    "        title=dict(\n",
    "            text=\"Monthly Revenue, Net Profit & Margin (%) — Jul–Sep 2025\",\n",
    "            x=0.5,\n",
    "            xanchor='center',\n",
    "            font=dict(size=18, color='#333')\n",
    "        ),\n",
    "        xaxis=dict(\n",
    "            title='Period',\n",
    "            showgrid=True,\n",
    "            gridcolor='rgba(200,200,200,0.3)'\n",
    "        ),\n",
    "        yaxis=dict(\n",
    "            title='Amount (IDR)',\n",
    "            showgrid=True,\n",
    "            zeroline=False,\n",
    "            gridcolor='rgba(200,200,200,0.3)'\n",
    "        ),\n",
    "        yaxis2=dict(\n",
    "            title='Margin (%)',\n",
    "            overlaying='y',\n",
    "            side='right',\n",
    "            showgrid=False,\n",
    "            tickfont=dict(color='#ff7f0e'),\n",
    "            # titlefont=dict(color='#ff7f0e'),\n",
    "            rangemode='tozero'\n",
    "        ),\n",
    "        legend=dict(\n",
    "            orientation='h',\n",
    "            yanchor='bottom',\n",
    "            y=-0.2,\n",
    "            xanchor='center',\n",
    "            x=0.5,\n",
    "            bgcolor='rgba(255,255,255,0.8)'\n",
    "        ),\n",
    "        template='plotly_white',\n",
    "        hovermode='x unified',\n",
    "        height=600\n",
    "    )\n",
    "    \n",
    "    return fig\n",
    "\n",
    "\n",
    "# ============================================================\n",
    "# IMPROVED VERSION - Enhanced with More Features\n",
    "# ============================================================\n",
    "\n",
    "def create_pnl_chart_improved(pnl_df, title=None, show_annotations=True):\n",
    "    \"\"\"\n",
    "    Improved version with enhanced features:\n",
    "    - Better color scheme\n",
    "    - Enhanced interactivity\n",
    "    - Conditional formatting\n",
    "    - Better layout\n",
    "    - Growth indicators\n",
    "    \"\"\"\n",
    "    # Validate data\n",
    "    required_cols = ['Period', 'Revenue', 'Net Profit']\n",
    "    missing_cols = [col for col in required_cols if col not in pnl_df.columns]\n",
    "    \n",
    "    if missing_cols:\n",
    "        raise ValueError(f\"Missing required columns: {missing_cols}\")\n",
    "    \n",
    "    # Create figure with secondary y-axis\n",
    "    from plotly.subplots import make_subplots\n",
    "    \n",
    "    fig = make_subplots(\n",
    "        specs=[[{\"secondary_y\": True}]],\n",
    "        subplot_titles=[\"\"] if not title else [title]\n",
    "    )\n",
    "    \n",
    "    # Enhanced color scheme\n",
    "    colors = {\n",
    "        'revenue': '#2E86DE',      # Professional blue\n",
    "        'profit': '#10AC84',       # Green for profit\n",
    "        'loss': '#EE5A6F',         # Red for loss\n",
    "        'margin': '#F79F1F',       # Orange for margin\n",
    "        'grid': 'rgba(200,200,200,0.2)'\n",
    "    }\n",
    "    \n",
    "    # Add Revenue trace with gradient fill\n",
    "    fig.add_trace(\n",
    "        go.Scatter(\n",
    "            x=pnl_df['Period'],\n",
    "            y=pnl_df['Revenue'],\n",
    "            mode='lines+markers',\n",
    "            name='Revenue',\n",
    "            line=dict(color=colors['revenue'], width=3),\n",
    "            marker=dict(\n",
    "                size=10,\n",
    "                color=colors['revenue'],\n",
    "                line=dict(color='white', width=2)\n",
    "            ),\n",
    "            fill='tozeroy',\n",
    "            fillcolor=f\"rgba(46, 134, 222, 0.1)\",\n",
    "            hovertemplate='<b>Revenue</b><br>Period: %{x}<br>Amount: IDR %{y:,.0f}<extra></extra>'\n",
    "        ),\n",
    "        secondary_y=False\n",
    "    )\n",
    "    \n",
    "    # Add Net Profit trace with conditional colors (green for profit, red for loss)\n",
    "    profit_colors = [colors['profit'] if p >= 0 else colors['loss'] for p in pnl_df['Net Profit']]\n",
    "    \n",
    "    fig.add_trace(\n",
    "        go.Scatter(\n",
    "            x=pnl_df['Period'],\n",
    "            y=pnl_df['Net Profit'],\n",
    "            mode='lines+markers',\n",
    "            name='Net Profit',\n",
    "            line=dict(color=colors['profit'], width=3),\n",
    "            marker=dict(\n",
    "                size=10,\n",
    "                color=profit_colors,\n",
    "                line=dict(color='white', width=2)\n",
    "            ),\n",
    "            hovertemplate='<b>Net Profit</b><br>Period: %{x}<br>Amount: IDR %{y:,.0f}<extra></extra>'\n",
    "        ),\n",
    "        secondary_y=False\n",
    "    )\n",
    "    \n",
    "    # Add Margin (%) on secondary axis\n",
    "    if 'Margin (%)' in pnl_df.columns:\n",
    "        fig.add_trace(\n",
    "            go.Scatter(\n",
    "                x=pnl_df['Period'],\n",
    "                y=pnl_df['Margin (%)'],\n",
    "                mode='lines+markers',\n",
    "                name='Margin (%)',\n",
    "                line=dict(color=colors['margin'], width=2, dash='dash'),\n",
    "                marker=dict(\n",
    "                    size=8,\n",
    "                    color=colors['margin'],\n",
    "                    symbol='diamond',\n",
    "                    line=dict(color='white', width=1)\n",
    "                ),\n",
    "                hovertemplate='<b>Margin</b><br>Period: %{x}<br>Percentage: %{y:.1f}%<extra></extra>'\n",
    "            ),\n",
    "            secondary_y=True\n",
    "        )\n",
    "    \n",
    "    # Add annotations for text labels if enabled\n",
    "    if show_annotations:\n",
    "        annotations = []\n",
    "        \n",
    "        # Revenue annotations\n",
    "        for i, row in pnl_df.iterrows():\n",
    "            # Revenue label\n",
    "            annotations.append(\n",
    "                dict(\n",
    "                    x=row['Period'],\n",
    "                    y=row['Revenue'],\n",
    "                    text=f\"IDR {row['Revenue']:,.0f}\",\n",
    "                    showarrow=False,\n",
    "                    yshift=15,\n",
    "                    font=dict(size=9, color=colors['revenue'], weight='bold'),\n",
    "                    bgcolor='rgba(255,255,255,0.8)',\n",
    "                    borderpad=2\n",
    "                )\n",
    "            )\n",
    "            \n",
    "            # Net Profit label\n",
    "            annotations.append(\n",
    "                dict(\n",
    "                    x=row['Period'],\n",
    "                    y=row['Net Profit'],\n",
    "                    text=f\"IDR {row['Net Profit']:,.0f}\",\n",
    "                    showarrow=False,\n",
    "                    yshift=-15,\n",
    "                    font=dict(\n",
    "                        size=9,\n",
    "                        color=colors['profit'] if row['Net Profit'] >= 0 else colors['loss'],\n",
    "                        weight='bold'\n",
    "                    ),\n",
    "                    bgcolor='rgba(255,255,255,0.8)',\n",
    "                    borderpad=2\n",
    "                )\n",
    "            )\n",
    "            \n",
    "            # Margin label (if available)\n",
    "            if 'Margin (%)' in pnl_df.columns:\n",
    "                annotations.append(\n",
    "                    dict(\n",
    "                        x=row['Period'],\n",
    "                        y=row['Margin (%)'],\n",
    "                        text=f\"{row['Margin (%)']:.1f}%\",\n",
    "                        showarrow=False,\n",
    "                        xshift=25,\n",
    "                        yshift=5,\n",
    "                        font=dict(size=9, color=colors['margin'], weight='bold'),\n",
    "                        bgcolor='rgba(255,255,255,0.8)',\n",
    "                        borderpad=2,\n",
    "                        yref='y2'\n",
    "                    )\n",
    "                )\n",
    "        \n",
    "        fig.update_layout(annotations=annotations)\n",
    "    \n",
    "    # Update axes\n",
    "    fig.update_xaxes(\n",
    "        title_text=\"Period\",\n",
    "        showgrid=True,\n",
    "        gridcolor=colors['grid'],\n",
    "        linecolor='rgba(100,100,100,0.5)',\n",
    "        linewidth=2,\n",
    "        mirror=True\n",
    "    )\n",
    "    \n",
    "    fig.update_yaxes(\n",
    "        title_text=\"<b>Amount (IDR)</b>\",\n",
    "        showgrid=True,\n",
    "        gridcolor=colors['grid'],\n",
    "        linecolor='rgba(100,100,100,0.5)',\n",
    "        linewidth=2,\n",
    "        mirror=True,\n",
    "        secondary_y=False\n",
    "    )\n",
    "    \n",
    "    fig.update_yaxes(\n",
    "        title_text=\"<b>Margin (%)</b>\",\n",
    "        showgrid=False,\n",
    "        linecolor=colors['margin'],\n",
    "        linewidth=2,\n",
    "        mirror=True,\n",
    "        rangemode='tozero',\n",
    "        secondary_y=True\n",
    "    )\n",
    "    \n",
    "    # Update layout\n",
    "    fig.update_layout(\n",
    "        title=dict(\n",
    "            text=title or \"Monthly Revenue, Net Profit & Margin Analysis\",\n",
    "            x=0.5,\n",
    "            xanchor='center',\n",
    "            font=dict(size=20, color='#2c3e50', family='Arial Black')\n",
    "        ),\n",
    "        legend=dict(\n",
    "            orientation='h',\n",
    "            yanchor='bottom',\n",
    "            y=-0.25,\n",
    "            xanchor='center',\n",
    "            x=0.5,\n",
    "            bgcolor='rgba(255,255,255,0.9)',\n",
    "            bordercolor='rgba(100,100,100,0.3)',\n",
    "            borderwidth=1,\n",
    "            font=dict(size=12)\n",
    "        ),\n",
    "        template='plotly_white',\n",
    "        hovermode='x unified',\n",
    "        height=650,\n",
    "        plot_bgcolor='rgba(250,250,250,0.5)',\n",
    "        paper_bgcolor='white',\n",
    "        margin=dict(l=80, r=80, t=100, b=100)\n",
    "    )\n",
    "    \n",
    "    return fig\n",
    "\n",
    "\n",
    "# ============================================================\n",
    "# EXAMPLE USAGE WITH SAMPLE DATA\n",
    "# ============================================================\n",
    "# Display both versions\n",
    "print(\"Creating Fixed Version...\")\n",
    "fig_fixed = create_pnl_chart_fixed(pnl_df)\n",
    "fig_fixed.show()\n",
    "\n",
    "print(\"\\nCreating Improved Version...\")\n",
    "fig_improved = create_pnl_chart_improved(\n",
    "    pnl_df, \n",
    "    title=\"Monthly Revenue, Net Profit & Margin (%) — Jul–Sep 2025\",\n",
    "    show_annotations=True\n",
    ")\n",
    "fig_improved.show()\n",
    "\n",
    "# ============================================================\n",
    "# ADDITIONAL IMPROVEMENTS: Growth Rate Indicators\n",
    "# ============================================================\n",
    "\n",
    "def create_pnl_chart_with_growth(pnl_df, title=None):\n",
    "    \"\"\"\n",
    "    Version with growth rate indicators\n",
    "    \"\"\"\n",
    "    # Calculate growth rates\n",
    "    pnl_df = pnl_df.copy()\n",
    "    pnl_df['Revenue_Growth'] = pnl_df['Revenue'].pct_change() * 100\n",
    "    pnl_df['Profit_Growth'] = pnl_df['Net Profit'].pct_change() * 100\n",
    "    \n",
    "    # Create the improved chart\n",
    "    fig = create_pnl_chart_improved(pnl_df, title, show_annotations=False)\n",
    "    \n",
    "    # Add growth rate annotations\n",
    "    annotations = []\n",
    "    for i in range(1, len(pnl_df)):\n",
    "        row = pnl_df.iloc[i]\n",
    "        prev_row = pnl_df.iloc[i-1]\n",
    "        \n",
    "        # Revenue growth indicator\n",
    "        growth = row['Revenue_Growth']\n",
    "        arrow = \"↑\" if growth > 0 else \"↓\"\n",
    "        color = \"green\" if growth > 0 else \"red\"\n",
    "        \n",
    "        annotations.append(\n",
    "            dict(\n",
    "                x=row['Period'],\n",
    "                y=row['Revenue'],\n",
    "                text=f\"{arrow} {abs(growth):.1f}%\",\n",
    "                showarrow=True,\n",
    "                arrowhead=2,\n",
    "                arrowsize=1,\n",
    "                arrowwidth=2,\n",
    "                arrowcolor=color,\n",
    "                ax=0,\n",
    "                ay=-40,\n",
    "                font=dict(size=10, color=color, weight='bold'),\n",
    "                bgcolor='rgba(255,255,255,0.9)',\n",
    "                borderpad=3\n",
    "            )\n",
    "        )\n",
    "    \n",
    "    fig.update_layout(annotations=annotations)\n",
    "    \n",
    "    return fig\n",
    "\n",
    "# Example with growth indicators\n",
    "print(\"\\nCreating Version with Growth Indicators...\")\n",
    "fig_growth = create_pnl_chart_with_growth(pnl_df, title=\"P&L Analysis with Growth Indicators\")\n",
    "fig_growth.show()"
   ]
  }
 ],
 "metadata": {
  "kernelspec": {
   "display_name": "Python (machine-learning)",
   "language": "python",
   "name": "machine-learning"
  },
  "language_info": {
   "codemirror_mode": {
    "name": "ipython",
    "version": 3
   },
   "file_extension": ".py",
   "mimetype": "text/x-python",
   "name": "python",
   "nbconvert_exporter": "python",
   "pygments_lexer": "ipython3",
   "version": "3.10.11"
  }
 },
 "nbformat": 4,
 "nbformat_minor": 5
}
