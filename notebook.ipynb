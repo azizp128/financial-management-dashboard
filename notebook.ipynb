{
 "cells": [
  {
   "cell_type": "code",
   "execution_count": 130,
   "id": "05eba5a2-59ff-4eac-90fe-75fc61d35b54",
   "metadata": {},
   "outputs": [],
   "source": [
    "import pandas as pd\n",
    "import matplotlib.pyplot as plt\n",
    "import numpy as np\n",
    "import seaborn as sns"
   ]
  },
  {
   "cell_type": "markdown",
   "id": "eac3ed94-dc30-4121-94ab-fe394c139127",
   "metadata": {
    "jp-MarkdownHeadingCollapsed": true
   },
   "source": [
    "# Data Preparation"
   ]
  },
  {
   "cell_type": "markdown",
   "id": "7705c17f-7321-424d-979e-6153b7425459",
   "metadata": {
    "jp-MarkdownHeadingCollapsed": true
   },
   "source": [
    "## Import Datasets"
   ]
  },
  {
   "cell_type": "markdown",
   "id": "9317cff8-7f3e-407c-9247-6a42a7986e58",
   "metadata": {
    "jp-MarkdownHeadingCollapsed": true
   },
   "source": [
    "### sales"
   ]
  },
  {
   "cell_type": "code",
   "execution_count": 131,
   "id": "a45270b8-98c6-444c-9c11-05f73e01e7d7",
   "metadata": {},
   "outputs": [],
   "source": [
    "sales = pd.read_excel(\"datasets/sales.xlsx\")"
   ]
  },
  {
   "cell_type": "code",
   "execution_count": 132,
   "id": "c2bd6c9a-f26e-48f5-b109-23c3c8e7814e",
   "metadata": {},
   "outputs": [
    {
     "name": "stdout",
     "output_type": "stream",
     "text": [
      "<class 'pandas.core.frame.DataFrame'>\n",
      "RangeIndex: 887 entries, 0 to 886\n",
      "Data columns (total 9 columns):\n",
      " #   Column     Non-Null Count  Dtype         \n",
      "---  ------     --------------  -----         \n",
      " 0   Date       887 non-null    datetime64[ns]\n",
      " 1   InvoiceNo  887 non-null    object        \n",
      " 2   Product    887 non-null    object        \n",
      " 3   Category   887 non-null    object        \n",
      " 4   Quantity   887 non-null    int64         \n",
      " 5   UnitPrice  887 non-null    int64         \n",
      " 6   Customer   887 non-null    object        \n",
      " 7   Region     887 non-null    object        \n",
      " 8   Total      887 non-null    int64         \n",
      "dtypes: datetime64[ns](1), int64(3), object(5)\n",
      "memory usage: 62.5+ KB\n"
     ]
    }
   ],
   "source": [
    "sales.info()"
   ]
  },
  {
   "cell_type": "code",
   "execution_count": 133,
   "id": "0011ed25-30d2-4270-95d1-33f85ddb2c3b",
   "metadata": {},
   "outputs": [
    {
     "data": {
      "text/html": [
       "<div>\n",
       "<style scoped>\n",
       "    .dataframe tbody tr th:only-of-type {\n",
       "        vertical-align: middle;\n",
       "    }\n",
       "\n",
       "    .dataframe tbody tr th {\n",
       "        vertical-align: top;\n",
       "    }\n",
       "\n",
       "    .dataframe thead th {\n",
       "        text-align: right;\n",
       "    }\n",
       "</style>\n",
       "<table border=\"1\" class=\"dataframe\">\n",
       "  <thead>\n",
       "    <tr style=\"text-align: right;\">\n",
       "      <th></th>\n",
       "      <th>Date</th>\n",
       "      <th>InvoiceNo</th>\n",
       "      <th>Product</th>\n",
       "      <th>Category</th>\n",
       "      <th>Quantity</th>\n",
       "      <th>UnitPrice</th>\n",
       "      <th>Customer</th>\n",
       "      <th>Region</th>\n",
       "      <th>Total</th>\n",
       "    </tr>\n",
       "  </thead>\n",
       "  <tbody>\n",
       "    <tr>\n",
       "      <th>108</th>\n",
       "      <td>2025-07-12</td>\n",
       "      <td>INV1108</td>\n",
       "      <td>Titanium Ring</td>\n",
       "      <td>Jewelry</td>\n",
       "      <td>4</td>\n",
       "      <td>550000</td>\n",
       "      <td>Customer E</td>\n",
       "      <td>Jakarta</td>\n",
       "      <td>2200000</td>\n",
       "    </tr>\n",
       "    <tr>\n",
       "      <th>242</th>\n",
       "      <td>2025-07-24</td>\n",
       "      <td>INV1242</td>\n",
       "      <td>Pearl Earrings</td>\n",
       "      <td>Jewelry</td>\n",
       "      <td>1</td>\n",
       "      <td>650000</td>\n",
       "      <td>Customer A</td>\n",
       "      <td>Bandung</td>\n",
       "      <td>650000</td>\n",
       "    </tr>\n",
       "    <tr>\n",
       "      <th>755</th>\n",
       "      <td>2025-09-19</td>\n",
       "      <td>INV1755</td>\n",
       "      <td>Charm Pendant</td>\n",
       "      <td>Jewelry</td>\n",
       "      <td>1</td>\n",
       "      <td>350000</td>\n",
       "      <td>Customer D</td>\n",
       "      <td>Jakarta</td>\n",
       "      <td>350000</td>\n",
       "    </tr>\n",
       "    <tr>\n",
       "      <th>411</th>\n",
       "      <td>2025-08-13</td>\n",
       "      <td>INV1411</td>\n",
       "      <td>Charm Pendant</td>\n",
       "      <td>Jewelry</td>\n",
       "      <td>4</td>\n",
       "      <td>350000</td>\n",
       "      <td>Customer A</td>\n",
       "      <td>Surabaya</td>\n",
       "      <td>1400000</td>\n",
       "    </tr>\n",
       "    <tr>\n",
       "      <th>626</th>\n",
       "      <td>2025-09-06</td>\n",
       "      <td>INV1626</td>\n",
       "      <td>Gold Bracelet</td>\n",
       "      <td>Jewelry</td>\n",
       "      <td>1</td>\n",
       "      <td>350000</td>\n",
       "      <td>Customer E</td>\n",
       "      <td>Surabaya</td>\n",
       "      <td>350000</td>\n",
       "    </tr>\n",
       "  </tbody>\n",
       "</table>\n",
       "</div>"
      ],
      "text/plain": [
       "          Date InvoiceNo         Product Category  Quantity  UnitPrice  \\\n",
       "108 2025-07-12   INV1108   Titanium Ring  Jewelry         4     550000   \n",
       "242 2025-07-24   INV1242  Pearl Earrings  Jewelry         1     650000   \n",
       "755 2025-09-19   INV1755   Charm Pendant  Jewelry         1     350000   \n",
       "411 2025-08-13   INV1411   Charm Pendant  Jewelry         4     350000   \n",
       "626 2025-09-06   INV1626   Gold Bracelet  Jewelry         1     350000   \n",
       "\n",
       "       Customer    Region    Total  \n",
       "108  Customer E   Jakarta  2200000  \n",
       "242  Customer A   Bandung   650000  \n",
       "755  Customer D   Jakarta   350000  \n",
       "411  Customer A  Surabaya  1400000  \n",
       "626  Customer E  Surabaya   350000  "
      ]
     },
     "execution_count": 133,
     "metadata": {},
     "output_type": "execute_result"
    }
   ],
   "source": [
    "sales.sample(5)"
   ]
  },
  {
   "cell_type": "code",
   "execution_count": 134,
   "id": "a9cce347-61f9-4f17-9197-9c39359def0a",
   "metadata": {},
   "outputs": [
    {
     "data": {
      "text/plain": [
       "Product\n",
       "Titanium Ring      191\n",
       "Pearl Earrings     187\n",
       "Gold Bracelet      175\n",
       "Charm Pendant      172\n",
       "Silver Necklace    162\n",
       "Name: count, dtype: int64"
      ]
     },
     "execution_count": 134,
     "metadata": {},
     "output_type": "execute_result"
    }
   ],
   "source": [
    "sales['Product'].value_counts()"
   ]
  },
  {
   "cell_type": "code",
   "execution_count": 135,
   "id": "e4aa90aa-17b1-40ee-aabb-9f5f049c6a4e",
   "metadata": {},
   "outputs": [
    {
     "data": {
      "text/plain": [
       "Category\n",
       "Jewelry    887\n",
       "Name: count, dtype: int64"
      ]
     },
     "execution_count": 135,
     "metadata": {},
     "output_type": "execute_result"
    }
   ],
   "source": [
    "sales['Category'].value_counts()"
   ]
  },
  {
   "cell_type": "code",
   "execution_count": 136,
   "id": "9e9360ca-1bb1-4757-a739-2dfdcfbf839d",
   "metadata": {},
   "outputs": [
    {
     "data": {
      "text/plain": [
       "Quantity\n",
       "3    235\n",
       "4    220\n",
       "1    217\n",
       "2    215\n",
       "Name: count, dtype: int64"
      ]
     },
     "execution_count": 136,
     "metadata": {},
     "output_type": "execute_result"
    }
   ],
   "source": [
    "sales['Quantity'].value_counts()"
   ]
  },
  {
   "cell_type": "code",
   "execution_count": 137,
   "id": "0023e255-0018-4e27-a84f-329ceab2b598",
   "metadata": {},
   "outputs": [
    {
     "data": {
      "text/plain": [
       "UnitPrice\n",
       "250000    183\n",
       "650000    182\n",
       "350000    181\n",
       "550000    180\n",
       "450000    161\n",
       "Name: count, dtype: int64"
      ]
     },
     "execution_count": 137,
     "metadata": {},
     "output_type": "execute_result"
    }
   ],
   "source": [
    "sales['UnitPrice'].value_counts()"
   ]
  },
  {
   "cell_type": "code",
   "execution_count": 138,
   "id": "1a87660f-8e9d-4618-95b5-146225581c12",
   "metadata": {},
   "outputs": [
    {
     "data": {
      "text/plain": [
       "Customer\n",
       "Customer E    189\n",
       "Customer A    187\n",
       "Customer C    175\n",
       "Customer B    172\n",
       "Customer D    164\n",
       "Name: count, dtype: int64"
      ]
     },
     "execution_count": 138,
     "metadata": {},
     "output_type": "execute_result"
    }
   ],
   "source": [
    "sales['Customer'].value_counts()"
   ]
  },
  {
   "cell_type": "code",
   "execution_count": 139,
   "id": "578676cd-7ca8-4738-9c57-d260d4b2209e",
   "metadata": {},
   "outputs": [
    {
     "data": {
      "text/plain": [
       "Region\n",
       "Jakarta     200\n",
       "Medan       181\n",
       "Bandung     174\n",
       "Bali        168\n",
       "Surabaya    164\n",
       "Name: count, dtype: int64"
      ]
     },
     "execution_count": 139,
     "metadata": {},
     "output_type": "execute_result"
    }
   ],
   "source": [
    "sales['Region'].value_counts()"
   ]
  },
  {
   "cell_type": "code",
   "execution_count": 140,
   "id": "5763f797-fe71-418d-8803-dc51bda4cc05",
   "metadata": {},
   "outputs": [
    {
     "data": {
      "text/plain": [
       "Total\n",
       "1650000    54\n",
       "750000     54\n",
       "650000     51\n",
       "1400000    51\n",
       "1300000    49\n",
       "900000     49\n",
       "550000     48\n",
       "1050000    45\n",
       "350000     45\n",
       "1000000    44\n",
       "2200000    43\n",
       "250000     43\n",
       "500000     42\n",
       "2600000    42\n",
       "1350000    42\n",
       "1950000    40\n",
       "700000     40\n",
       "1800000    40\n",
       "1100000    35\n",
       "450000     30\n",
       "Name: count, dtype: int64"
      ]
     },
     "execution_count": 140,
     "metadata": {},
     "output_type": "execute_result"
    }
   ],
   "source": [
    "sales['Total'].value_counts()"
   ]
  },
  {
   "cell_type": "markdown",
   "id": "3f0943b7-bc97-4563-a29c-63673194851a",
   "metadata": {
    "jp-MarkdownHeadingCollapsed": true
   },
   "source": [
    "### expenses"
   ]
  },
  {
   "cell_type": "code",
   "execution_count": 141,
   "id": "b3e1fc1e-3bb1-4925-9a6b-25030133daa7",
   "metadata": {},
   "outputs": [],
   "source": [
    "expenses = pd.read_excel(\"datasets/expenses.xlsx\")"
   ]
  },
  {
   "cell_type": "code",
   "execution_count": 142,
   "id": "d8586bc1-817e-4e7b-9d49-b6061e85fb05",
   "metadata": {},
   "outputs": [
    {
     "name": "stdout",
     "output_type": "stream",
     "text": [
      "<class 'pandas.core.frame.DataFrame'>\n",
      "RangeIndex: 184 entries, 0 to 183\n",
      "Data columns (total 4 columns):\n",
      " #   Column       Non-Null Count  Dtype         \n",
      "---  ------       --------------  -----         \n",
      " 0   Date         184 non-null    datetime64[ns]\n",
      " 1   ExpenseType  184 non-null    object        \n",
      " 2   Description  184 non-null    object        \n",
      " 3   Amount       184 non-null    int64         \n",
      "dtypes: datetime64[ns](1), int64(1), object(2)\n",
      "memory usage: 5.9+ KB\n"
     ]
    }
   ],
   "source": [
    "expenses.info()"
   ]
  },
  {
   "cell_type": "code",
   "execution_count": 143,
   "id": "9bd31a86-bf2f-4151-9731-adee03c59678",
   "metadata": {},
   "outputs": [
    {
     "data": {
      "text/html": [
       "<div>\n",
       "<style scoped>\n",
       "    .dataframe tbody tr th:only-of-type {\n",
       "        vertical-align: middle;\n",
       "    }\n",
       "\n",
       "    .dataframe tbody tr th {\n",
       "        vertical-align: top;\n",
       "    }\n",
       "\n",
       "    .dataframe thead th {\n",
       "        text-align: right;\n",
       "    }\n",
       "</style>\n",
       "<table border=\"1\" class=\"dataframe\">\n",
       "  <thead>\n",
       "    <tr style=\"text-align: right;\">\n",
       "      <th></th>\n",
       "      <th>Date</th>\n",
       "      <th>ExpenseType</th>\n",
       "      <th>Description</th>\n",
       "      <th>Amount</th>\n",
       "    </tr>\n",
       "  </thead>\n",
       "  <tbody>\n",
       "    <tr>\n",
       "      <th>48</th>\n",
       "      <td>2025-07-27</td>\n",
       "      <td>Salaries</td>\n",
       "      <td>Salaries expense for operations</td>\n",
       "      <td>693839</td>\n",
       "    </tr>\n",
       "    <tr>\n",
       "      <th>97</th>\n",
       "      <td>2025-08-17</td>\n",
       "      <td>Rent</td>\n",
       "      <td>Rent expense for operations</td>\n",
       "      <td>4730207</td>\n",
       "    </tr>\n",
       "    <tr>\n",
       "      <th>65</th>\n",
       "      <td>2025-08-02</td>\n",
       "      <td>Salaries</td>\n",
       "      <td>Salaries expense for operations</td>\n",
       "      <td>2555845</td>\n",
       "    </tr>\n",
       "    <tr>\n",
       "      <th>165</th>\n",
       "      <td>2025-09-20</td>\n",
       "      <td>Supplies</td>\n",
       "      <td>Supplies expense for operations</td>\n",
       "      <td>1338927</td>\n",
       "    </tr>\n",
       "    <tr>\n",
       "      <th>52</th>\n",
       "      <td>2025-07-28</td>\n",
       "      <td>Salaries</td>\n",
       "      <td>Salaries expense for operations</td>\n",
       "      <td>2156042</td>\n",
       "    </tr>\n",
       "  </tbody>\n",
       "</table>\n",
       "</div>"
      ],
      "text/plain": [
       "          Date ExpenseType                      Description   Amount\n",
       "48  2025-07-27    Salaries  Salaries expense for operations   693839\n",
       "97  2025-08-17        Rent      Rent expense for operations  4730207\n",
       "65  2025-08-02    Salaries  Salaries expense for operations  2555845\n",
       "165 2025-09-20    Supplies  Supplies expense for operations  1338927\n",
       "52  2025-07-28    Salaries  Salaries expense for operations  2156042"
      ]
     },
     "execution_count": 143,
     "metadata": {},
     "output_type": "execute_result"
    }
   ],
   "source": [
    "expenses.sample(5)"
   ]
  },
  {
   "cell_type": "code",
   "execution_count": 144,
   "id": "9e038e13-00fe-4e6e-8f0b-c9dca5379fb5",
   "metadata": {},
   "outputs": [
    {
     "data": {
      "text/plain": [
       "ExpenseType\n",
       "Salaries     41\n",
       "Supplies     36\n",
       "Marketing    30\n",
       "Delivery     29\n",
       "Rent         24\n",
       "Utilities    24\n",
       "Name: count, dtype: int64"
      ]
     },
     "execution_count": 144,
     "metadata": {},
     "output_type": "execute_result"
    }
   ],
   "source": [
    "expenses['ExpenseType'].value_counts()"
   ]
  },
  {
   "cell_type": "code",
   "execution_count": 145,
   "id": "7984c00f-9856-42e8-a02e-6cec13ca2626",
   "metadata": {},
   "outputs": [
    {
     "data": {
      "text/plain": [
       "Description\n",
       "Salaries expense for operations     41\n",
       "Supplies expense for operations     36\n",
       "Marketing expense for operations    30\n",
       "Delivery expense for operations     29\n",
       "Rent expense for operations         24\n",
       "Utilities expense for operations    24\n",
       "Name: count, dtype: int64"
      ]
     },
     "execution_count": 145,
     "metadata": {},
     "output_type": "execute_result"
    }
   ],
   "source": [
    "expenses['Description'].value_counts()"
   ]
  },
  {
   "cell_type": "code",
   "execution_count": 146,
   "id": "35c498c3-949c-458e-a71e-f5a1c8d2e34c",
   "metadata": {},
   "outputs": [
    {
     "data": {
      "text/plain": [
       "count        184.000\n",
       "mean     2630461.163\n",
       "std      1291020.133\n",
       "min       500917.000\n",
       "25%      1443966.000\n",
       "50%      2503227.500\n",
       "75%      3663721.000\n",
       "max      4980967.000\n",
       "Name: Amount, dtype: float64"
      ]
     },
     "execution_count": 146,
     "metadata": {},
     "output_type": "execute_result"
    }
   ],
   "source": [
    "expenses['Amount'].describe().round(3)"
   ]
  },
  {
   "cell_type": "markdown",
   "id": "36735393-8ec7-4dbd-887f-b2f139a92390",
   "metadata": {
    "jp-MarkdownHeadingCollapsed": true
   },
   "source": [
    "### coa"
   ]
  },
  {
   "cell_type": "code",
   "execution_count": 147,
   "id": "a0c29059-353f-4926-b6d4-19b9a78c320d",
   "metadata": {},
   "outputs": [],
   "source": [
    "coa = pd.read_excel(\"datasets/mapping_coa.xlsx\")"
   ]
  },
  {
   "cell_type": "code",
   "execution_count": 148,
   "id": "6330d3ae-1662-4c2a-924e-5d7e8eaa8564",
   "metadata": {},
   "outputs": [
    {
     "name": "stdout",
     "output_type": "stream",
     "text": [
      "<class 'pandas.core.frame.DataFrame'>\n",
      "RangeIndex: 8 entries, 0 to 7\n",
      "Data columns (total 3 columns):\n",
      " #   Column       Non-Null Count  Dtype \n",
      "---  ------       --------------  ----- \n",
      " 0   Category     8 non-null      object\n",
      " 1   Account      8 non-null      int64 \n",
      " 2   AccountType  8 non-null      object\n",
      "dtypes: int64(1), object(2)\n",
      "memory usage: 320.0+ bytes\n"
     ]
    }
   ],
   "source": [
    "coa.info()"
   ]
  },
  {
   "cell_type": "code",
   "execution_count": 149,
   "id": "fb4a2b28-560e-4538-a84f-58eba69e1b06",
   "metadata": {},
   "outputs": [
    {
     "data": {
      "text/html": [
       "<div>\n",
       "<style scoped>\n",
       "    .dataframe tbody tr th:only-of-type {\n",
       "        vertical-align: middle;\n",
       "    }\n",
       "\n",
       "    .dataframe tbody tr th {\n",
       "        vertical-align: top;\n",
       "    }\n",
       "\n",
       "    .dataframe thead th {\n",
       "        text-align: right;\n",
       "    }\n",
       "</style>\n",
       "<table border=\"1\" class=\"dataframe\">\n",
       "  <thead>\n",
       "    <tr style=\"text-align: right;\">\n",
       "      <th></th>\n",
       "      <th>Category</th>\n",
       "      <th>Account</th>\n",
       "      <th>AccountType</th>\n",
       "    </tr>\n",
       "  </thead>\n",
       "  <tbody>\n",
       "    <tr>\n",
       "      <th>0</th>\n",
       "      <td>Jewelry Sales</td>\n",
       "      <td>4000</td>\n",
       "      <td>Revenue</td>\n",
       "    </tr>\n",
       "    <tr>\n",
       "      <th>1</th>\n",
       "      <td>Product Cost</td>\n",
       "      <td>5000</td>\n",
       "      <td>COGS</td>\n",
       "    </tr>\n",
       "    <tr>\n",
       "      <th>2</th>\n",
       "      <td>Marketing</td>\n",
       "      <td>6100</td>\n",
       "      <td>OPEX</td>\n",
       "    </tr>\n",
       "    <tr>\n",
       "      <th>3</th>\n",
       "      <td>Utilities</td>\n",
       "      <td>6200</td>\n",
       "      <td>OPEX</td>\n",
       "    </tr>\n",
       "    <tr>\n",
       "      <th>4</th>\n",
       "      <td>Salaries</td>\n",
       "      <td>6300</td>\n",
       "      <td>OPEX</td>\n",
       "    </tr>\n",
       "    <tr>\n",
       "      <th>5</th>\n",
       "      <td>Supplies</td>\n",
       "      <td>6400</td>\n",
       "      <td>OPEX</td>\n",
       "    </tr>\n",
       "    <tr>\n",
       "      <th>6</th>\n",
       "      <td>Rent</td>\n",
       "      <td>6500</td>\n",
       "      <td>OPEX</td>\n",
       "    </tr>\n",
       "    <tr>\n",
       "      <th>7</th>\n",
       "      <td>Delivery</td>\n",
       "      <td>6600</td>\n",
       "      <td>OPEX</td>\n",
       "    </tr>\n",
       "  </tbody>\n",
       "</table>\n",
       "</div>"
      ],
      "text/plain": [
       "        Category  Account AccountType\n",
       "0  Jewelry Sales     4000     Revenue\n",
       "1   Product Cost     5000        COGS\n",
       "2      Marketing     6100        OPEX\n",
       "3      Utilities     6200        OPEX\n",
       "4       Salaries     6300        OPEX\n",
       "5       Supplies     6400        OPEX\n",
       "6           Rent     6500        OPEX\n",
       "7       Delivery     6600        OPEX"
      ]
     },
     "execution_count": 149,
     "metadata": {},
     "output_type": "execute_result"
    }
   ],
   "source": [
    "coa"
   ]
  },
  {
   "cell_type": "code",
   "execution_count": 150,
   "id": "aed6f105-e1ba-4883-8f62-74326845b42a",
   "metadata": {},
   "outputs": [
    {
     "data": {
      "text/plain": [
       "Category\n",
       "Jewelry Sales    1\n",
       "Product Cost     1\n",
       "Marketing        1\n",
       "Utilities        1\n",
       "Salaries         1\n",
       "Supplies         1\n",
       "Rent             1\n",
       "Delivery         1\n",
       "Name: count, dtype: int64"
      ]
     },
     "execution_count": 150,
     "metadata": {},
     "output_type": "execute_result"
    }
   ],
   "source": [
    "coa['Category'].value_counts()"
   ]
  },
  {
   "cell_type": "code",
   "execution_count": 151,
   "id": "ba6d181f-ac39-4711-a605-9c29961ee698",
   "metadata": {},
   "outputs": [
    {
     "data": {
      "text/plain": [
       "Account\n",
       "4000    1\n",
       "5000    1\n",
       "6100    1\n",
       "6200    1\n",
       "6300    1\n",
       "6400    1\n",
       "6500    1\n",
       "6600    1\n",
       "Name: count, dtype: int64"
      ]
     },
     "execution_count": 151,
     "metadata": {},
     "output_type": "execute_result"
    }
   ],
   "source": [
    "coa['Account'].value_counts()"
   ]
  },
  {
   "cell_type": "code",
   "execution_count": 152,
   "id": "c3fc8cc0-fe2a-4b83-a7c4-cb2fc80b9149",
   "metadata": {},
   "outputs": [
    {
     "data": {
      "text/plain": [
       "AccountType\n",
       "OPEX       6\n",
       "Revenue    1\n",
       "COGS       1\n",
       "Name: count, dtype: int64"
      ]
     },
     "execution_count": 152,
     "metadata": {},
     "output_type": "execute_result"
    }
   ],
   "source": [
    "coa['AccountType'].value_counts()"
   ]
  },
  {
   "cell_type": "markdown",
   "id": "b245120f-5589-4aa0-a78d-09d7e55217ac",
   "metadata": {
    "jp-MarkdownHeadingCollapsed": true
   },
   "source": [
    "## Append Dataset"
   ]
  },
  {
   "cell_type": "code",
   "execution_count": 153,
   "id": "6854846b-fc41-4b61-9501-8b67f10d7c06",
   "metadata": {},
   "outputs": [
    {
     "data": {
      "text/html": [
       "<div>\n",
       "<style scoped>\n",
       "    .dataframe tbody tr th:only-of-type {\n",
       "        vertical-align: middle;\n",
       "    }\n",
       "\n",
       "    .dataframe tbody tr th {\n",
       "        vertical-align: top;\n",
       "    }\n",
       "\n",
       "    .dataframe thead th {\n",
       "        text-align: right;\n",
       "    }\n",
       "</style>\n",
       "<table border=\"1\" class=\"dataframe\">\n",
       "  <thead>\n",
       "    <tr style=\"text-align: right;\">\n",
       "      <th></th>\n",
       "      <th>Date</th>\n",
       "      <th>Category</th>\n",
       "      <th>Product</th>\n",
       "      <th>Description</th>\n",
       "      <th>Amount</th>\n",
       "      <th>InvoiceNo</th>\n",
       "      <th>Customer</th>\n",
       "      <th>Region</th>\n",
       "      <th>Source_Type</th>\n",
       "    </tr>\n",
       "  </thead>\n",
       "  <tbody>\n",
       "    <tr>\n",
       "      <th>364</th>\n",
       "      <td>2025-08-08</td>\n",
       "      <td>Jewelry</td>\n",
       "      <td>Silver Necklace</td>\n",
       "      <td>None</td>\n",
       "      <td>1300000</td>\n",
       "      <td>INV1364</td>\n",
       "      <td>Customer D</td>\n",
       "      <td>Surabaya</td>\n",
       "      <td>Sales</td>\n",
       "    </tr>\n",
       "    <tr>\n",
       "      <th>867</th>\n",
       "      <td>2025-09-29</td>\n",
       "      <td>Jewelry</td>\n",
       "      <td>Silver Necklace</td>\n",
       "      <td>None</td>\n",
       "      <td>900000</td>\n",
       "      <td>INV1867</td>\n",
       "      <td>Customer E</td>\n",
       "      <td>Jakarta</td>\n",
       "      <td>Sales</td>\n",
       "    </tr>\n",
       "    <tr>\n",
       "      <th>770</th>\n",
       "      <td>2025-09-20</td>\n",
       "      <td>Jewelry</td>\n",
       "      <td>Gold Bracelet</td>\n",
       "      <td>None</td>\n",
       "      <td>2200000</td>\n",
       "      <td>INV1770</td>\n",
       "      <td>Customer A</td>\n",
       "      <td>Surabaya</td>\n",
       "      <td>Sales</td>\n",
       "    </tr>\n",
       "    <tr>\n",
       "      <th>785</th>\n",
       "      <td>2025-09-21</td>\n",
       "      <td>Jewelry</td>\n",
       "      <td>Pearl Earrings</td>\n",
       "      <td>None</td>\n",
       "      <td>750000</td>\n",
       "      <td>INV1785</td>\n",
       "      <td>Customer C</td>\n",
       "      <td>Bali</td>\n",
       "      <td>Sales</td>\n",
       "    </tr>\n",
       "    <tr>\n",
       "      <th>831</th>\n",
       "      <td>2025-09-26</td>\n",
       "      <td>Jewelry</td>\n",
       "      <td>Titanium Ring</td>\n",
       "      <td>None</td>\n",
       "      <td>750000</td>\n",
       "      <td>INV1831</td>\n",
       "      <td>Customer A</td>\n",
       "      <td>Bandung</td>\n",
       "      <td>Sales</td>\n",
       "    </tr>\n",
       "  </tbody>\n",
       "</table>\n",
       "</div>"
      ],
      "text/plain": [
       "          Date Category          Product Description   Amount InvoiceNo  \\\n",
       "364 2025-08-08  Jewelry  Silver Necklace        None  1300000   INV1364   \n",
       "867 2025-09-29  Jewelry  Silver Necklace        None   900000   INV1867   \n",
       "770 2025-09-20  Jewelry    Gold Bracelet        None  2200000   INV1770   \n",
       "785 2025-09-21  Jewelry   Pearl Earrings        None   750000   INV1785   \n",
       "831 2025-09-26  Jewelry    Titanium Ring        None   750000   INV1831   \n",
       "\n",
       "       Customer    Region Source_Type  \n",
       "364  Customer D  Surabaya       Sales  \n",
       "867  Customer E   Jakarta       Sales  \n",
       "770  Customer A  Surabaya       Sales  \n",
       "785  Customer C      Bali       Sales  \n",
       "831  Customer A   Bandung       Sales  "
      ]
     },
     "execution_count": 153,
     "metadata": {},
     "output_type": "execute_result"
    }
   ],
   "source": [
    "# Standardize Sales\n",
    "sales = sales.rename(columns={\n",
    "    \"Total\": \"Amount\"\n",
    "})\n",
    "sales[\"Source_Type\"] = \"Sales\"\n",
    "sales[\"Description\"] = None\n",
    "\n",
    "# Pilih kolom relevan dan tambahkan kolom kosong agar sama dengan Expenses\n",
    "sales = sales[[\"Date\", \"Category\", \"Product\", \"Description\", \"Amount\", \"InvoiceNo\", \"Customer\", \"Region\", \"Source_Type\"]]\n",
    "sales.sample(5)"
   ]
  },
  {
   "cell_type": "code",
   "execution_count": 154,
   "id": "f1004c52-54c1-4cf8-bfdb-044b51864486",
   "metadata": {},
   "outputs": [
    {
     "data": {
      "text/html": [
       "<div>\n",
       "<style scoped>\n",
       "    .dataframe tbody tr th:only-of-type {\n",
       "        vertical-align: middle;\n",
       "    }\n",
       "\n",
       "    .dataframe tbody tr th {\n",
       "        vertical-align: top;\n",
       "    }\n",
       "\n",
       "    .dataframe thead th {\n",
       "        text-align: right;\n",
       "    }\n",
       "</style>\n",
       "<table border=\"1\" class=\"dataframe\">\n",
       "  <thead>\n",
       "    <tr style=\"text-align: right;\">\n",
       "      <th></th>\n",
       "      <th>Date</th>\n",
       "      <th>Category</th>\n",
       "      <th>Product</th>\n",
       "      <th>Description</th>\n",
       "      <th>Amount</th>\n",
       "      <th>InvoiceNo</th>\n",
       "      <th>Customer</th>\n",
       "      <th>Region</th>\n",
       "      <th>Source_Type</th>\n",
       "    </tr>\n",
       "  </thead>\n",
       "  <tbody>\n",
       "    <tr>\n",
       "      <th>61</th>\n",
       "      <td>2025-08-01</td>\n",
       "      <td>Salaries</td>\n",
       "      <td>None</td>\n",
       "      <td>Salaries expense for operations</td>\n",
       "      <td>1933284</td>\n",
       "      <td>None</td>\n",
       "      <td>None</td>\n",
       "      <td>None</td>\n",
       "      <td>Expense</td>\n",
       "    </tr>\n",
       "    <tr>\n",
       "      <th>92</th>\n",
       "      <td>2025-08-14</td>\n",
       "      <td>Marketing</td>\n",
       "      <td>None</td>\n",
       "      <td>Marketing expense for operations</td>\n",
       "      <td>3631603</td>\n",
       "      <td>None</td>\n",
       "      <td>None</td>\n",
       "      <td>None</td>\n",
       "      <td>Expense</td>\n",
       "    </tr>\n",
       "    <tr>\n",
       "      <th>147</th>\n",
       "      <td>2025-09-10</td>\n",
       "      <td>Marketing</td>\n",
       "      <td>None</td>\n",
       "      <td>Marketing expense for operations</td>\n",
       "      <td>1372834</td>\n",
       "      <td>None</td>\n",
       "      <td>None</td>\n",
       "      <td>None</td>\n",
       "      <td>Expense</td>\n",
       "    </tr>\n",
       "    <tr>\n",
       "      <th>73</th>\n",
       "      <td>2025-08-06</td>\n",
       "      <td>Rent</td>\n",
       "      <td>None</td>\n",
       "      <td>Rent expense for operations</td>\n",
       "      <td>4973447</td>\n",
       "      <td>None</td>\n",
       "      <td>None</td>\n",
       "      <td>None</td>\n",
       "      <td>Expense</td>\n",
       "    </tr>\n",
       "    <tr>\n",
       "      <th>75</th>\n",
       "      <td>2025-08-06</td>\n",
       "      <td>Utilities</td>\n",
       "      <td>None</td>\n",
       "      <td>Utilities expense for operations</td>\n",
       "      <td>749265</td>\n",
       "      <td>None</td>\n",
       "      <td>None</td>\n",
       "      <td>None</td>\n",
       "      <td>Expense</td>\n",
       "    </tr>\n",
       "  </tbody>\n",
       "</table>\n",
       "</div>"
      ],
      "text/plain": [
       "          Date   Category Product                       Description   Amount  \\\n",
       "61  2025-08-01   Salaries    None   Salaries expense for operations  1933284   \n",
       "92  2025-08-14  Marketing    None  Marketing expense for operations  3631603   \n",
       "147 2025-09-10  Marketing    None  Marketing expense for operations  1372834   \n",
       "73  2025-08-06       Rent    None       Rent expense for operations  4973447   \n",
       "75  2025-08-06  Utilities    None  Utilities expense for operations   749265   \n",
       "\n",
       "    InvoiceNo Customer Region Source_Type  \n",
       "61       None     None   None     Expense  \n",
       "92       None     None   None     Expense  \n",
       "147      None     None   None     Expense  \n",
       "73       None     None   None     Expense  \n",
       "75       None     None   None     Expense  "
      ]
     },
     "execution_count": 154,
     "metadata": {},
     "output_type": "execute_result"
    }
   ],
   "source": [
    "# Standardize Expenses\n",
    "expenses = expenses.rename(columns={\n",
    "    \"ExpenseType\": \"Category\"\n",
    "})\n",
    "expenses[\"Source_Type\"] = \"Expense\"\n",
    "expenses[\"InvoiceNo\"] = None\n",
    "expenses[\"Customer\"] = None\n",
    "expenses[\"Region\"] = None\n",
    "expenses[\"Product\"] = None\n",
    "\n",
    "expenses = expenses[[\"Date\", \"Category\", \"Product\", \"Description\", \"Amount\", \"InvoiceNo\", \"Customer\", \"Region\", \"Source_Type\"]]\n",
    "expenses.sample(5)"
   ]
  },
  {
   "cell_type": "code",
   "execution_count": 155,
   "id": "e7db3c6f-94f2-49cc-a43d-0b3103e71626",
   "metadata": {},
   "outputs": [
    {
     "data": {
      "text/html": [
       "<div>\n",
       "<style scoped>\n",
       "    .dataframe tbody tr th:only-of-type {\n",
       "        vertical-align: middle;\n",
       "    }\n",
       "\n",
       "    .dataframe tbody tr th {\n",
       "        vertical-align: top;\n",
       "    }\n",
       "\n",
       "    .dataframe thead th {\n",
       "        text-align: right;\n",
       "    }\n",
       "</style>\n",
       "<table border=\"1\" class=\"dataframe\">\n",
       "  <thead>\n",
       "    <tr style=\"text-align: right;\">\n",
       "      <th></th>\n",
       "      <th>Date</th>\n",
       "      <th>Category</th>\n",
       "      <th>Product</th>\n",
       "      <th>Description</th>\n",
       "      <th>Amount</th>\n",
       "      <th>InvoiceNo</th>\n",
       "      <th>Customer</th>\n",
       "      <th>Region</th>\n",
       "      <th>Source_Type</th>\n",
       "    </tr>\n",
       "  </thead>\n",
       "  <tbody>\n",
       "    <tr>\n",
       "      <th>456</th>\n",
       "      <td>2025-08-18</td>\n",
       "      <td>Jewelry</td>\n",
       "      <td>Charm Pendant</td>\n",
       "      <td>None</td>\n",
       "      <td>2600000</td>\n",
       "      <td>INV1456</td>\n",
       "      <td>Customer C</td>\n",
       "      <td>Bandung</td>\n",
       "      <td>Sales</td>\n",
       "    </tr>\n",
       "    <tr>\n",
       "      <th>210</th>\n",
       "      <td>2025-07-22</td>\n",
       "      <td>Jewelry</td>\n",
       "      <td>Silver Necklace</td>\n",
       "      <td>None</td>\n",
       "      <td>900000</td>\n",
       "      <td>INV1210</td>\n",
       "      <td>Customer D</td>\n",
       "      <td>Bandung</td>\n",
       "      <td>Sales</td>\n",
       "    </tr>\n",
       "    <tr>\n",
       "      <th>115</th>\n",
       "      <td>2025-07-12</td>\n",
       "      <td>Jewelry</td>\n",
       "      <td>Titanium Ring</td>\n",
       "      <td>None</td>\n",
       "      <td>700000</td>\n",
       "      <td>INV1115</td>\n",
       "      <td>Customer D</td>\n",
       "      <td>Jakarta</td>\n",
       "      <td>Sales</td>\n",
       "    </tr>\n",
       "    <tr>\n",
       "      <th>850</th>\n",
       "      <td>2025-09-27</td>\n",
       "      <td>Jewelry</td>\n",
       "      <td>Charm Pendant</td>\n",
       "      <td>None</td>\n",
       "      <td>1650000</td>\n",
       "      <td>INV1850</td>\n",
       "      <td>Customer C</td>\n",
       "      <td>Surabaya</td>\n",
       "      <td>Sales</td>\n",
       "    </tr>\n",
       "    <tr>\n",
       "      <th>979</th>\n",
       "      <td>2025-08-14</td>\n",
       "      <td>Marketing</td>\n",
       "      <td>None</td>\n",
       "      <td>Marketing expense for operations</td>\n",
       "      <td>-3631603</td>\n",
       "      <td>None</td>\n",
       "      <td>None</td>\n",
       "      <td>None</td>\n",
       "      <td>Expense</td>\n",
       "    </tr>\n",
       "  </tbody>\n",
       "</table>\n",
       "</div>"
      ],
      "text/plain": [
       "          Date   Category          Product                       Description  \\\n",
       "456 2025-08-18    Jewelry    Charm Pendant                              None   \n",
       "210 2025-07-22    Jewelry  Silver Necklace                              None   \n",
       "115 2025-07-12    Jewelry    Titanium Ring                              None   \n",
       "850 2025-09-27    Jewelry    Charm Pendant                              None   \n",
       "979 2025-08-14  Marketing             None  Marketing expense for operations   \n",
       "\n",
       "      Amount InvoiceNo    Customer    Region Source_Type  \n",
       "456  2600000   INV1456  Customer C   Bandung       Sales  \n",
       "210   900000   INV1210  Customer D   Bandung       Sales  \n",
       "115   700000   INV1115  Customer D   Jakarta       Sales  \n",
       "850  1650000   INV1850  Customer C  Surabaya       Sales  \n",
       "979 -3631603      None        None      None     Expense  "
      ]
     },
     "execution_count": 155,
     "metadata": {},
     "output_type": "execute_result"
    }
   ],
   "source": [
    "# Combine (Append)\n",
    "transactions = pd.concat([sales, expenses], ignore_index=True)\n",
    "\n",
    "# ubah expense menjadi negatif\n",
    "transactions[\"Amount\"] = transactions.apply(\n",
    "    lambda x: -x[\"Amount\"] if x[\"Source_Type\"] == \"Expense\" else x[\"Amount\"], axis=1\n",
    ")\n",
    "\n",
    "transactions.sample(5)"
   ]
  },
  {
   "cell_type": "code",
   "execution_count": 156,
   "id": "95d5b9c9-cdec-4b29-98c2-d82873a900ad",
   "metadata": {},
   "outputs": [
    {
     "data": {
      "text/html": [
       "<div>\n",
       "<style scoped>\n",
       "    .dataframe tbody tr th:only-of-type {\n",
       "        vertical-align: middle;\n",
       "    }\n",
       "\n",
       "    .dataframe tbody tr th {\n",
       "        vertical-align: top;\n",
       "    }\n",
       "\n",
       "    .dataframe thead th {\n",
       "        text-align: right;\n",
       "    }\n",
       "</style>\n",
       "<table border=\"1\" class=\"dataframe\">\n",
       "  <thead>\n",
       "    <tr style=\"text-align: right;\">\n",
       "      <th></th>\n",
       "      <th>Date</th>\n",
       "      <th>Category</th>\n",
       "      <th>Product</th>\n",
       "      <th>Description</th>\n",
       "      <th>Amount</th>\n",
       "      <th>InvoiceNo</th>\n",
       "      <th>Customer</th>\n",
       "      <th>Region</th>\n",
       "      <th>Source_Type</th>\n",
       "    </tr>\n",
       "  </thead>\n",
       "  <tbody>\n",
       "    <tr>\n",
       "      <th>0</th>\n",
       "      <td>2025-07-01</td>\n",
       "      <td>Jewelry</td>\n",
       "      <td>Pearl Earrings</td>\n",
       "      <td>None</td>\n",
       "      <td>450000</td>\n",
       "      <td>INV1000</td>\n",
       "      <td>Customer E</td>\n",
       "      <td>Bali</td>\n",
       "      <td>Sales</td>\n",
       "    </tr>\n",
       "    <tr>\n",
       "      <th>1</th>\n",
       "      <td>2025-07-01</td>\n",
       "      <td>Jewelry</td>\n",
       "      <td>Silver Necklace</td>\n",
       "      <td>None</td>\n",
       "      <td>1350000</td>\n",
       "      <td>INV1001</td>\n",
       "      <td>Customer C</td>\n",
       "      <td>Bali</td>\n",
       "      <td>Sales</td>\n",
       "    </tr>\n",
       "    <tr>\n",
       "      <th>2</th>\n",
       "      <td>2025-07-01</td>\n",
       "      <td>Jewelry</td>\n",
       "      <td>Pearl Earrings</td>\n",
       "      <td>None</td>\n",
       "      <td>1800000</td>\n",
       "      <td>INV1002</td>\n",
       "      <td>Customer E</td>\n",
       "      <td>Bandung</td>\n",
       "      <td>Sales</td>\n",
       "    </tr>\n",
       "    <tr>\n",
       "      <th>3</th>\n",
       "      <td>2025-07-01</td>\n",
       "      <td>Jewelry</td>\n",
       "      <td>Pearl Earrings</td>\n",
       "      <td>None</td>\n",
       "      <td>700000</td>\n",
       "      <td>INV1003</td>\n",
       "      <td>Customer D</td>\n",
       "      <td>Bali</td>\n",
       "      <td>Sales</td>\n",
       "    </tr>\n",
       "    <tr>\n",
       "      <th>4</th>\n",
       "      <td>2025-07-01</td>\n",
       "      <td>Jewelry</td>\n",
       "      <td>Titanium Ring</td>\n",
       "      <td>None</td>\n",
       "      <td>1400000</td>\n",
       "      <td>INV1004</td>\n",
       "      <td>Customer E</td>\n",
       "      <td>Medan</td>\n",
       "      <td>Sales</td>\n",
       "    </tr>\n",
       "    <tr>\n",
       "      <th>...</th>\n",
       "      <td>...</td>\n",
       "      <td>...</td>\n",
       "      <td>...</td>\n",
       "      <td>...</td>\n",
       "      <td>...</td>\n",
       "      <td>...</td>\n",
       "      <td>...</td>\n",
       "      <td>...</td>\n",
       "      <td>...</td>\n",
       "    </tr>\n",
       "    <tr>\n",
       "      <th>882</th>\n",
       "      <td>2025-09-30</td>\n",
       "      <td>Jewelry</td>\n",
       "      <td>Gold Bracelet</td>\n",
       "      <td>None</td>\n",
       "      <td>1300000</td>\n",
       "      <td>INV1882</td>\n",
       "      <td>Customer C</td>\n",
       "      <td>Surabaya</td>\n",
       "      <td>Sales</td>\n",
       "    </tr>\n",
       "    <tr>\n",
       "      <th>883</th>\n",
       "      <td>2025-09-30</td>\n",
       "      <td>Jewelry</td>\n",
       "      <td>Gold Bracelet</td>\n",
       "      <td>None</td>\n",
       "      <td>900000</td>\n",
       "      <td>INV1883</td>\n",
       "      <td>Customer D</td>\n",
       "      <td>Surabaya</td>\n",
       "      <td>Sales</td>\n",
       "    </tr>\n",
       "    <tr>\n",
       "      <th>884</th>\n",
       "      <td>2025-09-30</td>\n",
       "      <td>Jewelry</td>\n",
       "      <td>Pearl Earrings</td>\n",
       "      <td>None</td>\n",
       "      <td>1800000</td>\n",
       "      <td>INV1884</td>\n",
       "      <td>Customer B</td>\n",
       "      <td>Surabaya</td>\n",
       "      <td>Sales</td>\n",
       "    </tr>\n",
       "    <tr>\n",
       "      <th>885</th>\n",
       "      <td>2025-09-30</td>\n",
       "      <td>Jewelry</td>\n",
       "      <td>Gold Bracelet</td>\n",
       "      <td>None</td>\n",
       "      <td>900000</td>\n",
       "      <td>INV1885</td>\n",
       "      <td>Customer B</td>\n",
       "      <td>Jakarta</td>\n",
       "      <td>Sales</td>\n",
       "    </tr>\n",
       "    <tr>\n",
       "      <th>886</th>\n",
       "      <td>2025-09-30</td>\n",
       "      <td>Jewelry</td>\n",
       "      <td>Titanium Ring</td>\n",
       "      <td>None</td>\n",
       "      <td>2200000</td>\n",
       "      <td>INV1886</td>\n",
       "      <td>Customer B</td>\n",
       "      <td>Bali</td>\n",
       "      <td>Sales</td>\n",
       "    </tr>\n",
       "  </tbody>\n",
       "</table>\n",
       "<p>887 rows × 9 columns</p>\n",
       "</div>"
      ],
      "text/plain": [
       "          Date Category          Product Description   Amount InvoiceNo  \\\n",
       "0   2025-07-01  Jewelry   Pearl Earrings        None   450000   INV1000   \n",
       "1   2025-07-01  Jewelry  Silver Necklace        None  1350000   INV1001   \n",
       "2   2025-07-01  Jewelry   Pearl Earrings        None  1800000   INV1002   \n",
       "3   2025-07-01  Jewelry   Pearl Earrings        None   700000   INV1003   \n",
       "4   2025-07-01  Jewelry    Titanium Ring        None  1400000   INV1004   \n",
       "..         ...      ...              ...         ...      ...       ...   \n",
       "882 2025-09-30  Jewelry    Gold Bracelet        None  1300000   INV1882   \n",
       "883 2025-09-30  Jewelry    Gold Bracelet        None   900000   INV1883   \n",
       "884 2025-09-30  Jewelry   Pearl Earrings        None  1800000   INV1884   \n",
       "885 2025-09-30  Jewelry    Gold Bracelet        None   900000   INV1885   \n",
       "886 2025-09-30  Jewelry    Titanium Ring        None  2200000   INV1886   \n",
       "\n",
       "       Customer    Region Source_Type  \n",
       "0    Customer E      Bali       Sales  \n",
       "1    Customer C      Bali       Sales  \n",
       "2    Customer E   Bandung       Sales  \n",
       "3    Customer D      Bali       Sales  \n",
       "4    Customer E     Medan       Sales  \n",
       "..          ...       ...         ...  \n",
       "882  Customer C  Surabaya       Sales  \n",
       "883  Customer D  Surabaya       Sales  \n",
       "884  Customer B  Surabaya       Sales  \n",
       "885  Customer B   Jakarta       Sales  \n",
       "886  Customer B      Bali       Sales  \n",
       "\n",
       "[887 rows x 9 columns]"
      ]
     },
     "execution_count": 156,
     "metadata": {},
     "output_type": "execute_result"
    }
   ],
   "source": [
    "transactions[transactions['Source_Type'] == 'Sales']"
   ]
  },
  {
   "cell_type": "code",
   "execution_count": 157,
   "id": "30268405-4fa7-4184-a33c-7ff702a79e00",
   "metadata": {},
   "outputs": [
    {
     "data": {
      "text/html": [
       "<div>\n",
       "<style scoped>\n",
       "    .dataframe tbody tr th:only-of-type {\n",
       "        vertical-align: middle;\n",
       "    }\n",
       "\n",
       "    .dataframe tbody tr th {\n",
       "        vertical-align: top;\n",
       "    }\n",
       "\n",
       "    .dataframe thead th {\n",
       "        text-align: right;\n",
       "    }\n",
       "</style>\n",
       "<table border=\"1\" class=\"dataframe\">\n",
       "  <thead>\n",
       "    <tr style=\"text-align: right;\">\n",
       "      <th></th>\n",
       "      <th>Date</th>\n",
       "      <th>Category</th>\n",
       "      <th>Product</th>\n",
       "      <th>Description</th>\n",
       "      <th>Amount</th>\n",
       "      <th>InvoiceNo</th>\n",
       "      <th>Customer</th>\n",
       "      <th>Region</th>\n",
       "      <th>Source_Type</th>\n",
       "    </tr>\n",
       "  </thead>\n",
       "  <tbody>\n",
       "    <tr>\n",
       "      <th>887</th>\n",
       "      <td>2025-07-01</td>\n",
       "      <td>Rent</td>\n",
       "      <td>None</td>\n",
       "      <td>Rent expense for operations</td>\n",
       "      <td>-4524227</td>\n",
       "      <td>None</td>\n",
       "      <td>None</td>\n",
       "      <td>None</td>\n",
       "      <td>Expense</td>\n",
       "    </tr>\n",
       "    <tr>\n",
       "      <th>888</th>\n",
       "      <td>2025-07-01</td>\n",
       "      <td>Rent</td>\n",
       "      <td>None</td>\n",
       "      <td>Rent expense for operations</td>\n",
       "      <td>-3549316</td>\n",
       "      <td>None</td>\n",
       "      <td>None</td>\n",
       "      <td>None</td>\n",
       "      <td>Expense</td>\n",
       "    </tr>\n",
       "    <tr>\n",
       "      <th>889</th>\n",
       "      <td>2025-07-01</td>\n",
       "      <td>Supplies</td>\n",
       "      <td>None</td>\n",
       "      <td>Supplies expense for operations</td>\n",
       "      <td>-3049565</td>\n",
       "      <td>None</td>\n",
       "      <td>None</td>\n",
       "      <td>None</td>\n",
       "      <td>Expense</td>\n",
       "    </tr>\n",
       "    <tr>\n",
       "      <th>890</th>\n",
       "      <td>2025-07-02</td>\n",
       "      <td>Utilities</td>\n",
       "      <td>None</td>\n",
       "      <td>Utilities expense for operations</td>\n",
       "      <td>-3460883</td>\n",
       "      <td>None</td>\n",
       "      <td>None</td>\n",
       "      <td>None</td>\n",
       "      <td>Expense</td>\n",
       "    </tr>\n",
       "    <tr>\n",
       "      <th>891</th>\n",
       "      <td>2025-07-02</td>\n",
       "      <td>Rent</td>\n",
       "      <td>None</td>\n",
       "      <td>Rent expense for operations</td>\n",
       "      <td>-4607618</td>\n",
       "      <td>None</td>\n",
       "      <td>None</td>\n",
       "      <td>None</td>\n",
       "      <td>Expense</td>\n",
       "    </tr>\n",
       "    <tr>\n",
       "      <th>...</th>\n",
       "      <td>...</td>\n",
       "      <td>...</td>\n",
       "      <td>...</td>\n",
       "      <td>...</td>\n",
       "      <td>...</td>\n",
       "      <td>...</td>\n",
       "      <td>...</td>\n",
       "      <td>...</td>\n",
       "      <td>...</td>\n",
       "    </tr>\n",
       "    <tr>\n",
       "      <th>1066</th>\n",
       "      <td>2025-09-28</td>\n",
       "      <td>Rent</td>\n",
       "      <td>None</td>\n",
       "      <td>Rent expense for operations</td>\n",
       "      <td>-2615226</td>\n",
       "      <td>None</td>\n",
       "      <td>None</td>\n",
       "      <td>None</td>\n",
       "      <td>Expense</td>\n",
       "    </tr>\n",
       "    <tr>\n",
       "      <th>1067</th>\n",
       "      <td>2025-09-29</td>\n",
       "      <td>Salaries</td>\n",
       "      <td>None</td>\n",
       "      <td>Salaries expense for operations</td>\n",
       "      <td>-4130400</td>\n",
       "      <td>None</td>\n",
       "      <td>None</td>\n",
       "      <td>None</td>\n",
       "      <td>Expense</td>\n",
       "    </tr>\n",
       "    <tr>\n",
       "      <th>1068</th>\n",
       "      <td>2025-09-29</td>\n",
       "      <td>Marketing</td>\n",
       "      <td>None</td>\n",
       "      <td>Marketing expense for operations</td>\n",
       "      <td>-3354119</td>\n",
       "      <td>None</td>\n",
       "      <td>None</td>\n",
       "      <td>None</td>\n",
       "      <td>Expense</td>\n",
       "    </tr>\n",
       "    <tr>\n",
       "      <th>1069</th>\n",
       "      <td>2025-09-30</td>\n",
       "      <td>Delivery</td>\n",
       "      <td>None</td>\n",
       "      <td>Delivery expense for operations</td>\n",
       "      <td>-4097170</td>\n",
       "      <td>None</td>\n",
       "      <td>None</td>\n",
       "      <td>None</td>\n",
       "      <td>Expense</td>\n",
       "    </tr>\n",
       "    <tr>\n",
       "      <th>1070</th>\n",
       "      <td>2025-09-30</td>\n",
       "      <td>Marketing</td>\n",
       "      <td>None</td>\n",
       "      <td>Marketing expense for operations</td>\n",
       "      <td>-953222</td>\n",
       "      <td>None</td>\n",
       "      <td>None</td>\n",
       "      <td>None</td>\n",
       "      <td>Expense</td>\n",
       "    </tr>\n",
       "  </tbody>\n",
       "</table>\n",
       "<p>184 rows × 9 columns</p>\n",
       "</div>"
      ],
      "text/plain": [
       "           Date   Category Product                       Description   Amount  \\\n",
       "887  2025-07-01       Rent    None       Rent expense for operations -4524227   \n",
       "888  2025-07-01       Rent    None       Rent expense for operations -3549316   \n",
       "889  2025-07-01   Supplies    None   Supplies expense for operations -3049565   \n",
       "890  2025-07-02  Utilities    None  Utilities expense for operations -3460883   \n",
       "891  2025-07-02       Rent    None       Rent expense for operations -4607618   \n",
       "...         ...        ...     ...                               ...      ...   \n",
       "1066 2025-09-28       Rent    None       Rent expense for operations -2615226   \n",
       "1067 2025-09-29   Salaries    None   Salaries expense for operations -4130400   \n",
       "1068 2025-09-29  Marketing    None  Marketing expense for operations -3354119   \n",
       "1069 2025-09-30   Delivery    None   Delivery expense for operations -4097170   \n",
       "1070 2025-09-30  Marketing    None  Marketing expense for operations  -953222   \n",
       "\n",
       "     InvoiceNo Customer Region Source_Type  \n",
       "887       None     None   None     Expense  \n",
       "888       None     None   None     Expense  \n",
       "889       None     None   None     Expense  \n",
       "890       None     None   None     Expense  \n",
       "891       None     None   None     Expense  \n",
       "...        ...      ...    ...         ...  \n",
       "1066      None     None   None     Expense  \n",
       "1067      None     None   None     Expense  \n",
       "1068      None     None   None     Expense  \n",
       "1069      None     None   None     Expense  \n",
       "1070      None     None   None     Expense  \n",
       "\n",
       "[184 rows x 9 columns]"
      ]
     },
     "execution_count": 157,
     "metadata": {},
     "output_type": "execute_result"
    }
   ],
   "source": [
    "transactions[transactions['Source_Type'] == 'Expense']"
   ]
  },
  {
   "cell_type": "code",
   "execution_count": 158,
   "id": "8a0e27f9-4d8f-4aab-8e8a-412630c1adcc",
   "metadata": {},
   "outputs": [
    {
     "name": "stdout",
     "output_type": "stream",
     "text": [
      "<class 'pandas.core.frame.DataFrame'>\n",
      "RangeIndex: 1071 entries, 0 to 1070\n",
      "Data columns (total 9 columns):\n",
      " #   Column       Non-Null Count  Dtype         \n",
      "---  ------       --------------  -----         \n",
      " 0   Date         1071 non-null   datetime64[ns]\n",
      " 1   Category     1071 non-null   object        \n",
      " 2   Product      887 non-null    object        \n",
      " 3   Description  184 non-null    object        \n",
      " 4   Amount       1071 non-null   int64         \n",
      " 5   InvoiceNo    887 non-null    object        \n",
      " 6   Customer     887 non-null    object        \n",
      " 7   Region       887 non-null    object        \n",
      " 8   Source_Type  1071 non-null   object        \n",
      "dtypes: datetime64[ns](1), int64(1), object(7)\n",
      "memory usage: 75.4+ KB\n"
     ]
    }
   ],
   "source": [
    "transactions.info()"
   ]
  },
  {
   "cell_type": "markdown",
   "id": "bad67f5f-d23e-4dfc-b8da-a9e697870307",
   "metadata": {
    "jp-MarkdownHeadingCollapsed": true
   },
   "source": [
    "## Data Cleaning"
   ]
  },
  {
   "cell_type": "code",
   "execution_count": 159,
   "id": "3f74131b-74d6-490d-9541-7976868a9fb1",
   "metadata": {},
   "outputs": [
    {
     "data": {
      "text/plain": [
       "0"
      ]
     },
     "execution_count": 159,
     "metadata": {},
     "output_type": "execute_result"
    }
   ],
   "source": [
    "# Cek duplikat\n",
    "transactions.duplicated().sum()"
   ]
  },
  {
   "cell_type": "code",
   "execution_count": 160,
   "id": "8fbb5bf2-f413-4d32-9305-200aabe375df",
   "metadata": {},
   "outputs": [
    {
     "data": {
      "text/html": [
       "<div>\n",
       "<style scoped>\n",
       "    .dataframe tbody tr th:only-of-type {\n",
       "        vertical-align: middle;\n",
       "    }\n",
       "\n",
       "    .dataframe tbody tr th {\n",
       "        vertical-align: top;\n",
       "    }\n",
       "\n",
       "    .dataframe thead th {\n",
       "        text-align: right;\n",
       "    }\n",
       "</style>\n",
       "<table border=\"1\" class=\"dataframe\">\n",
       "  <thead>\n",
       "    <tr style=\"text-align: right;\">\n",
       "      <th></th>\n",
       "      <th>Date</th>\n",
       "      <th>Category</th>\n",
       "      <th>Product</th>\n",
       "      <th>Description</th>\n",
       "      <th>Amount</th>\n",
       "      <th>InvoiceNo</th>\n",
       "      <th>Customer</th>\n",
       "      <th>Region</th>\n",
       "      <th>Source_Type</th>\n",
       "      <th>Category_COA</th>\n",
       "      <th>Account</th>\n",
       "      <th>AccountType</th>\n",
       "      <th>Year</th>\n",
       "      <th>Month</th>\n",
       "      <th>Period</th>\n",
       "    </tr>\n",
       "  </thead>\n",
       "  <tbody>\n",
       "    <tr>\n",
       "      <th>505</th>\n",
       "      <td>2025-08-23</td>\n",
       "      <td>Jewelry</td>\n",
       "      <td>Gold Bracelet</td>\n",
       "      <td>None</td>\n",
       "      <td>1050000</td>\n",
       "      <td>INV1505</td>\n",
       "      <td>Customer A</td>\n",
       "      <td>Bali</td>\n",
       "      <td>Sales</td>\n",
       "      <td>Jewelry Sales</td>\n",
       "      <td>4000</td>\n",
       "      <td>Revenue</td>\n",
       "      <td>2025</td>\n",
       "      <td>8</td>\n",
       "      <td>Aug 2025</td>\n",
       "    </tr>\n",
       "    <tr>\n",
       "      <th>157</th>\n",
       "      <td>2025-07-16</td>\n",
       "      <td>Jewelry</td>\n",
       "      <td>Pearl Earrings</td>\n",
       "      <td>None</td>\n",
       "      <td>2600000</td>\n",
       "      <td>INV1157</td>\n",
       "      <td>Customer B</td>\n",
       "      <td>Bali</td>\n",
       "      <td>Sales</td>\n",
       "      <td>Jewelry Sales</td>\n",
       "      <td>4000</td>\n",
       "      <td>Revenue</td>\n",
       "      <td>2025</td>\n",
       "      <td>7</td>\n",
       "      <td>Jul 2025</td>\n",
       "    </tr>\n",
       "    <tr>\n",
       "      <th>315</th>\n",
       "      <td>2025-08-02</td>\n",
       "      <td>Jewelry</td>\n",
       "      <td>Gold Bracelet</td>\n",
       "      <td>None</td>\n",
       "      <td>1800000</td>\n",
       "      <td>INV1315</td>\n",
       "      <td>Customer B</td>\n",
       "      <td>Jakarta</td>\n",
       "      <td>Sales</td>\n",
       "      <td>Jewelry Sales</td>\n",
       "      <td>4000</td>\n",
       "      <td>Revenue</td>\n",
       "      <td>2025</td>\n",
       "      <td>8</td>\n",
       "      <td>Aug 2025</td>\n",
       "    </tr>\n",
       "    <tr>\n",
       "      <th>450</th>\n",
       "      <td>2025-08-17</td>\n",
       "      <td>Jewelry</td>\n",
       "      <td>Titanium Ring</td>\n",
       "      <td>None</td>\n",
       "      <td>500000</td>\n",
       "      <td>INV1450</td>\n",
       "      <td>Customer E</td>\n",
       "      <td>Jakarta</td>\n",
       "      <td>Sales</td>\n",
       "      <td>Jewelry Sales</td>\n",
       "      <td>4000</td>\n",
       "      <td>Revenue</td>\n",
       "      <td>2025</td>\n",
       "      <td>8</td>\n",
       "      <td>Aug 2025</td>\n",
       "    </tr>\n",
       "    <tr>\n",
       "      <th>357</th>\n",
       "      <td>2025-08-07</td>\n",
       "      <td>Jewelry</td>\n",
       "      <td>Gold Bracelet</td>\n",
       "      <td>None</td>\n",
       "      <td>1400000</td>\n",
       "      <td>INV1357</td>\n",
       "      <td>Customer C</td>\n",
       "      <td>Surabaya</td>\n",
       "      <td>Sales</td>\n",
       "      <td>Jewelry Sales</td>\n",
       "      <td>4000</td>\n",
       "      <td>Revenue</td>\n",
       "      <td>2025</td>\n",
       "      <td>8</td>\n",
       "      <td>Aug 2025</td>\n",
       "    </tr>\n",
       "  </tbody>\n",
       "</table>\n",
       "</div>"
      ],
      "text/plain": [
       "          Date Category         Product Description   Amount InvoiceNo  \\\n",
       "505 2025-08-23  Jewelry   Gold Bracelet        None  1050000   INV1505   \n",
       "157 2025-07-16  Jewelry  Pearl Earrings        None  2600000   INV1157   \n",
       "315 2025-08-02  Jewelry   Gold Bracelet        None  1800000   INV1315   \n",
       "450 2025-08-17  Jewelry   Titanium Ring        None   500000   INV1450   \n",
       "357 2025-08-07  Jewelry   Gold Bracelet        None  1400000   INV1357   \n",
       "\n",
       "       Customer    Region Source_Type   Category_COA  Account AccountType  \\\n",
       "505  Customer A      Bali       Sales  Jewelry Sales     4000     Revenue   \n",
       "157  Customer B      Bali       Sales  Jewelry Sales     4000     Revenue   \n",
       "315  Customer B   Jakarta       Sales  Jewelry Sales     4000     Revenue   \n",
       "450  Customer E   Jakarta       Sales  Jewelry Sales     4000     Revenue   \n",
       "357  Customer C  Surabaya       Sales  Jewelry Sales     4000     Revenue   \n",
       "\n",
       "     Year  Month    Period  \n",
       "505  2025      8  Aug 2025  \n",
       "157  2025      7  Jul 2025  \n",
       "315  2025      8  Aug 2025  \n",
       "450  2025      8  Aug 2025  \n",
       "357  2025      8  Aug 2025  "
      ]
     },
     "execution_count": 160,
     "metadata": {},
     "output_type": "execute_result"
    }
   ],
   "source": [
    "# Type Casting\n",
    "transactions['Date'] = pd.to_datetime(transactions['Date'])\n",
    "transactions['Amount'] = pd.to_numeric(transactions['Amount'], errors='coerce')\n",
    "\n",
    "# Buat mapping manual\n",
    "category_mapping = {\n",
    "    \"Jewelry\": \"Jewelry Sales\",     # dari Sales\n",
    "    \"Salaries\": \"Salaries\",\n",
    "    \"Supplies\": \"Supplies\",\n",
    "    \"Marketing\": \"Marketing\",\n",
    "    \"Delivery\": \"Delivery\",\n",
    "    \"Rent\": \"Rent\",\n",
    "    \"Utilities\": \"Utilities\",\n",
    "    \"Product Cost\": \"Product Cost\" # Tidak ada match\n",
    "}\n",
    "\n",
    "# Buat kolom kategori baru untuk merge\n",
    "transactions[\"Category_COA\"] = transactions[\"Category\"].map(category_mapping)\n",
    "\n",
    "# Merge dengan COA\n",
    "transactions_merged = transactions.merge(coa, how=\"left\", left_on=\"Category_COA\", right_on=\"Category\")\n",
    "\n",
    "# Hapus duplikat kolom Category dari COA (optional)\n",
    "transactions_merged = transactions_merged.drop(columns=[\"Category_y\"]).rename(columns={\"Category_x\":\"Category\"})\n",
    "\n",
    "# Type Casting kolom Account\n",
    "transactions_merged['Account'] = pd.to_numeric(transactions_merged['Account'], errors='coerce')\n",
    "\n",
    "# Add year & month\n",
    "transactions_merged['Year'] = transactions_merged['Date'].dt.year\n",
    "transactions_merged['Month'] = transactions_merged['Date'].dt.month\n",
    "\n",
    "# Period\n",
    "transactions_merged['Period'] = pd.to_datetime(transactions_merged[['Year','Month']].assign(day=1)).dt.strftime('%b %Y')\n",
    "\n",
    "transactions_merged.sample(5)"
   ]
  },
  {
   "cell_type": "code",
   "execution_count": 161,
   "id": "0c88aa5a-0785-479e-96ec-6b3ae427fac0",
   "metadata": {},
   "outputs": [
    {
     "name": "stdout",
     "output_type": "stream",
     "text": [
      "<class 'pandas.core.frame.DataFrame'>\n",
      "RangeIndex: 1071 entries, 0 to 1070\n",
      "Data columns (total 15 columns):\n",
      " #   Column        Non-Null Count  Dtype         \n",
      "---  ------        --------------  -----         \n",
      " 0   Date          1071 non-null   datetime64[ns]\n",
      " 1   Category      1071 non-null   object        \n",
      " 2   Product       887 non-null    object        \n",
      " 3   Description   184 non-null    object        \n",
      " 4   Amount        1071 non-null   int64         \n",
      " 5   InvoiceNo     887 non-null    object        \n",
      " 6   Customer      887 non-null    object        \n",
      " 7   Region        887 non-null    object        \n",
      " 8   Source_Type   1071 non-null   object        \n",
      " 9   Category_COA  1071 non-null   object        \n",
      " 10  Account       1071 non-null   int64         \n",
      " 11  AccountType   1071 non-null   object        \n",
      " 12  Year          1071 non-null   int32         \n",
      " 13  Month         1071 non-null   int32         \n",
      " 14  Period        1071 non-null   object        \n",
      "dtypes: datetime64[ns](1), int32(2), int64(2), object(10)\n",
      "memory usage: 117.3+ KB\n"
     ]
    }
   ],
   "source": [
    "transactions_merged.info()"
   ]
  },
  {
   "cell_type": "code",
   "execution_count": 162,
   "id": "18cee8da-87c4-4603-b0a9-8c55123d21f2",
   "metadata": {},
   "outputs": [
    {
     "name": "stdout",
     "output_type": "stream",
     "text": [
      "⚠️ Peringatan: Ada transaksi yang tidak terpetakan di COA!\n",
      "\tDaftar kategori belum terpetakan: ['Product Cost']\n",
      "👉 Disimpan di Unmapped_Transactions.csv untuk review.\n"
     ]
    }
   ],
   "source": [
    "# Peringatan kalau ada transaksi tanpa mapping\n",
    "mapped_categories = set(category_mapping.keys())\n",
    "existing_categories = set(transactions_merged['Category'].unique())\n",
    "unused_in_transactions = mapped_categories - existing_categories\n",
    "output_unused_in_transactions = pd.DataFrame({'Category': list(unused_in_transactions)})\n",
    "\n",
    "if unused_in_transactions:\n",
    "    print(\"⚠️ Peringatan: Ada transaksi yang tidak terpetakan di COA!\\n\\tDaftar kategori belum terpetakan:\", list(unused_in_transactions))\n",
    "    output_unused_in_transactions.to_csv(\"output/Unmapped_Transactions.csv\", index=False)\n",
    "    print(\"👉 Disimpan di Unmapped_Transactions.csv untuk review.\")"
   ]
  },
  {
   "cell_type": "markdown",
   "id": "bbfb0293-b80f-45dc-9a72-530c2e9fe2fe",
   "metadata": {
    "jp-MarkdownHeadingCollapsed": true
   },
   "source": [
    "# Automation"
   ]
  },
  {
   "cell_type": "markdown",
   "id": "59ad5be3-fb20-40f6-8455-4759cc5d927b",
   "metadata": {
    "jp-MarkdownHeadingCollapsed": true
   },
   "source": [
    "## Laporan Laba Rugi bulanan"
   ]
  },
  {
   "cell_type": "code",
   "execution_count": 163,
   "id": "965d4c79-9e65-4e85-ad26-d237408b1224",
   "metadata": {},
   "outputs": [
    {
     "name": "stdout",
     "output_type": "stream",
     "text": [
      "⚠️ Warning: Ada akun yang tidak muncul di transaksi bulan ini: ['COGS']\n"
     ]
    },
    {
     "data": {
      "text/html": [
       "<div>\n",
       "<style scoped>\n",
       "    .dataframe tbody tr th:only-of-type {\n",
       "        vertical-align: middle;\n",
       "    }\n",
       "\n",
       "    .dataframe tbody tr th {\n",
       "        vertical-align: top;\n",
       "    }\n",
       "\n",
       "    .dataframe thead th {\n",
       "        text-align: right;\n",
       "    }\n",
       "</style>\n",
       "<table border=\"1\" class=\"dataframe\">\n",
       "  <thead>\n",
       "    <tr style=\"text-align: right;\">\n",
       "      <th></th>\n",
       "      <th>Year</th>\n",
       "      <th>Month</th>\n",
       "      <th>OPEX</th>\n",
       "      <th>Revenue</th>\n",
       "    </tr>\n",
       "  </thead>\n",
       "  <tbody>\n",
       "    <tr>\n",
       "      <th>0</th>\n",
       "      <td>2025</td>\n",
       "      <td>7</td>\n",
       "      <td>-162071155</td>\n",
       "      <td>354100000</td>\n",
       "    </tr>\n",
       "    <tr>\n",
       "      <th>1</th>\n",
       "      <td>2025</td>\n",
       "      <td>8</td>\n",
       "      <td>-164949350</td>\n",
       "      <td>315250000</td>\n",
       "    </tr>\n",
       "    <tr>\n",
       "      <th>2</th>\n",
       "      <td>2025</td>\n",
       "      <td>9</td>\n",
       "      <td>-156984349</td>\n",
       "      <td>328250000</td>\n",
       "    </tr>\n",
       "  </tbody>\n",
       "</table>\n",
       "</div>"
      ],
      "text/plain": [
       "   Year  Month       OPEX    Revenue\n",
       "0  2025      7 -162071155  354100000\n",
       "1  2025      8 -164949350  315250000\n",
       "2  2025      9 -156984349  328250000"
      ]
     },
     "execution_count": 163,
     "metadata": {},
     "output_type": "execute_result"
    }
   ],
   "source": [
    "# Daftar AccountType yang diharapkan (berdasarkan COA)\n",
    "expected_types = list(set(pd.read_excel(\"datasets/mapping_coa.xlsx\")['AccountType']))  # ['Revenue', 'OPEX', 'COGS']\n",
    "\n",
    "# Deteksi akun yang diharapkan tapi tidak ada di transaksi\n",
    "missing_accounts = [acct for acct in expected_types if acct not in transactions_merged['AccountType'].unique()]\n",
    "\n",
    "if missing_accounts:\n",
    "    print(\"⚠️ Warning: Ada akun yang tidak muncul di transaksi bulan ini:\", missing_accounts)\n",
    "else:\n",
    "    print(\"✅ Semua akun utama (Revenue, OPEX, COGS) ada di data transaksi.\")\n",
    "\n",
    "# Pivot transaksi berdasarkan AccountType\n",
    "pnl = transactions_merged.pivot_table(\n",
    "    index=['Year', 'Month'],\n",
    "    columns='AccountType',\n",
    "    values='Amount',\n",
    "    aggfunc='sum',\n",
    "    fill_value=0\n",
    ").reset_index()\n",
    "pnl.columns.name = None\n",
    "pnl"
   ]
  },
  {
   "cell_type": "code",
   "execution_count": 164,
   "id": "936da760-4527-4492-9670-7b7a0b848b90",
   "metadata": {},
   "outputs": [
    {
     "data": {
      "text/html": [
       "<div>\n",
       "<style scoped>\n",
       "    .dataframe tbody tr th:only-of-type {\n",
       "        vertical-align: middle;\n",
       "    }\n",
       "\n",
       "    .dataframe tbody tr th {\n",
       "        vertical-align: top;\n",
       "    }\n",
       "\n",
       "    .dataframe thead th {\n",
       "        text-align: right;\n",
       "    }\n",
       "</style>\n",
       "<table border=\"1\" class=\"dataframe\">\n",
       "  <thead>\n",
       "    <tr style=\"text-align: right;\">\n",
       "      <th></th>\n",
       "      <th>Period</th>\n",
       "      <th>Revenue</th>\n",
       "      <th>Expense</th>\n",
       "      <th>Net Profit</th>\n",
       "      <th>Year</th>\n",
       "      <th>Month</th>\n",
       "      <th>OPEX</th>\n",
       "      <th>COGS</th>\n",
       "    </tr>\n",
       "  </thead>\n",
       "  <tbody>\n",
       "    <tr>\n",
       "      <th>0</th>\n",
       "      <td>Jul 2025</td>\n",
       "      <td>354100000</td>\n",
       "      <td>162071155</td>\n",
       "      <td>192028845</td>\n",
       "      <td>2025</td>\n",
       "      <td>7</td>\n",
       "      <td>162071155</td>\n",
       "      <td>0</td>\n",
       "    </tr>\n",
       "    <tr>\n",
       "      <th>1</th>\n",
       "      <td>Aug 2025</td>\n",
       "      <td>315250000</td>\n",
       "      <td>164949350</td>\n",
       "      <td>150300650</td>\n",
       "      <td>2025</td>\n",
       "      <td>8</td>\n",
       "      <td>164949350</td>\n",
       "      <td>0</td>\n",
       "    </tr>\n",
       "    <tr>\n",
       "      <th>2</th>\n",
       "      <td>Sep 2025</td>\n",
       "      <td>328250000</td>\n",
       "      <td>156984349</td>\n",
       "      <td>171265651</td>\n",
       "      <td>2025</td>\n",
       "      <td>9</td>\n",
       "      <td>156984349</td>\n",
       "      <td>0</td>\n",
       "    </tr>\n",
       "  </tbody>\n",
       "</table>\n",
       "</div>"
      ],
      "text/plain": [
       "     Period    Revenue    Expense  Net Profit  Year  Month       OPEX  COGS\n",
       "0  Jul 2025  354100000  162071155   192028845  2025      7  162071155     0\n",
       "1  Aug 2025  315250000  164949350   150300650  2025      8  164949350     0\n",
       "2  Sep 2025  328250000  156984349   171265651  2025      9  156984349     0"
      ]
     },
     "execution_count": 164,
     "metadata": {},
     "output_type": "execute_result"
    }
   ],
   "source": [
    "# Pastikan semua tipe akun yang diharapkan muncul, walaupun 0\n",
    "for acct in expected_types:\n",
    "    if acct not in pnl.columns:\n",
    "        pnl[acct] = 0  # tambahkan kolom kosong\n",
    "\n",
    "# Hitung Expense = OPEX + COGS\n",
    "pnl['OPEX'] = abs(pnl.get('OPEX', 0))\n",
    "pnl['Expense'] = abs(pnl.get('OPEX', 0) + pnl.get('COGS', 0))\n",
    "\n",
    "# Hitung Net Profit = Revenue - Expense\n",
    "pnl['Net Profit'] = pnl['Revenue'] - pnl['Expense']\n",
    "\n",
    "# Tambahkan kolom periode (untuk visualisasi)\n",
    "pnl['Period'] = pd.to_datetime(pnl[['Year','Month']].assign(day=1)).dt.strftime('%b %Y')\n",
    "\n",
    "# Urutkan kolom dengan urutan yang lebih logis\n",
    "cols = ['Period', 'Revenue', 'Expense', 'Net Profit']\n",
    "for c in pnl.columns:\n",
    "    if c not in cols:\n",
    "        cols.append(c)\n",
    "\n",
    "pnl_final = pnl[cols].copy()\n",
    "pnl_final.head()"
   ]
  },
  {
   "cell_type": "code",
   "execution_count": 165,
   "id": "9656c989-286a-4e46-a2bb-dea96af923ed",
   "metadata": {},
   "outputs": [
    {
     "name": "stdout",
     "output_type": "stream",
     "text": [
      "<class 'pandas.core.frame.DataFrame'>\n",
      "RangeIndex: 3 entries, 0 to 2\n",
      "Data columns (total 8 columns):\n",
      " #   Column      Non-Null Count  Dtype \n",
      "---  ------      --------------  ----- \n",
      " 0   Period      3 non-null      object\n",
      " 1   Revenue     3 non-null      int64 \n",
      " 2   Expense     3 non-null      int64 \n",
      " 3   Net Profit  3 non-null      int64 \n",
      " 4   Year        3 non-null      int32 \n",
      " 5   Month       3 non-null      int32 \n",
      " 6   OPEX        3 non-null      int64 \n",
      " 7   COGS        3 non-null      int64 \n",
      "dtypes: int32(2), int64(5), object(1)\n",
      "memory usage: 296.0+ bytes\n"
     ]
    }
   ],
   "source": [
    "pnl_final.info()"
   ]
  },
  {
   "cell_type": "code",
   "execution_count": 166,
   "id": "9bd271ab-bbdb-4ab1-8a87-8efef7188d6c",
   "metadata": {
    "scrolled": true
   },
   "outputs": [],
   "source": [
    "# Import raw data for saving\n",
    "# sales = pd.read_excel(\"datasets/sales.xlsx\")\n",
    "# expenses = pd.read_excel(\"datasets/expenses.xlsx\")\n",
    "# coa = pd.read_excel(\"datasets/mapping_coa.xlsx\")\n",
    "\n",
    "# Save to Excel\n",
    "# with pd.ExcelWriter(\"output/finance_report_automation.xlsx\", engine='openpyxl') as writer:\n",
    "#     transactions.to_excel(writer, sheet_name='Transactions', index=False)\n",
    "#     pnl_final.to_excel(writer, sheet_name='Monthly_PnL', index=False)\n",
    "#     sales.to_excel(writer, sheet_name='Sales', index=False)\n",
    "#     expenses.to_excel(writer, sheet_name='Expenses', index=False)\n",
    "#     coa.to_excel(writer, sheet_name='Mapping_COA', index=False)"
   ]
  },
  {
   "cell_type": "markdown",
   "id": "114fcc18-84d3-4500-9497-d318656577c2",
   "metadata": {
    "jp-MarkdownHeadingCollapsed": true
   },
   "source": [
    "# Reporting & Insights"
   ]
  },
  {
   "cell_type": "markdown",
   "id": "6123bf1f-efb9-4726-977b-41f2780f2d5f",
   "metadata": {
    "jp-MarkdownHeadingCollapsed": true
   },
   "source": [
    "## Insights"
   ]
  },
  {
   "cell_type": "code",
   "execution_count": 167,
   "id": "621296eb-c563-4ea4-9079-3bb34ed2e4ef",
   "metadata": {},
   "outputs": [
    {
     "data": {
      "text/html": [
       "<div>\n",
       "<style scoped>\n",
       "    .dataframe tbody tr th:only-of-type {\n",
       "        vertical-align: middle;\n",
       "    }\n",
       "\n",
       "    .dataframe tbody tr th {\n",
       "        vertical-align: top;\n",
       "    }\n",
       "\n",
       "    .dataframe thead th {\n",
       "        text-align: right;\n",
       "    }\n",
       "</style>\n",
       "<table border=\"1\" class=\"dataframe\">\n",
       "  <thead>\n",
       "    <tr style=\"text-align: right;\">\n",
       "      <th></th>\n",
       "      <th>Period</th>\n",
       "      <th>Revenue</th>\n",
       "      <th>Expense</th>\n",
       "      <th>Net Profit</th>\n",
       "      <th>Year</th>\n",
       "      <th>Month</th>\n",
       "      <th>OPEX</th>\n",
       "      <th>COGS</th>\n",
       "      <th>Margin (%)</th>\n",
       "    </tr>\n",
       "  </thead>\n",
       "  <tbody>\n",
       "    <tr>\n",
       "      <th>0</th>\n",
       "      <td>Jul 2025</td>\n",
       "      <td>354100000</td>\n",
       "      <td>162071155</td>\n",
       "      <td>192028845</td>\n",
       "      <td>2025</td>\n",
       "      <td>7</td>\n",
       "      <td>162071155</td>\n",
       "      <td>0</td>\n",
       "      <td>54.230117</td>\n",
       "    </tr>\n",
       "    <tr>\n",
       "      <th>1</th>\n",
       "      <td>Aug 2025</td>\n",
       "      <td>315250000</td>\n",
       "      <td>164949350</td>\n",
       "      <td>150300650</td>\n",
       "      <td>2025</td>\n",
       "      <td>8</td>\n",
       "      <td>164949350</td>\n",
       "      <td>0</td>\n",
       "      <td>47.676653</td>\n",
       "    </tr>\n",
       "    <tr>\n",
       "      <th>2</th>\n",
       "      <td>Sep 2025</td>\n",
       "      <td>328250000</td>\n",
       "      <td>156984349</td>\n",
       "      <td>171265651</td>\n",
       "      <td>2025</td>\n",
       "      <td>9</td>\n",
       "      <td>156984349</td>\n",
       "      <td>0</td>\n",
       "      <td>52.175370</td>\n",
       "    </tr>\n",
       "  </tbody>\n",
       "</table>\n",
       "</div>"
      ],
      "text/plain": [
       "     Period    Revenue    Expense  Net Profit  Year  Month       OPEX  COGS  \\\n",
       "0  Jul 2025  354100000  162071155   192028845  2025      7  162071155     0   \n",
       "1  Aug 2025  315250000  164949350   150300650  2025      8  164949350     0   \n",
       "2  Sep 2025  328250000  156984349   171265651  2025      9  156984349     0   \n",
       "\n",
       "   Margin (%)  \n",
       "0   54.230117  \n",
       "1   47.676653  \n",
       "2   52.175370  "
      ]
     },
     "execution_count": 167,
     "metadata": {},
     "output_type": "execute_result"
    }
   ],
   "source": [
    "# Pastikan ada kolom Margin\n",
    "pnl_df = pnl_final.copy()\n",
    "pnl_df['Margin (%)'] = (pnl_df['Net Profit'] / pnl_df['Revenue']) * 100\n",
    "\n",
    "pnl_df.head()"
   ]
  },
  {
   "cell_type": "markdown",
   "id": "483d6b6c-1d16-406b-adb2-6cbf7059e3a7",
   "metadata": {
    "jp-MarkdownHeadingCollapsed": true
   },
   "source": [
    "### Revenue"
   ]
  },
  {
   "cell_type": "code",
   "execution_count": 168,
   "id": "1cc8cebe-9496-49ca-b859-43932c32a203",
   "metadata": {},
   "outputs": [
    {
     "name": "stdout",
     "output_type": "stream",
     "text": [
      "Total Revenue: 997600000\n",
      "Average Revenue: 332533333\n"
     ]
    }
   ],
   "source": [
    "# Total revenue\n",
    "total_revenue = pnl_df['Revenue'].sum()\n",
    "avg_revenue = pnl_df['Revenue'].mean()\n",
    "\n",
    "print(f\"Total Revenue: {total_revenue}\")\n",
    "print(f\"Average Revenue: {round(avg_revenue)}\")"
   ]
  },
  {
   "cell_type": "code",
   "execution_count": 169,
   "id": "79420017-fc7b-4c93-995c-385a5a6cd008",
   "metadata": {},
   "outputs": [
    {
     "data": {
      "text/plain": [
       "997600000"
      ]
     },
     "execution_count": 169,
     "metadata": {},
     "output_type": "execute_result"
    }
   ],
   "source": [
    "transactions_merged[transactions_merged['AccountType'] == 'Revenue']['Amount'].sum()"
   ]
  },
  {
   "cell_type": "code",
   "execution_count": 170,
   "id": "c7990381-60e3-4c98-9a9f-5bd09fc8f184",
   "metadata": {},
   "outputs": [
    {
     "data": {
      "text/plain": [
       "3"
      ]
     },
     "execution_count": 170,
     "metadata": {},
     "output_type": "execute_result"
    }
   ],
   "source": [
    "len(pnl_df)"
   ]
  },
  {
   "cell_type": "code",
   "execution_count": 171,
   "id": "7b940b17-eec0-4c2a-baa7-6ba2fea0250f",
   "metadata": {},
   "outputs": [
    {
     "name": "stdout",
     "output_type": "stream",
     "text": [
      "328250000\n",
      "315250000\n",
      "4.123711340206185\n"
     ]
    }
   ],
   "source": [
    "# Calculate Month-over-Month growth\n",
    "current = pnl.iloc[-1]['Revenue']\n",
    "previous = pnl.iloc[-2]['Revenue']\n",
    "rev_mom = ((current - previous) / previous) * 100\n",
    "\n",
    "print(current)\n",
    "print(previous)\n",
    "print(rev_mom)"
   ]
  },
  {
   "cell_type": "code",
   "execution_count": 172,
   "id": "75d6116d-02b9-47fa-bfcf-ae6b7eac0902",
   "metadata": {},
   "outputs": [
    {
     "data": {
      "text/html": [
       "<div>\n",
       "<style scoped>\n",
       "    .dataframe tbody tr th:only-of-type {\n",
       "        vertical-align: middle;\n",
       "    }\n",
       "\n",
       "    .dataframe tbody tr th {\n",
       "        vertical-align: top;\n",
       "    }\n",
       "\n",
       "    .dataframe thead th {\n",
       "        text-align: right;\n",
       "    }\n",
       "</style>\n",
       "<table border=\"1\" class=\"dataframe\">\n",
       "  <thead>\n",
       "    <tr style=\"text-align: right;\">\n",
       "      <th></th>\n",
       "      <th>Period</th>\n",
       "      <th>Revenue</th>\n",
       "      <th>Expense</th>\n",
       "      <th>Net Profit</th>\n",
       "      <th>Year</th>\n",
       "      <th>Month</th>\n",
       "      <th>OPEX</th>\n",
       "      <th>COGS</th>\n",
       "      <th>Margin (%)</th>\n",
       "    </tr>\n",
       "  </thead>\n",
       "  <tbody>\n",
       "    <tr>\n",
       "      <th>0</th>\n",
       "      <td>Jul 2025</td>\n",
       "      <td>354100000</td>\n",
       "      <td>162071155</td>\n",
       "      <td>192028845</td>\n",
       "      <td>2025</td>\n",
       "      <td>7</td>\n",
       "      <td>162071155</td>\n",
       "      <td>0</td>\n",
       "      <td>54.230117</td>\n",
       "    </tr>\n",
       "    <tr>\n",
       "      <th>1</th>\n",
       "      <td>Aug 2025</td>\n",
       "      <td>315250000</td>\n",
       "      <td>164949350</td>\n",
       "      <td>150300650</td>\n",
       "      <td>2025</td>\n",
       "      <td>8</td>\n",
       "      <td>164949350</td>\n",
       "      <td>0</td>\n",
       "      <td>47.676653</td>\n",
       "    </tr>\n",
       "    <tr>\n",
       "      <th>2</th>\n",
       "      <td>Sep 2025</td>\n",
       "      <td>328250000</td>\n",
       "      <td>156984349</td>\n",
       "      <td>171265651</td>\n",
       "      <td>2025</td>\n",
       "      <td>9</td>\n",
       "      <td>156984349</td>\n",
       "      <td>0</td>\n",
       "      <td>52.175370</td>\n",
       "    </tr>\n",
       "  </tbody>\n",
       "</table>\n",
       "</div>"
      ],
      "text/plain": [
       "     Period    Revenue    Expense  Net Profit  Year  Month       OPEX  COGS  \\\n",
       "0  Jul 2025  354100000  162071155   192028845  2025      7  162071155     0   \n",
       "1  Aug 2025  315250000  164949350   150300650  2025      8  164949350     0   \n",
       "2  Sep 2025  328250000  156984349   171265651  2025      9  156984349     0   \n",
       "\n",
       "   Margin (%)  \n",
       "0   54.230117  \n",
       "1   47.676653  \n",
       "2   52.175370  "
      ]
     },
     "execution_count": 172,
     "metadata": {},
     "output_type": "execute_result"
    }
   ],
   "source": [
    "pnl_sorted = pnl_df.sort_values(['Year', 'Month'])\n",
    "pnl_sorted"
   ]
  },
  {
   "cell_type": "code",
   "execution_count": 173,
   "id": "f1eaf719-88ef-495e-a390-9f38d69efbd3",
   "metadata": {},
   "outputs": [
    {
     "data": {
      "text/plain": [
       "328250000"
      ]
     },
     "execution_count": 173,
     "metadata": {},
     "output_type": "execute_result"
    }
   ],
   "source": [
    "pnl_sorted['Revenue'].iloc[-1]"
   ]
  },
  {
   "cell_type": "code",
   "execution_count": 174,
   "id": "1c604ee6-afe2-40b8-8a50-0c647b9ff658",
   "metadata": {},
   "outputs": [
    {
     "data": {
      "text/plain": [
       "354100000"
      ]
     },
     "execution_count": 174,
     "metadata": {},
     "output_type": "execute_result"
    }
   ],
   "source": [
    "pnl_sorted['Revenue'].iloc[0]"
   ]
  },
  {
   "cell_type": "code",
   "execution_count": 175,
   "id": "a4852c89-23a1-41b7-b878-fe00304eb9fe",
   "metadata": {},
   "outputs": [
    {
     "data": {
      "text/plain": [
       "-0.07300197684269981"
      ]
     },
     "execution_count": 175,
     "metadata": {},
     "output_type": "execute_result"
    }
   ],
   "source": [
    "(pnl_sorted['Revenue'].iloc[-1] - pnl_sorted['Revenue'].iloc[0]) / pnl_sorted['Revenue'].iloc[0]"
   ]
  },
  {
   "cell_type": "code",
   "execution_count": 176,
   "id": "5ba8e29d-8b65-4381-957c-cd6a41f88846",
   "metadata": {},
   "outputs": [
    {
     "name": "stdout",
     "output_type": "stream",
     "text": [
      "Revenue Change: -7.300197684269981\n"
     ]
    }
   ],
   "source": [
    "rev_change = ((pnl_sorted['Revenue'].iloc[-1] - pnl_sorted['Revenue'].iloc[0]) / pnl_sorted['Revenue'].iloc[0]) * 100\n",
    "\n",
    "print(f\"Revenue Change: {rev_change}\")"
   ]
  },
  {
   "cell_type": "code",
   "execution_count": 177,
   "id": "bcebc4e6-5cb2-4674-a120-015c20ccad47",
   "metadata": {},
   "outputs": [
    {
     "name": "stdout",
     "output_type": "stream",
     "text": [
      "Revenue Volatily: 5.947077972974468\n"
     ]
    }
   ],
   "source": [
    "rev_volatily = pnl['Revenue'].std() / pnl['Revenue'].mean() * 100\n",
    "print(f\"Revenue Volatily: {rev_volatily}\")"
   ]
  },
  {
   "cell_type": "markdown",
   "id": "0e1f98c6-0b81-432d-a8f7-80aed1892673",
   "metadata": {},
   "source": [
    "| Nilai Volatility (%) | Interpretasi                                              |\n",
    "| -------------------- | --------------------------------------------------------- |\n",
    "| **< 10%**            | Stabil — pendapatan relatif konsisten antar periode       |\n",
    "| **10–30%**           | Sedikit fluktuatif — wajar untuk banyak bisnis            |\n",
    "| **> 30%**            | Tidak stabil — pendapatan berfluktuasi besar tiap periode |\n",
    "\n",
    "Revenue volatility berguna untuk:\n",
    "- Menilai kestabilan bisnis – investor & manajemen prefer revenue yang konsisten.\n",
    "- Mengukur risiko operasional – makin tinggi volatilitas, makin tidak pasti cash flow-nya.\n",
    "- Banding antar produk/divisi/periode – bisa tahu unit mana yang paling “liar” pendapatannya.\n",
    "- Input analisis forecasting atau budgeting – revenue yang volatil lebih sulit diprediksi."
   ]
  },
  {
   "cell_type": "markdown",
   "id": "21ef11fe-835e-4f5a-8d80-502d1da3ea90",
   "metadata": {
    "jp-MarkdownHeadingCollapsed": true
   },
   "source": [
    "### Expense"
   ]
  },
  {
   "cell_type": "code",
   "execution_count": 178,
   "id": "87deff0a-e5d3-461f-b053-a8f2ca93fb1e",
   "metadata": {},
   "outputs": [
    {
     "name": "stdout",
     "output_type": "stream",
     "text": [
      "Total Expense: 484004854\n",
      "Expense to Revenue Ratio: 48.51692602245389\n"
     ]
    }
   ],
   "source": [
    "total_expense = pnl_df['Expense'].sum()\n",
    "exp_rev_ratio = (total_expense/total_revenue*100)\n",
    "\n",
    "print(f\"Total Expense: {total_expense}\")\n",
    "print(f\"Expense to Revenue Ratio: {exp_rev_ratio}\") # berapa persen pendapatan (revenue) yang dihabiskan untuk menutup biaya/expense"
   ]
  },
  {
   "cell_type": "code",
   "execution_count": 179,
   "id": "5ba309b4-f2a2-41eb-8f20-b23b6d717dae",
   "metadata": {},
   "outputs": [
    {
     "name": "stdout",
     "output_type": "stream",
     "text": [
      "Expense Change: -3.1386251304249666\n"
     ]
    }
   ],
   "source": [
    "exp_change = ((pnl_sorted['Expense'].iloc[-1] - pnl_sorted['Expense'].iloc[0]) / pnl_sorted['Expense'].iloc[0]) * 100\n",
    "print(f\"Expense Change: {exp_change}\")"
   ]
  },
  {
   "cell_type": "markdown",
   "id": "c47ccdf8-6aaf-49b6-87d6-36cb9aa02eec",
   "metadata": {
    "jp-MarkdownHeadingCollapsed": true
   },
   "source": [
    "### Net Profit"
   ]
  },
  {
   "cell_type": "code",
   "execution_count": 180,
   "id": "f81b393c-a5d9-4b89-bf2a-0b37a68441c9",
   "metadata": {},
   "outputs": [
    {
     "data": {
      "text/html": [
       "<div>\n",
       "<style scoped>\n",
       "    .dataframe tbody tr th:only-of-type {\n",
       "        vertical-align: middle;\n",
       "    }\n",
       "\n",
       "    .dataframe tbody tr th {\n",
       "        vertical-align: top;\n",
       "    }\n",
       "\n",
       "    .dataframe thead th {\n",
       "        text-align: right;\n",
       "    }\n",
       "</style>\n",
       "<table border=\"1\" class=\"dataframe\">\n",
       "  <thead>\n",
       "    <tr style=\"text-align: right;\">\n",
       "      <th></th>\n",
       "      <th>Period</th>\n",
       "      <th>Revenue</th>\n",
       "      <th>Expense</th>\n",
       "      <th>Net Profit</th>\n",
       "      <th>Year</th>\n",
       "      <th>Month</th>\n",
       "      <th>OPEX</th>\n",
       "      <th>COGS</th>\n",
       "      <th>Margin (%)</th>\n",
       "    </tr>\n",
       "  </thead>\n",
       "  <tbody>\n",
       "    <tr>\n",
       "      <th>0</th>\n",
       "      <td>Jul 2025</td>\n",
       "      <td>354100000</td>\n",
       "      <td>162071155</td>\n",
       "      <td>192028845</td>\n",
       "      <td>2025</td>\n",
       "      <td>7</td>\n",
       "      <td>162071155</td>\n",
       "      <td>0</td>\n",
       "      <td>54.230117</td>\n",
       "    </tr>\n",
       "    <tr>\n",
       "      <th>1</th>\n",
       "      <td>Aug 2025</td>\n",
       "      <td>315250000</td>\n",
       "      <td>164949350</td>\n",
       "      <td>150300650</td>\n",
       "      <td>2025</td>\n",
       "      <td>8</td>\n",
       "      <td>164949350</td>\n",
       "      <td>0</td>\n",
       "      <td>47.676653</td>\n",
       "    </tr>\n",
       "    <tr>\n",
       "      <th>2</th>\n",
       "      <td>Sep 2025</td>\n",
       "      <td>328250000</td>\n",
       "      <td>156984349</td>\n",
       "      <td>171265651</td>\n",
       "      <td>2025</td>\n",
       "      <td>9</td>\n",
       "      <td>156984349</td>\n",
       "      <td>0</td>\n",
       "      <td>52.175370</td>\n",
       "    </tr>\n",
       "  </tbody>\n",
       "</table>\n",
       "</div>"
      ],
      "text/plain": [
       "     Period    Revenue    Expense  Net Profit  Year  Month       OPEX  COGS  \\\n",
       "0  Jul 2025  354100000  162071155   192028845  2025      7  162071155     0   \n",
       "1  Aug 2025  315250000  164949350   150300650  2025      8  164949350     0   \n",
       "2  Sep 2025  328250000  156984349   171265651  2025      9  156984349     0   \n",
       "\n",
       "   Margin (%)  \n",
       "0   54.230117  \n",
       "1   47.676653  \n",
       "2   52.175370  "
      ]
     },
     "execution_count": 180,
     "metadata": {},
     "output_type": "execute_result"
    }
   ],
   "source": [
    "pnl_df"
   ]
  },
  {
   "cell_type": "code",
   "execution_count": 181,
   "id": "851662c7-a2eb-41e2-8df6-b9775f408ed5",
   "metadata": {},
   "outputs": [
    {
     "name": "stdout",
     "output_type": "stream",
     "text": [
      "Net Profit: 513595146\n",
      "Profit Margin: 51.48307397754611\n"
     ]
    }
   ],
   "source": [
    "net_profit = pnl_df['Net Profit'].sum()\n",
    "profit_margin = (net_profit/total_revenue) * 100\n",
    "\n",
    "print(f\"Net Profit: {net_profit}\")\n",
    "print(f\"Profit Margin: {profit_margin}\")"
   ]
  },
  {
   "cell_type": "code",
   "execution_count": 182,
   "id": "53fc1155-9196-49b8-a964-6893f283ad68",
   "metadata": {},
   "outputs": [
    {
     "name": "stdout",
     "output_type": "stream",
     "text": [
      "Net profit shows a declining trend.\n"
     ]
    }
   ],
   "source": [
    "# Net Profit direction\n",
    "if pnl_sorted['Net Profit'].iloc[-1] > pnl_sorted['Net Profit'].iloc[0]:\n",
    "    profit_trend = \"Net profit is improving over time.\"\n",
    "    print(profit_trend)\n",
    "else:\n",
    "    profit_trend = \"Net profit shows a declining trend.\"\n",
    "    print(profit_trend)"
   ]
  },
  {
   "cell_type": "markdown",
   "id": "2e71c653-02a2-4ad9-939c-cd615c1d657d",
   "metadata": {
    "jp-MarkdownHeadingCollapsed": true
   },
   "source": [
    "### Margin Performance"
   ]
  },
  {
   "cell_type": "code",
   "execution_count": 183,
   "id": "921e5251-7860-4016-aae1-d583494662c9",
   "metadata": {},
   "outputs": [
    {
     "name": "stdout",
     "output_type": "stream",
     "text": [
      "---Best Margin--- \n",
      "Period         Jul 2025\n",
      "Revenue       354100000\n",
      "Expense       162071155\n",
      "Net Profit    192028845\n",
      "Year               2025\n",
      "Month                 7\n",
      "OPEX          162071155\n",
      "COGS                  0\n",
      "Margin (%)    54.230117\n",
      "Name: 0, dtype: object\n",
      "---Worst Margin---\n",
      "Period         Aug 2025\n",
      "Revenue       315250000\n",
      "Expense       164949350\n",
      "Net Profit    150300650\n",
      "Year               2025\n",
      "Month                 8\n",
      "OPEX          164949350\n",
      "COGS                  0\n",
      "Margin (%)    47.676653\n",
      "Name: 1, dtype: object\n"
     ]
    }
   ],
   "source": [
    "# 2 - Margin performance\n",
    "best_margin = pnl_df.loc[pnl_df['Margin (%)'].idxmax()]\n",
    "worst_margin = pnl_df.loc[pnl_df['Margin (%)'].idxmin()]\n",
    "\n",
    "print(f\"---Best Margin--- \\n{best_margin}\")\n",
    "print(f\"---Worst Margin---\\n{worst_margin}\")"
   ]
  },
  {
   "cell_type": "code",
   "execution_count": 184,
   "id": "ad47e58e-697e-4523-8762-468436d691c4",
   "metadata": {},
   "outputs": [
    {
     "name": "stdout",
     "output_type": "stream",
     "text": [
      "Average Expense Ratio: 48.639286554695786\n"
     ]
    }
   ],
   "source": [
    "# Expense efficiency\n",
    "avg_expense_ratio = (pnl_df['Expense'] / pnl_df['Revenue']).mean() * 100\n",
    "\n",
    "print(f\"Average Expense Ratio: {avg_expense_ratio}\")"
   ]
  },
  {
   "cell_type": "code",
   "execution_count": 185,
   "id": "4905e73f-83af-4714-a9ae-6bfcadbead0c",
   "metadata": {},
   "outputs": [
    {
     "name": "stdout",
     "output_type": "stream",
     "text": [
      "Most cost-efficient month was Jul 2025 with only 45.8% expense-to-revenue ratio.\n"
     ]
    }
   ],
   "source": [
    "# Most Efficient month\n",
    "best_efficiency = pnl_df.loc[(pnl_df['Expense']/pnl_df['Revenue']).idxmin()]\n",
    "print(f\"Most cost-efficient month was {best_efficiency['Period']} with only {(best_efficiency['Expense']/best_efficiency['Revenue']*100):.1f}% expense-to-revenue ratio.\")"
   ]
  },
  {
   "cell_type": "markdown",
   "id": "911d57c1-e0cc-4454-8a75-a037260dab9c",
   "metadata": {
    "jp-MarkdownHeadingCollapsed": true
   },
   "source": [
    "### OPEX"
   ]
  },
  {
   "cell_type": "code",
   "execution_count": 186,
   "id": "819a92c7-55f7-4508-ad57-eb93989f2744",
   "metadata": {},
   "outputs": [
    {
     "data": {
      "text/plain": [
       "0    162071155\n",
       "1    164949350\n",
       "2    156984349\n",
       "Name: OPEX, dtype: int64"
      ]
     },
     "execution_count": 186,
     "metadata": {},
     "output_type": "execute_result"
    }
   ],
   "source": [
    "pnl_df['OPEX']"
   ]
  },
  {
   "cell_type": "code",
   "execution_count": 187,
   "id": "8488613c-f152-4762-8cf6-9c354024cfec",
   "metadata": {},
   "outputs": [
    {
     "data": {
      "text/html": [
       "<div>\n",
       "<style scoped>\n",
       "    .dataframe tbody tr th:only-of-type {\n",
       "        vertical-align: middle;\n",
       "    }\n",
       "\n",
       "    .dataframe tbody tr th {\n",
       "        vertical-align: top;\n",
       "    }\n",
       "\n",
       "    .dataframe thead th {\n",
       "        text-align: right;\n",
       "    }\n",
       "</style>\n",
       "<table border=\"1\" class=\"dataframe\">\n",
       "  <thead>\n",
       "    <tr style=\"text-align: right;\">\n",
       "      <th></th>\n",
       "      <th>Date</th>\n",
       "      <th>Category</th>\n",
       "      <th>Product</th>\n",
       "      <th>Description</th>\n",
       "      <th>Amount</th>\n",
       "      <th>InvoiceNo</th>\n",
       "      <th>Customer</th>\n",
       "      <th>Region</th>\n",
       "      <th>Source_Type</th>\n",
       "      <th>Category_COA</th>\n",
       "      <th>Account</th>\n",
       "      <th>AccountType</th>\n",
       "      <th>Year</th>\n",
       "      <th>Month</th>\n",
       "      <th>Period</th>\n",
       "    </tr>\n",
       "  </thead>\n",
       "  <tbody>\n",
       "    <tr>\n",
       "      <th>946</th>\n",
       "      <td>2025-07-31</td>\n",
       "      <td>Rent</td>\n",
       "      <td>None</td>\n",
       "      <td>Rent expense for operations</td>\n",
       "      <td>2045491</td>\n",
       "      <td>None</td>\n",
       "      <td>None</td>\n",
       "      <td>None</td>\n",
       "      <td>Expense</td>\n",
       "      <td>Rent</td>\n",
       "      <td>6500</td>\n",
       "      <td>OPEX</td>\n",
       "      <td>2025</td>\n",
       "      <td>7</td>\n",
       "      <td>Jul 2025</td>\n",
       "    </tr>\n",
       "    <tr>\n",
       "      <th>971</th>\n",
       "      <td>2025-08-11</td>\n",
       "      <td>Marketing</td>\n",
       "      <td>None</td>\n",
       "      <td>Marketing expense for operations</td>\n",
       "      <td>4980967</td>\n",
       "      <td>None</td>\n",
       "      <td>None</td>\n",
       "      <td>None</td>\n",
       "      <td>Expense</td>\n",
       "      <td>Marketing</td>\n",
       "      <td>6100</td>\n",
       "      <td>OPEX</td>\n",
       "      <td>2025</td>\n",
       "      <td>8</td>\n",
       "      <td>Aug 2025</td>\n",
       "    </tr>\n",
       "    <tr>\n",
       "      <th>897</th>\n",
       "      <td>2025-07-06</td>\n",
       "      <td>Salaries</td>\n",
       "      <td>None</td>\n",
       "      <td>Salaries expense for operations</td>\n",
       "      <td>4891401</td>\n",
       "      <td>None</td>\n",
       "      <td>None</td>\n",
       "      <td>None</td>\n",
       "      <td>Expense</td>\n",
       "      <td>Salaries</td>\n",
       "      <td>6300</td>\n",
       "      <td>OPEX</td>\n",
       "      <td>2025</td>\n",
       "      <td>7</td>\n",
       "      <td>Jul 2025</td>\n",
       "    </tr>\n",
       "    <tr>\n",
       "      <th>941</th>\n",
       "      <td>2025-07-29</td>\n",
       "      <td>Supplies</td>\n",
       "      <td>None</td>\n",
       "      <td>Supplies expense for operations</td>\n",
       "      <td>4790697</td>\n",
       "      <td>None</td>\n",
       "      <td>None</td>\n",
       "      <td>None</td>\n",
       "      <td>Expense</td>\n",
       "      <td>Supplies</td>\n",
       "      <td>6400</td>\n",
       "      <td>OPEX</td>\n",
       "      <td>2025</td>\n",
       "      <td>7</td>\n",
       "      <td>Jul 2025</td>\n",
       "    </tr>\n",
       "    <tr>\n",
       "      <th>1000</th>\n",
       "      <td>2025-08-25</td>\n",
       "      <td>Salaries</td>\n",
       "      <td>None</td>\n",
       "      <td>Salaries expense for operations</td>\n",
       "      <td>2379262</td>\n",
       "      <td>None</td>\n",
       "      <td>None</td>\n",
       "      <td>None</td>\n",
       "      <td>Expense</td>\n",
       "      <td>Salaries</td>\n",
       "      <td>6300</td>\n",
       "      <td>OPEX</td>\n",
       "      <td>2025</td>\n",
       "      <td>8</td>\n",
       "      <td>Aug 2025</td>\n",
       "    </tr>\n",
       "  </tbody>\n",
       "</table>\n",
       "</div>"
      ],
      "text/plain": [
       "           Date   Category Product                       Description   Amount  \\\n",
       "946  2025-07-31       Rent    None       Rent expense for operations  2045491   \n",
       "971  2025-08-11  Marketing    None  Marketing expense for operations  4980967   \n",
       "897  2025-07-06   Salaries    None   Salaries expense for operations  4891401   \n",
       "941  2025-07-29   Supplies    None   Supplies expense for operations  4790697   \n",
       "1000 2025-08-25   Salaries    None   Salaries expense for operations  2379262   \n",
       "\n",
       "     InvoiceNo Customer Region Source_Type Category_COA  Account AccountType  \\\n",
       "946       None     None   None     Expense         Rent     6500        OPEX   \n",
       "971       None     None   None     Expense    Marketing     6100        OPEX   \n",
       "897       None     None   None     Expense     Salaries     6300        OPEX   \n",
       "941       None     None   None     Expense     Supplies     6400        OPEX   \n",
       "1000      None     None   None     Expense     Salaries     6300        OPEX   \n",
       "\n",
       "      Year  Month    Period  \n",
       "946   2025      7  Jul 2025  \n",
       "971   2025      8  Aug 2025  \n",
       "897   2025      7  Jul 2025  \n",
       "941   2025      7  Jul 2025  \n",
       "1000  2025      8  Aug 2025  "
      ]
     },
     "execution_count": 187,
     "metadata": {},
     "output_type": "execute_result"
    }
   ],
   "source": [
    "opex_data = transactions_merged[transactions_merged['AccountType'] == 'OPEX'].copy()\n",
    "opex_data['Amount'] = abs(opex_data['Amount'])\n",
    "opex_data.sample(5)"
   ]
  },
  {
   "cell_type": "code",
   "execution_count": 188,
   "id": "b4ddddd6-3978-42aa-a766-f1043843710d",
   "metadata": {},
   "outputs": [
    {
     "data": {
      "text/html": [
       "<div>\n",
       "<style scoped>\n",
       "    .dataframe tbody tr th:only-of-type {\n",
       "        vertical-align: middle;\n",
       "    }\n",
       "\n",
       "    .dataframe tbody tr th {\n",
       "        vertical-align: top;\n",
       "    }\n",
       "\n",
       "    .dataframe thead th {\n",
       "        text-align: right;\n",
       "    }\n",
       "</style>\n",
       "<table border=\"1\" class=\"dataframe\">\n",
       "  <thead>\n",
       "    <tr style=\"text-align: right;\">\n",
       "      <th></th>\n",
       "      <th>Period</th>\n",
       "      <th>Category</th>\n",
       "      <th>Amount</th>\n",
       "    </tr>\n",
       "  </thead>\n",
       "  <tbody>\n",
       "    <tr>\n",
       "      <th>0</th>\n",
       "      <td>Aug 2025</td>\n",
       "      <td>Delivery</td>\n",
       "      <td>23968398</td>\n",
       "    </tr>\n",
       "    <tr>\n",
       "      <th>1</th>\n",
       "      <td>Aug 2025</td>\n",
       "      <td>Marketing</td>\n",
       "      <td>30490683</td>\n",
       "    </tr>\n",
       "    <tr>\n",
       "      <th>2</th>\n",
       "      <td>Aug 2025</td>\n",
       "      <td>Rent</td>\n",
       "      <td>18011130</td>\n",
       "    </tr>\n",
       "    <tr>\n",
       "      <th>3</th>\n",
       "      <td>Aug 2025</td>\n",
       "      <td>Salaries</td>\n",
       "      <td>34955724</td>\n",
       "    </tr>\n",
       "    <tr>\n",
       "      <th>4</th>\n",
       "      <td>Aug 2025</td>\n",
       "      <td>Supplies</td>\n",
       "      <td>27740671</td>\n",
       "    </tr>\n",
       "    <tr>\n",
       "      <th>5</th>\n",
       "      <td>Aug 2025</td>\n",
       "      <td>Utilities</td>\n",
       "      <td>29782744</td>\n",
       "    </tr>\n",
       "    <tr>\n",
       "      <th>6</th>\n",
       "      <td>Jul 2025</td>\n",
       "      <td>Delivery</td>\n",
       "      <td>24786241</td>\n",
       "    </tr>\n",
       "    <tr>\n",
       "      <th>7</th>\n",
       "      <td>Jul 2025</td>\n",
       "      <td>Marketing</td>\n",
       "      <td>27914634</td>\n",
       "    </tr>\n",
       "    <tr>\n",
       "      <th>8</th>\n",
       "      <td>Jul 2025</td>\n",
       "      <td>Rent</td>\n",
       "      <td>23591530</td>\n",
       "    </tr>\n",
       "    <tr>\n",
       "      <th>9</th>\n",
       "      <td>Jul 2025</td>\n",
       "      <td>Salaries</td>\n",
       "      <td>34670841</td>\n",
       "    </tr>\n",
       "    <tr>\n",
       "      <th>10</th>\n",
       "      <td>Jul 2025</td>\n",
       "      <td>Supplies</td>\n",
       "      <td>31380926</td>\n",
       "    </tr>\n",
       "    <tr>\n",
       "      <th>11</th>\n",
       "      <td>Jul 2025</td>\n",
       "      <td>Utilities</td>\n",
       "      <td>19726983</td>\n",
       "    </tr>\n",
       "    <tr>\n",
       "      <th>12</th>\n",
       "      <td>Sep 2025</td>\n",
       "      <td>Delivery</td>\n",
       "      <td>30354784</td>\n",
       "    </tr>\n",
       "    <tr>\n",
       "      <th>13</th>\n",
       "      <td>Sep 2025</td>\n",
       "      <td>Marketing</td>\n",
       "      <td>17820791</td>\n",
       "    </tr>\n",
       "    <tr>\n",
       "      <th>14</th>\n",
       "      <td>Sep 2025</td>\n",
       "      <td>Rent</td>\n",
       "      <td>26293553</td>\n",
       "    </tr>\n",
       "    <tr>\n",
       "      <th>15</th>\n",
       "      <td>Sep 2025</td>\n",
       "      <td>Salaries</td>\n",
       "      <td>29961451</td>\n",
       "    </tr>\n",
       "    <tr>\n",
       "      <th>16</th>\n",
       "      <td>Sep 2025</td>\n",
       "      <td>Supplies</td>\n",
       "      <td>36870389</td>\n",
       "    </tr>\n",
       "    <tr>\n",
       "      <th>17</th>\n",
       "      <td>Sep 2025</td>\n",
       "      <td>Utilities</td>\n",
       "      <td>15683381</td>\n",
       "    </tr>\n",
       "  </tbody>\n",
       "</table>\n",
       "</div>"
      ],
      "text/plain": [
       "      Period   Category    Amount\n",
       "0   Aug 2025   Delivery  23968398\n",
       "1   Aug 2025  Marketing  30490683\n",
       "2   Aug 2025       Rent  18011130\n",
       "3   Aug 2025   Salaries  34955724\n",
       "4   Aug 2025   Supplies  27740671\n",
       "5   Aug 2025  Utilities  29782744\n",
       "6   Jul 2025   Delivery  24786241\n",
       "7   Jul 2025  Marketing  27914634\n",
       "8   Jul 2025       Rent  23591530\n",
       "9   Jul 2025   Salaries  34670841\n",
       "10  Jul 2025   Supplies  31380926\n",
       "11  Jul 2025  Utilities  19726983\n",
       "12  Sep 2025   Delivery  30354784\n",
       "13  Sep 2025  Marketing  17820791\n",
       "14  Sep 2025       Rent  26293553\n",
       "15  Sep 2025   Salaries  29961451\n",
       "16  Sep 2025   Supplies  36870389\n",
       "17  Sep 2025  Utilities  15683381"
      ]
     },
     "execution_count": 188,
     "metadata": {},
     "output_type": "execute_result"
    }
   ],
   "source": [
    "opex_by_category = opex_data.groupby(['Period', 'Category'])['Amount'].sum().reset_index()\n",
    "opex_by_category"
   ]
  },
  {
   "cell_type": "markdown",
   "id": "8f8f46d6-362f-4064-91be-fde7a1339421",
   "metadata": {
    "jp-MarkdownHeadingCollapsed": true
   },
   "source": [
    "## Visualisasi"
   ]
  },
  {
   "cell_type": "code",
   "execution_count": 49,
   "id": "75ab2e6c-3a09-41ce-8e6d-777951449c60",
   "metadata": {},
   "outputs": [
    {
     "data": {
      "image/png": "[encoded data removed]",
      "text/plain": [
       "<Figure size 1200x600 with 1 Axes>"
      ]
     },
     "metadata": {},
     "output_type": "display_data"
    }
   ],
   "source": [
    "# Siapkan data untuk plot\n",
    "plot_data = pnl_final.set_index('Period')[['Revenue', 'Net Profit']]\n",
    "\n",
    "# Plot\n",
    "plt.figure(figsize=(12, 6))\n",
    "plt.plot(plot_data.index, plot_data['Revenue'], marker='o', label='Revenue')\n",
    "plt.plot(plot_data.index, plot_data['Net Profit'], marker='s', label='Net Profit')\n",
    "plt.title('Monthly Revenue vs Net Profit (Jul–Sep 2025)')\n",
    "plt.ylabel('Amount (IDR)')\n",
    "plt.legend()\n",
    "plt.grid(True)\n",
    "plt.tight_layout()\n",
    "plt.show()"
   ]
  },
  {
   "cell_type": "code",
   "execution_count": 50,
   "id": "1147fa8f-7b79-4095-a90d-635470d43224",
   "metadata": {},
   "outputs": [
    {
     "data": {
      "image/png": "[encoded data removed]",
      "text/plain": [
       "<Figure size 1400x700 with 2 Axes>"
      ]
     },
     "metadata": {},
     "output_type": "display_data"
    }
   ],
   "source": [
    "# Validate data\n",
    "required_cols = ['Period', 'Revenue', 'Net Profit']\n",
    "missing_cols = [col for col in required_cols if col not in pnl_df.columns]\n",
    "\n",
    "if missing_cols:\n",
    "    raise ValueError(f\"Missing required columns: {missing_cols}\")\n",
    "\n",
    "# Create figure with two y-axes\n",
    "fig, ax1 = plt.subplots(figsize=(14, 7))\n",
    "ax2 = ax1.twinx()\n",
    "\n",
    "# Color scheme\n",
    "colors = {\n",
    "    'revenue': '#2E86DE',\n",
    "    'profit': '#10AC84',\n",
    "    'loss': '#EE5A6F',\n",
    "    'margin': '#F79F1F',\n",
    "}\n",
    "\n",
    "# Prepare x-axis\n",
    "x = range(len(pnl_df))\n",
    "x_labels = pnl_df['Period'].tolist()\n",
    "\n",
    "# Plot Revenue\n",
    "line1 = ax1.plot(x, pnl_df['Revenue'], \n",
    "                 color=colors['revenue'], \n",
    "                 linewidth=3, \n",
    "                 marker='o', \n",
    "                 markersize=10,\n",
    "                 markerfacecolor=colors['revenue'],\n",
    "                 markeredgecolor='white',\n",
    "                 markeredgewidth=2,\n",
    "                 label='Revenue',\n",
    "                 zorder=3)\n",
    "\n",
    "# Fill under Revenue line\n",
    "ax1.fill_between(x, pnl_df['Revenue'], alpha=0.1, color=colors['revenue'])\n",
    "\n",
    "# Plot Net Profit with conditional colors\n",
    "profit_colors = [colors['profit'] if p >= 0 else colors['loss'] \n",
    "                 for p in pnl_df['Net Profit']]\n",
    "\n",
    "line2 = ax1.plot(x, pnl_df['Net Profit'],\n",
    "                 color=colors['profit'],\n",
    "                 linewidth=3,\n",
    "                 marker='o',\n",
    "                 markersize=10,\n",
    "                 markerfacecolor=colors['profit'],\n",
    "                 markeredgecolor='white',\n",
    "                 markeredgewidth=2,\n",
    "                 label='Net Profit',\n",
    "                 zorder=3)\n",
    "\n",
    "# Add colored markers for profit/loss\n",
    "for i, (xi, yi, c) in enumerate(zip(x, pnl_df['Net Profit'], profit_colors)):\n",
    "    ax1.plot(xi, yi, 'o', markersize=10, \n",
    "            color=c, markeredgecolor='white', markeredgewidth=2, zorder=4)\n",
    "\n",
    "# Plot Margin (%) on secondary axis\n",
    "if 'Margin (%)' in pnl_df.columns:\n",
    "    line3 = ax2.plot(x, pnl_df['Margin (%)'],\n",
    "                    color=colors['margin'],\n",
    "                    linewidth=2,\n",
    "                    linestyle='--',\n",
    "                    marker='D',\n",
    "                    markersize=8,\n",
    "                    markerfacecolor=colors['margin'],\n",
    "                    markeredgecolor='white',\n",
    "                    markeredgewidth=2,\n",
    "                    label='Margin (%)',\n",
    "                    zorder=3)\n",
    "\n",
    "# Add value annotations\n",
    "for i, (xi, period) in enumerate(zip(x, pnl_df['Period'])):\n",
    "    # Revenue annotation\n",
    "    revenue_val = pnl_df['Revenue'].iloc[i]\n",
    "    ax1.annotate(f'IDR {revenue_val:,.0f}',\n",
    "                xy=(xi, revenue_val),\n",
    "                xytext=(0, 15),\n",
    "                textcoords='offset points',\n",
    "                ha='center',\n",
    "                fontsize=9,\n",
    "                color=colors['revenue'],\n",
    "                weight='bold',\n",
    "                bbox=dict(boxstyle='round,pad=0.5', \n",
    "                        facecolor='white', \n",
    "                        edgecolor=colors['revenue'],\n",
    "                        alpha=0.9))\n",
    "    \n",
    "    # Net Profit annotation\n",
    "    profit_val = pnl_df['Net Profit'].iloc[i]\n",
    "    profit_color = colors['profit'] if profit_val >= 0 else colors['loss']\n",
    "    ax1.annotate(f'IDR {profit_val:,.0f}',\n",
    "                xy=(xi, profit_val),\n",
    "                xytext=(0, -25),\n",
    "                textcoords='offset points',\n",
    "                ha='center',\n",
    "                fontsize=9,\n",
    "                color=profit_color,\n",
    "                weight='bold',\n",
    "                bbox=dict(boxstyle='round,pad=0.5',\n",
    "                        facecolor='white',\n",
    "                        edgecolor=profit_color,\n",
    "                        alpha=0.9))\n",
    "    \n",
    "    # Margin annotation\n",
    "    if 'Margin (%)' in pnl_df.columns:\n",
    "        margin_val = pnl_df['Margin (%)'].iloc[i]\n",
    "        ax2.annotate(f'{margin_val:.1f}%',\n",
    "                    xy=(xi, margin_val),\n",
    "                    xytext=(20, 8),\n",
    "                    textcoords='offset points',\n",
    "                    ha='left',\n",
    "                    fontsize=9,\n",
    "                    color=colors['margin'],\n",
    "                    weight='bold',\n",
    "                    bbox=dict(boxstyle='round,pad=0.5',\n",
    "                            facecolor='white',\n",
    "                            edgecolor=colors['margin'],\n",
    "                            alpha=0.9))\n",
    "\n",
    "# Formatting\n",
    "ax1.set_xlabel('Period', fontsize=14, weight='bold')\n",
    "ax1.set_ylabel('Amount (IDR)', fontsize=14, weight='bold')\n",
    "ax1.set_xticks(x)\n",
    "ax1.set_xticklabels(x_labels, fontsize=12)\n",
    "ax1.tick_params(axis='y', labelsize=12)\n",
    "ax1.grid(True, alpha=0.3, linestyle='-', linewidth=0.5)\n",
    "ax1.set_axisbelow(True)\n",
    "\n",
    "if 'Margin (%)' in pnl_df.columns:\n",
    "    ax2.set_ylabel('Margin (%)', fontsize=14, weight='bold', color=colors['margin'])\n",
    "    ax2.tick_params(axis='y', labelcolor=colors['margin'], labelsize=12)\n",
    "    ax2.set_ylim(bottom=0)\n",
    "\n",
    "# Title\n",
    "fig.suptitle(\"Monthly Revenue, Net Profit & Margin Analysis\", fontsize=18, weight='bold', color='#2c3e50')\n",
    "\n",
    "# Legend\n",
    "lines1, labels1 = ax1.get_legend_handles_labels()\n",
    "if 'Margin (%)' in pnl_df.columns:\n",
    "    lines2, labels2 = ax2.get_legend_handles_labels()\n",
    "    ax1.legend(lines1 + lines2, labels1 + labels2, \n",
    "              loc='upper center', bbox_to_anchor=(0.5, -0.1),\n",
    "              ncol=3, fontsize=12, frameon=True, fancybox=True)\n",
    "else:\n",
    "    ax1.legend(loc='upper center', bbox_to_anchor=(0.5, -0.1),\n",
    "              ncol=2, fontsize=12, frameon=True, fancybox=True)\n",
    "\n",
    "# Layout\n",
    "plt.tight_layout()\n",
    "plt.show()"
   ]
  },
  {
   "cell_type": "code",
   "execution_count": 51,
   "id": "0d5520f0-347a-41ef-b4af-b73fc5ad8d00",
   "metadata": {},
   "outputs": [
    {
     "name": "stdout",
     "output_type": "stream",
     "text": [
      "Creating Fixed Version...\n"
     ]
    },
    {
     "data": {
      "application/vnd.plotly.v1+json": {
       "config": {
        "plotlyServerURL": "https://plot.ly"
       },
       "data": [
        {
         "hovertemplate": "<b>Revenue</b><br>Period: %{x}<br>Amount: IDR %{y:,.0f}<extra></extra>",
         "line": {
          "color": "#1f77b4",
          "width": 3
         },
         "marker": {
          "size": 8
         },
         "mode": "lines+markers+text",
         "name": "Revenue",
         "text": [
          "354,100,000",
          "315,250,000",
          "328,250,000"
         ],
         "textfont": {
          "size": 10
         },
         "textposition": "top center",
         "type": "scatter",
         "x": [
          "Jul 2025",
          "Aug 2025",
          "Sep 2025"
         ],
         "y": {
          "bdata": "ICMbFVBVyhKQspAT",
          "dtype": "i4"
         }
        },
        {
         "hovertemplate": "<b>Net Profit</b><br>Period: %{x}<br>Amount: IDR %{y:,.0f}<extra></extra>",
         "line": {
          "color": "#2ca02c",
          "width": 3
         },
         "marker": {
          "size": 8
         },
         "mode": "lines+markers+text",
         "name": "Net Profit",
         "text": [
          "192,028,845",
          "150,300,650",
          "171,265,651"
         ],
         "textfont": {
          "size": 10
         },
         "textposition": "bottom center",
         "type": "scatter",
         "x": [
          "Jul 2025",
          "Aug 2025",
          "Sep 2025"
         ],
         "y": {
          "bdata": "rSByC+pn9QhzTjUK",
          "dtype": "i4"
         }
        },
        {
         "hovertemplate": "<b>Margin</b><br>Period: %{x}<br>Percentage: %{y:.1f}%<extra></extra>",
         "line": {
          "color": "#ff7f0e",
          "dash": "dot",
          "width": 2
         },
         "marker": {
          "size": 7
         },
         "mode": "lines+markers+text",
         "name": "Margin (%)",
         "text": [
          "54.2%",
          "47.7%",
          "52.2%"
         ],
         "textfont": {
          "size": 10
         },
         "textposition": "top right",
         "type": "scatter",
         "x": [
          "Jul 2025",
          "Aug 2025",
          "Sep 2025"
         ],
         "y": {
          "bdata": "Tvj4enQdS0CweIqUnNZHQLHFkINyFkpA",
          "dtype": "f8"
         },
         "yaxis": "y2"
        }
       ],
       "layout": {
        "height": 600,
        "hovermode": "x unified",
        "legend": {
         "bgcolor": "rgba(255,255,255,0.8)",
         "orientation": "h",
         "x": 0.5,
         "xanchor": "center",
         "y": -0.2,
         "yanchor": "bottom"
        },
        "template": {
         "data": {
          "bar": [
           {
            "error_x": {
             "color": "#2a3f5f"
            },
            "error_y": {
             "color": "#2a3f5f"
            },
            "marker": {
             "line": {
              "color": "white",
              "width": 0.5
             },
             "pattern": {
              "fillmode": "overlay",
              "size": 10,
              "solidity": 0.2
             }
            },
            "type": "bar"
           }
          ],
          "barpolar": [
           {
            "marker": {
             "line": {
              "color": "white",
              "width": 0.5
             },
             "pattern": {
              "fillmode": "overlay",
              "size": 10,
              "solidity": 0.2
             }
            },
            "type": "barpolar"
           }
          ],
          "carpet": [
           {
            "aaxis": {
             "endlinecolor": "#2a3f5f",
             "gridcolor": "#C8D4E3",
             "linecolor": "#C8D4E3",
             "minorgridcolor": "#C8D4E3",
             "startlinecolor": "#2a3f5f"
            },
            "baxis": {
             "endlinecolor": "#2a3f5f",
             "gridcolor": "#C8D4E3",
             "linecolor": "#C8D4E3",
             "minorgridcolor": "#C8D4E3",
             "startlinecolor": "#2a3f5f"
            },
            "type": "carpet"
           }
          ],
          "choropleth": [
           {
            "colorbar": {
             "outlinewidth": 0,
             "ticks": ""
            },
            "type": "choropleth"
           }
          ],
          "contour": [
           {
            "colorbar": {
             "outlinewidth": 0,
             "ticks": ""
            },
            "colorscale": [
             [
              0,
              "#0d0887"
             ],
             [
              0.1111111111111111,
              "#46039f"
             ],
             [
              0.2222222222222222,
              "#7201a8"
             ],
             [
              0.3333333333333333,
              "#9c179e"
             ],
             [
              0.4444444444444444,
              "#bd3786"
             ],
             [
              0.5555555555555556,
              "#d8576b"
             ],
             [
              0.6666666666666666,
              "#ed7953"
             ],
             [
              0.7777777777777778,
              "#fb9f3a"
             ],
             [
              0.8888888888888888,
              "#fdca26"
             ],
             [
              1,
              "#f0f921"
             ]
            ],
            "type": "contour"
           }
          ],
          "contourcarpet": [
           {
            "colorbar": {
             "outlinewidth": 0,
             "ticks": ""
            },
            "type": "contourcarpet"
           }
          ],
          "heatmap": [
           {
            "colorbar": {
             "outlinewidth": 0,
             "ticks": ""
            },
            "colorscale": [
             [
              0,
              "#0d0887"
             ],
             [
              0.1111111111111111,
              "#46039f"
             ],
             [
              0.2222222222222222,
              "#7201a8"
             ],
             [
              0.3333333333333333,
              "#9c179e"
             ],
             [
              0.4444444444444444,
              "#bd3786"
             ],
             [
              0.5555555555555556,
              "#d8576b"
             ],
             [
              0.6666666666666666,
              "#ed7953"
             ],
             [
              0.7777777777777778,
              "#fb9f3a"
             ],
             [
              0.8888888888888888,
              "#fdca26"
             ],
             [
              1,
              "#f0f921"
             ]
            ],
            "type": "heatmap"
           }
          ],
          "histogram": [
           {
            "marker": {
             "pattern": {
              "fillmode": "overlay",
              "size": 10,
              "solidity": 0.2
             }
            },
            "type": "histogram"
           }
          ],
          "histogram2d": [
           {
            "colorbar": {
             "outlinewidth": 0,
             "ticks": ""
            },
            "colorscale": [
             [
              0,
              "#0d0887"
             ],
             [
              0.1111111111111111,
              "#46039f"
             ],
             [
              0.2222222222222222,
              "#7201a8"
             ],
             [
              0.3333333333333333,
              "#9c179e"
             ],
             [
              0.4444444444444444,
              "#bd3786"
             ],
             [
              0.5555555555555556,
              "#d8576b"
             ],
             [
              0.6666666666666666,
              "#ed7953"
             ],
             [
              0.7777777777777778,
              "#fb9f3a"
             ],
             [
              0.8888888888888888,
              "#fdca26"
             ],
             [
              1,
              "#f0f921"
             ]
            ],
            "type": "histogram2d"
           }
          ],
          "histogram2dcontour": [
           {
            "colorbar": {
             "outlinewidth": 0,
             "ticks": ""
            },
            "colorscale": [
             [
              0,
              "#0d0887"
             ],
             [
              0.1111111111111111,
              "#46039f"
             ],
             [
              0.2222222222222222,
              "#7201a8"
             ],
             [
              0.3333333333333333,
              "#9c179e"
             ],
             [
              0.4444444444444444,
              "#bd3786"
             ],
             [
              0.5555555555555556,
              "#d8576b"
             ],
             [
              0.6666666666666666,
              "#ed7953"
             ],
             [
              0.7777777777777778,
              "#fb9f3a"
             ],
             [
              0.8888888888888888,
              "#fdca26"
             ],
             [
              1,
              "#f0f921"
             ]
            ],
            "type": "histogram2dcontour"
           }
          ],
          "mesh3d": [
           {
            "colorbar": {
             "outlinewidth": 0,
             "ticks": ""
            },
            "type": "mesh3d"
           }
          ],
          "parcoords": [
           {
            "line": {
             "colorbar": {
              "outlinewidth": 0,
              "ticks": ""
             }
            },
            "type": "parcoords"
           }
          ],
          "pie": [
           {
            "automargin": true,
            "type": "pie"
           }
          ],
          "scatter": [
           {
            "fillpattern": {
             "fillmode": "overlay",
             "size": 10,
             "solidity": 0.2
            },
            "type": "scatter"
           }
          ],
          "scatter3d": [
           {
            "line": {
             "colorbar": {
              "outlinewidth": 0,
              "ticks": ""
             }
            },
            "marker": {
             "colorbar": {
              "outlinewidth": 0,
              "ticks": ""
             }
            },
            "type": "scatter3d"
           }
          ],
          "scattercarpet": [
           {
            "marker": {
             "colorbar": {
              "outlinewidth": 0,
              "ticks": ""
             }
            },
            "type": "scattercarpet"
           }
          ],
          "scattergeo": [
           {
            "marker": {
             "colorbar": {
              "outlinewidth": 0,
              "ticks": ""
             }
            },
            "type": "scattergeo"
           }
          ],
          "scattergl": [
           {
            "marker": {
             "colorbar": {
              "outlinewidth": 0,
              "ticks": ""
             }
            },
            "type": "scattergl"
           }
          ],
          "scattermap": [
           {
            "marker": {
             "colorbar": {
              "outlinewidth": 0,
              "ticks": ""
             }
            },
            "type": "scattermap"
           }
          ],
          "scattermapbox": [
           {
            "marker": {
             "colorbar": {
              "outlinewidth": 0,
              "ticks": ""
             }
            },
            "type": "scattermapbox"
           }
          ],
          "scatterpolar": [
           {
            "marker": {
             "colorbar": {
              "outlinewidth": 0,
              "ticks": ""
             }
            },
            "type": "scatterpolar"
           }
          ],
          "scatterpolargl": [
           {
            "marker": {
             "colorbar": {
              "outlinewidth": 0,
              "ticks": ""
             }
            },
            "type": "scatterpolargl"
           }
          ],
          "scatterternary": [
           {
            "marker": {
             "colorbar": {
              "outlinewidth": 0,
              "ticks": ""
             }
            },
            "type": "scatterternary"
           }
          ],
          "surface": [
           {
            "colorbar": {
             "outlinewidth": 0,
             "ticks": ""
            },
            "colorscale": [
             [
              0,
              "#0d0887"
             ],
             [
              0.1111111111111111,
              "#46039f"
             ],
             [
              0.2222222222222222,
              "#7201a8"
             ],
             [
              0.3333333333333333,
              "#9c179e"
             ],
             [
              0.4444444444444444,
              "#bd3786"
             ],
             [
              0.5555555555555556,
              "#d8576b"
             ],
             [
              0.6666666666666666,
              "#ed7953"
             ],
             [
              0.7777777777777778,
              "#fb9f3a"
             ],
             [
              0.8888888888888888,
              "#fdca26"
             ],
             [
              1,
              "#f0f921"
             ]
            ],
            "type": "surface"
           }
          ],
          "table": [
           {
            "cells": {
             "fill": {
              "color": "#EBF0F8"
             },
             "line": {
              "color": "white"
             }
            },
            "header": {
             "fill": {
              "color": "#C8D4E3"
             },
             "line": {
              "color": "white"
             }
            },
            "type": "table"
           }
          ]
         },
         "layout": {
          "annotationdefaults": {
           "arrowcolor": "#2a3f5f",
           "arrowhead": 0,
           "arrowwidth": 1
          },
          "autotypenumbers": "strict",
          "coloraxis": {
           "colorbar": {
            "outlinewidth": 0,
            "ticks": ""
           }
          },
          "colorscale": {
           "diverging": [
            [
             0,
             "#8e0152"
            ],
            [
             0.1,
             "#c51b7d"
            ],
            [
             0.2,
             "#de77ae"
            ],
            [
             0.3,
             "#f1b6da"
            ],
            [
             0.4,
             "#fde0ef"
            ],
            [
             0.5,
             "#f7f7f7"
            ],
            [
             0.6,
             "#e6f5d0"
            ],
            [
             0.7,
             "#b8e186"
            ],
            [
             0.8,
             "#7fbc41"
            ],
            [
             0.9,
             "#4d9221"
            ],
            [
             1,
             "#276419"
            ]
           ],
           "sequential": [
            [
             0,
             "#0d0887"
            ],
            [
             0.1111111111111111,
             "#46039f"
            ],
            [
             0.2222222222222222,
             "#7201a8"
            ],
            [
             0.3333333333333333,
             "#9c179e"
            ],
            [
             0.4444444444444444,
             "#bd3786"
            ],
            [
             0.5555555555555556,
             "#d8576b"
            ],
            [
             0.6666666666666666,
             "#ed7953"
            ],
            [
             0.7777777777777778,
             "#fb9f3a"
            ],
            [
             0.8888888888888888,
             "#fdca26"
            ],
            [
             1,
             "#f0f921"
            ]
           ],
           "sequentialminus": [
            [
             0,
             "#0d0887"
            ],
            [
             0.1111111111111111,
             "#46039f"
            ],
            [
             0.2222222222222222,
             "#7201a8"
            ],
            [
             0.3333333333333333,
             "#9c179e"
            ],
            [
             0.4444444444444444,
             "#bd3786"
            ],
            [
             0.5555555555555556,
             "#d8576b"
            ],
            [
             0.6666666666666666,
             "#ed7953"
            ],
            [
             0.7777777777777778,
             "#fb9f3a"
            ],
            [
             0.8888888888888888,
             "#fdca26"
            ],
            [
             1,
             "#f0f921"
            ]
           ]
          },
          "colorway": [
           "#636efa",
           "#EF553B",
           "#00cc96",
           "#ab63fa",
           "#FFA15A",
           "#19d3f3",
           "#FF6692",
           "#B6E880",
           "#FF97FF",
           "#FECB52"
          ],
          "font": {
           "color": "#2a3f5f"
          },
          "geo": {
           "bgcolor": "white",
           "lakecolor": "white",
           "landcolor": "white",
           "showlakes": true,
           "showland": true,
           "subunitcolor": "#C8D4E3"
          },
          "hoverlabel": {
           "align": "left"
          },
          "hovermode": "closest",
          "mapbox": {
           "style": "light"
          },
          "paper_bgcolor": "white",
          "plot_bgcolor": "white",
          "polar": {
           "angularaxis": {
            "gridcolor": "#EBF0F8",
            "linecolor": "#EBF0F8",
            "ticks": ""
           },
           "bgcolor": "white",
           "radialaxis": {
            "gridcolor": "#EBF0F8",
            "linecolor": "#EBF0F8",
            "ticks": ""
           }
          },
          "scene": {
           "xaxis": {
            "backgroundcolor": "white",
            "gridcolor": "#DFE8F3",
            "gridwidth": 2,
            "linecolor": "#EBF0F8",
            "showbackground": true,
            "ticks": "",
            "zerolinecolor": "#EBF0F8"
           },
           "yaxis": {
            "backgroundcolor": "white",
            "gridcolor": "#DFE8F3",
            "gridwidth": 2,
            "linecolor": "#EBF0F8",
            "showbackground": true,
            "ticks": "",
            "zerolinecolor": "#EBF0F8"
           },
           "zaxis": {
            "backgroundcolor": "white",
            "gridcolor": "#DFE8F3",
            "gridwidth": 2,
            "linecolor": "#EBF0F8",
            "showbackground": true,
            "ticks": "",
            "zerolinecolor": "#EBF0F8"
           }
          },
          "shapedefaults": {
           "line": {
            "color": "#2a3f5f"
           }
          },
          "ternary": {
           "aaxis": {
            "gridcolor": "#DFE8F3",
            "linecolor": "#A2B1C6",
            "ticks": ""
           },
           "baxis": {
            "gridcolor": "#DFE8F3",
            "linecolor": "#A2B1C6",
            "ticks": ""
           },
           "bgcolor": "white",
           "caxis": {
            "gridcolor": "#DFE8F3",
            "linecolor": "#A2B1C6",
            "ticks": ""
           }
          },
          "title": {
           "x": 0.05
          },
          "xaxis": {
           "automargin": true,
           "gridcolor": "#EBF0F8",
           "linecolor": "#EBF0F8",
           "ticks": "",
           "title": {
            "standoff": 15
           },
           "zerolinecolor": "#EBF0F8",
           "zerolinewidth": 2
          },
          "yaxis": {
           "automargin": true,
           "gridcolor": "#EBF0F8",
           "linecolor": "#EBF0F8",
           "ticks": "",
           "title": {
            "standoff": 15
           },
           "zerolinecolor": "#EBF0F8",
           "zerolinewidth": 2
          }
         }
        },
        "title": {
         "font": {
          "color": "#333",
          "size": 18
         },
         "text": "Monthly Revenue, Net Profit & Margin (%) — Jul–Sep 2025",
         "x": 0.5,
         "xanchor": "center"
        },
        "xaxis": {
         "gridcolor": "rgba(200,200,200,0.3)",
         "showgrid": true,
         "title": {
          "text": "Period"
         }
        },
        "yaxis": {
         "gridcolor": "rgba(200,200,200,0.3)",
         "showgrid": true,
         "title": {
          "text": "Amount (IDR)"
         },
         "zeroline": false
        },
        "yaxis2": {
         "overlaying": "y",
         "rangemode": "tozero",
         "showgrid": false,
         "side": "right",
         "tickfont": {
          "color": "#ff7f0e"
         },
         "title": {
          "text": "Margin (%)"
         }
        }
       }
      },
      "image/png": "[encoded data removed]"
     },
     "metadata": {},
     "output_type": "display_data"
    },
    {
     "name": "stdout",
     "output_type": "stream",
     "text": [
      "\n",
      "Creating Improved Version...\n"
     ]
    },
    {
     "data": {
      "application/vnd.plotly.v1+json": {
       "config": {
        "plotlyServerURL": "https://plot.ly"
       },
       "data": [
        {
         "fill": "tozeroy",
         "fillcolor": "rgba(46, 134, 222, 0.1)",
         "hovertemplate": "<b>Revenue</b><br>Period: %{x}<br>Amount: IDR %{y:,.0f}<extra></extra>",
         "line": {
          "color": "#2E86DE",
          "width": 3
         },
         "marker": {
          "color": "#2E86DE",
          "line": {
           "color": "white",
           "width": 2
          },
          "size": 10
         },
         "mode": "lines+markers",
         "name": "Revenue",
         "type": "scatter",
         "x": [
          "Jul 2025",
          "Aug 2025",
          "Sep 2025"
         ],
         "xaxis": "x",
         "y": {
          "bdata": "ICMbFVBVyhKQspAT",
          "dtype": "i4"
         },
         "yaxis": "y"
        },
        {
         "hovertemplate": "<b>Net Profit</b><br>Period: %{x}<br>Amount: IDR %{y:,.0f}<extra></extra>",
         "line": {
          "color": "#10AC84",
          "width": 3
         },
         "marker": {
          "color": [
           "#10AC84",
           "#10AC84",
           "#10AC84"
          ],
          "line": {
           "color": "white",
           "width": 2
          },
          "size": 10
         },
         "mode": "lines+markers",
         "name": "Net Profit",
         "type": "scatter",
         "x": [
          "Jul 2025",
          "Aug 2025",
          "Sep 2025"
         ],
         "xaxis": "x",
         "y": {
          "bdata": "rSByC+pn9QhzTjUK",
          "dtype": "i4"
         },
         "yaxis": "y"
        },
        {
         "hovertemplate": "<b>Margin</b><br>Period: %{x}<br>Percentage: %{y:.1f}%<extra></extra>",
         "line": {
          "color": "#F79F1F",
          "dash": "dash",
          "width": 2
         },
         "marker": {
          "color": "#F79F1F",
          "line": {
           "color": "white",
           "width": 1
          },
          "size": 8,
          "symbol": "diamond"
         },
         "mode": "lines+markers",
         "name": "Margin (%)",
         "type": "scatter",
         "x": [
          "Jul 2025",
          "Aug 2025",
          "Sep 2025"
         ],
         "xaxis": "x",
         "y": {
          "bdata": "Tvj4enQdS0CweIqUnNZHQLHFkINyFkpA",
          "dtype": "f8"
         },
         "yaxis": "y2"
        }
       ],
       "layout": {
        "annotations": [
         {
          "font": {
           "size": 16
          },
          "showarrow": false,
          "text": "Monthly Revenue, Net Profit & Margin (%) — Jul–Sep 2025",
          "x": 0.47,
          "xanchor": "center",
          "xref": "paper",
          "y": 1,
          "yanchor": "bottom",
          "yref": "paper"
         },
         {
          "bgcolor": "rgba(255,255,255,0.8)",
          "borderpad": 2,
          "font": {
           "color": "#10AC84",
           "size": 9,
           "weight": "bold"
          },
          "showarrow": false,
          "text": "IDR 192,028,845",
          "x": "Jul 2025",
          "y": 192028845,
          "yshift": -15
         },
         {
          "bgcolor": "rgba(255,255,255,0.8)",
          "borderpad": 2,
          "font": {
           "color": "#F79F1F",
           "size": 9,
           "weight": "bold"
          },
          "showarrow": false,
          "text": "54.2%",
          "x": "Jul 2025",
          "xshift": 25,
          "y": 54.23011719853149,
          "yref": "y2",
          "yshift": 5
         },
         {
          "bgcolor": "rgba(255,255,255,0.8)",
          "borderpad": 2,
          "font": {
           "color": "#2E86DE",
           "size": 9,
           "weight": "bold"
          },
          "showarrow": false,
          "text": "IDR 315,250,000",
          "x": "Aug 2025",
          "y": 315250000,
          "yshift": 15
         },
         {
          "bgcolor": "rgba(255,255,255,0.8)",
          "borderpad": 2,
          "font": {
           "color": "#10AC84",
           "size": 9,
           "weight": "bold"
          },
          "showarrow": false,
          "text": "IDR 150,300,650",
          "x": "Aug 2025",
          "y": 150300650,
          "yshift": -15
         },
         {
          "bgcolor": "rgba(255,255,255,0.8)",
          "borderpad": 2,
          "font": {
           "color": "#F79F1F",
           "size": 9,
           "weight": "bold"
          },
          "showarrow": false,
          "text": "47.7%",
          "x": "Aug 2025",
          "xshift": 25,
          "y": 47.67665344964314,
          "yref": "y2",
          "yshift": 5
         },
         {
          "bgcolor": "rgba(255,255,255,0.8)",
          "borderpad": 2,
          "font": {
           "color": "#2E86DE",
           "size": 9,
           "weight": "bold"
          },
          "showarrow": false,
          "text": "IDR 328,250,000",
          "x": "Sep 2025",
          "y": 328250000,
          "yshift": 15
         },
         {
          "bgcolor": "rgba(255,255,255,0.8)",
          "borderpad": 2,
          "font": {
           "color": "#10AC84",
           "size": 9,
           "weight": "bold"
          },
          "showarrow": false,
          "text": "IDR 171,265,651",
          "x": "Sep 2025",
          "y": 171265651,
          "yshift": -15
         },
         {
          "bgcolor": "rgba(255,255,255,0.8)",
          "borderpad": 2,
          "font": {
           "color": "#F79F1F",
           "size": 9,
           "weight": "bold"
          },
          "showarrow": false,
          "text": "52.2%",
          "x": "Sep 2025",
          "xshift": 25,
          "y": 52.175369687738005,
          "yref": "y2",
          "yshift": 5
         }
        ],
        "height": 650,
        "hovermode": "x unified",
        "legend": {
         "bgcolor": "rgba(255,255,255,0.9)",
         "bordercolor": "rgba(100,100,100,0.3)",
         "borderwidth": 1,
         "font": {
          "size": 12
         },
         "orientation": "h",
         "x": 0.5,
         "xanchor": "center",
         "y": -0.25,
         "yanchor": "bottom"
        },
        "margin": {
         "b": 100,
         "l": 80,
         "r": 80,
         "t": 100
        },
        "paper_bgcolor": "white",
        "plot_bgcolor": "rgba(250,250,250,0.5)",
        "template": {
         "data": {
          "bar": [
           {
            "error_x": {
             "color": "#2a3f5f"
            },
            "error_y": {
             "color": "#2a3f5f"
            },
            "marker": {
             "line": {
              "color": "white",
              "width": 0.5
             },
             "pattern": {
              "fillmode": "overlay",
              "size": 10,
              "solidity": 0.2
             }
            },
            "type": "bar"
           }
          ],
          "barpolar": [
           {
            "marker": {
             "line": {
              "color": "white",
              "width": 0.5
             },
             "pattern": {
              "fillmode": "overlay",
              "size": 10,
              "solidity": 0.2
             }
            },
            "type": "barpolar"
           }
          ],
          "carpet": [
           {
            "aaxis": {
             "endlinecolor": "#2a3f5f",
             "gridcolor": "#C8D4E3",
             "linecolor": "#C8D4E3",
             "minorgridcolor": "#C8D4E3",
             "startlinecolor": "#2a3f5f"
            },
            "baxis": {
             "endlinecolor": "#2a3f5f",
             "gridcolor": "#C8D4E3",
             "linecolor": "#C8D4E3",
             "minorgridcolor": "#C8D4E3",
             "startlinecolor": "#2a3f5f"
            },
            "type": "carpet"
           }
          ],
          "choropleth": [
           {
            "colorbar": {
             "outlinewidth": 0,
             "ticks": ""
            },
            "type": "choropleth"
           }
          ],
          "contour": [
           {
            "colorbar": {
             "outlinewidth": 0,
             "ticks": ""
            },
            "colorscale": [
             [
              0,
              "#0d0887"
             ],
             [
              0.1111111111111111,
              "#46039f"
             ],
             [
              0.2222222222222222,
              "#7201a8"
             ],
             [
              0.3333333333333333,
              "#9c179e"
             ],
             [
              0.4444444444444444,
              "#bd3786"
             ],
             [
              0.5555555555555556,
              "#d8576b"
             ],
             [
              0.6666666666666666,
              "#ed7953"
             ],
             [
              0.7777777777777778,
              "#fb9f3a"
             ],
             [
              0.8888888888888888,
              "#fdca26"
             ],
             [
              1,
              "#f0f921"
             ]
            ],
            "type": "contour"
           }
          ],
          "contourcarpet": [
           {
            "colorbar": {
             "outlinewidth": 0,
             "ticks": ""
            },
            "type": "contourcarpet"
           }
          ],
          "heatmap": [
           {
            "colorbar": {
             "outlinewidth": 0,
             "ticks": ""
            },
            "colorscale": [
             [
              0,
              "#0d0887"
             ],
             [
              0.1111111111111111,
              "#46039f"
             ],
             [
              0.2222222222222222,
              "#7201a8"
             ],
             [
              0.3333333333333333,
              "#9c179e"
             ],
             [
              0.4444444444444444,
              "#bd3786"
             ],
             [
              0.5555555555555556,
              "#d8576b"
             ],
             [
              0.6666666666666666,
              "#ed7953"
             ],
             [
              0.7777777777777778,
              "#fb9f3a"
             ],
             [
              0.8888888888888888,
              "#fdca26"
             ],
             [
              1,
              "#f0f921"
             ]
            ],
            "type": "heatmap"
           }
          ],
          "histogram": [
           {
            "marker": {
             "pattern": {
              "fillmode": "overlay",
              "size": 10,
              "solidity": 0.2
             }
            },
            "type": "histogram"
           }
          ],
          "histogram2d": [
           {
            "colorbar": {
             "outlinewidth": 0,
             "ticks": ""
            },
            "colorscale": [
             [
              0,
              "#0d0887"
             ],
             [
              0.1111111111111111,
              "#46039f"
             ],
             [
              0.2222222222222222,
              "#7201a8"
             ],
             [
              0.3333333333333333,
              "#9c179e"
             ],
             [
              0.4444444444444444,
              "#bd3786"
             ],
             [
              0.5555555555555556,
              "#d8576b"
             ],
             [
              0.6666666666666666,
              "#ed7953"
             ],
             [
              0.7777777777777778,
              "#fb9f3a"
             ],
             [
              0.8888888888888888,
              "#fdca26"
             ],
             [
              1,
              "#f0f921"
             ]
            ],
            "type": "histogram2d"
           }
          ],
          "histogram2dcontour": [
           {
            "colorbar": {
             "outlinewidth": 0,
             "ticks": ""
            },
            "colorscale": [
             [
              0,
              "#0d0887"
             ],
             [
              0.1111111111111111,
              "#46039f"
             ],
             [
              0.2222222222222222,
              "#7201a8"
             ],
             [
              0.3333333333333333,
              "#9c179e"
             ],
             [
              0.4444444444444444,
              "#bd3786"
             ],
             [
              0.5555555555555556,
              "#d8576b"
             ],
             [
              0.6666666666666666,
              "#ed7953"
             ],
             [
              0.7777777777777778,
              "#fb9f3a"
             ],
             [
              0.8888888888888888,
              "#fdca26"
             ],
             [
              1,
              "#f0f921"
             ]
            ],
            "type": "histogram2dcontour"
           }
          ],
          "mesh3d": [
           {
            "colorbar": {
             "outlinewidth": 0,
             "ticks": ""
            },
            "type": "mesh3d"
           }
          ],
          "parcoords": [
           {
            "line": {
             "colorbar": {
              "outlinewidth": 0,
              "ticks": ""
             }
            },
            "type": "parcoords"
           }
          ],
          "pie": [
           {
            "automargin": true,
            "type": "pie"
           }
          ],
          "scatter": [
           {
            "fillpattern": {
             "fillmode": "overlay",
             "size": 10,
             "solidity": 0.2
            },
            "type": "scatter"
           }
          ],
          "scatter3d": [
           {
            "line": {
             "colorbar": {
              "outlinewidth": 0,
              "ticks": ""
             }
            },
            "marker": {
             "colorbar": {
              "outlinewidth": 0,
              "ticks": ""
             }
            },
            "type": "scatter3d"
           }
          ],
          "scattercarpet": [
           {
            "marker": {
             "colorbar": {
              "outlinewidth": 0,
              "ticks": ""
             }
            },
            "type": "scattercarpet"
           }
          ],
          "scattergeo": [
           {
            "marker": {
             "colorbar": {
              "outlinewidth": 0,
              "ticks": ""
             }
            },
            "type": "scattergeo"
           }
          ],
          "scattergl": [
           {
            "marker": {
             "colorbar": {
              "outlinewidth": 0,
              "ticks": ""
             }
            },
            "type": "scattergl"
           }
          ],
          "scattermap": [
           {
            "marker": {
             "colorbar": {
              "outlinewidth": 0,
              "ticks": ""
             }
            },
            "type": "scattermap"
           }
          ],
          "scattermapbox": [
           {
            "marker": {
             "colorbar": {
              "outlinewidth": 0,
              "ticks": ""
             }
            },
            "type": "scattermapbox"
           }
          ],
          "scatterpolar": [
           {
            "marker": {
             "colorbar": {
              "outlinewidth": 0,
              "ticks": ""
             }
            },
            "type": "scatterpolar"
           }
          ],
          "scatterpolargl": [
           {
            "marker": {
             "colorbar": {
              "outlinewidth": 0,
              "ticks": ""
             }
            },
            "type": "scatterpolargl"
           }
          ],
          "scatterternary": [
           {
            "marker": {
             "colorbar": {
              "outlinewidth": 0,
              "ticks": ""
             }
            },
            "type": "scatterternary"
           }
          ],
          "surface": [
           {
            "colorbar": {
             "outlinewidth": 0,
             "ticks": ""
            },
            "colorscale": [
             [
              0,
              "#0d0887"
             ],
             [
              0.1111111111111111,
              "#46039f"
             ],
             [
              0.2222222222222222,
              "#7201a8"
             ],
             [
              0.3333333333333333,
              "#9c179e"
             ],
             [
              0.4444444444444444,
              "#bd3786"
             ],
             [
              0.5555555555555556,
              "#d8576b"
             ],
             [
              0.6666666666666666,
              "#ed7953"
             ],
             [
              0.7777777777777778,
              "#fb9f3a"
             ],
             [
              0.8888888888888888,
              "#fdca26"
             ],
             [
              1,
              "#f0f921"
             ]
            ],
            "type": "surface"
           }
          ],
          "table": [
           {
            "cells": {
             "fill": {
              "color": "#EBF0F8"
             },
             "line": {
              "color": "white"
             }
            },
            "header": {
             "fill": {
              "color": "#C8D4E3"
             },
             "line": {
              "color": "white"
             }
            },
            "type": "table"
           }
          ]
         },
         "layout": {
          "annotationdefaults": {
           "arrowcolor": "#2a3f5f",
           "arrowhead": 0,
           "arrowwidth": 1
          },
          "autotypenumbers": "strict",
          "coloraxis": {
           "colorbar": {
            "outlinewidth": 0,
            "ticks": ""
           }
          },
          "colorscale": {
           "diverging": [
            [
             0,
             "#8e0152"
            ],
            [
             0.1,
             "#c51b7d"
            ],
            [
             0.2,
             "#de77ae"
            ],
            [
             0.3,
             "#f1b6da"
            ],
            [
             0.4,
             "#fde0ef"
            ],
            [
             0.5,
             "#f7f7f7"
            ],
            [
             0.6,
             "#e6f5d0"
            ],
            [
             0.7,
             "#b8e186"
            ],
            [
             0.8,
             "#7fbc41"
            ],
            [
             0.9,
             "#4d9221"
            ],
            [
             1,
             "#276419"
            ]
           ],
           "sequential": [
            [
             0,
             "#0d0887"
            ],
            [
             0.1111111111111111,
             "#46039f"
            ],
            [
             0.2222222222222222,
             "#7201a8"
            ],
            [
             0.3333333333333333,
             "#9c179e"
            ],
            [
             0.4444444444444444,
             "#bd3786"
            ],
            [
             0.5555555555555556,
             "#d8576b"
            ],
            [
             0.6666666666666666,
             "#ed7953"
            ],
            [
             0.7777777777777778,
             "#fb9f3a"
            ],
            [
             0.8888888888888888,
             "#fdca26"
            ],
            [
             1,
             "#f0f921"
            ]
           ],
           "sequentialminus": [
            [
             0,
             "#0d0887"
            ],
            [
             0.1111111111111111,
             "#46039f"
            ],
            [
             0.2222222222222222,
             "#7201a8"
            ],
            [
             0.3333333333333333,
             "#9c179e"
            ],
            [
             0.4444444444444444,
             "#bd3786"
            ],
            [
             0.5555555555555556,
             "#d8576b"
            ],
            [
             0.6666666666666666,
             "#ed7953"
            ],
            [
             0.7777777777777778,
             "#fb9f3a"
            ],
            [
             0.8888888888888888,
             "#fdca26"
            ],
            [
             1,
             "#f0f921"
            ]
           ]
          },
          "colorway": [
           "#636efa",
           "#EF553B",
           "#00cc96",
           "#ab63fa",
           "#FFA15A",
           "#19d3f3",
           "#FF6692",
           "#B6E880",
           "#FF97FF",
           "#FECB52"
          ],
          "font": {
           "color": "#2a3f5f"
          },
          "geo": {
           "bgcolor": "white",
           "lakecolor": "white",
           "landcolor": "white",
           "showlakes": true,
           "showland": true,
           "subunitcolor": "#C8D4E3"
          },
          "hoverlabel": {
           "align": "left"
          },
          "hovermode": "closest",
          "mapbox": {
           "style": "light"
          },
          "paper_bgcolor": "white",
          "plot_bgcolor": "white",
          "polar": {
           "angularaxis": {
            "gridcolor": "#EBF0F8",
            "linecolor": "#EBF0F8",
            "ticks": ""
           },
           "bgcolor": "white",
           "radialaxis": {
            "gridcolor": "#EBF0F8",
            "linecolor": "#EBF0F8",
            "ticks": ""
           }
          },
          "scene": {
           "xaxis": {
            "backgroundcolor": "white",
            "gridcolor": "#DFE8F3",
            "gridwidth": 2,
            "linecolor": "#EBF0F8",
            "showbackground": true,
            "ticks": "",
            "zerolinecolor": "#EBF0F8"
           },
           "yaxis": {
            "backgroundcolor": "white",
            "gridcolor": "#DFE8F3",
            "gridwidth": 2,
            "linecolor": "#EBF0F8",
            "showbackground": true,
            "ticks": "",
            "zerolinecolor": "#EBF0F8"
           },
           "zaxis": {
            "backgroundcolor": "white",
            "gridcolor": "#DFE8F3",
            "gridwidth": 2,
            "linecolor": "#EBF0F8",
            "showbackground": true,
            "ticks": "",
            "zerolinecolor": "#EBF0F8"
           }
          },
          "shapedefaults": {
           "line": {
            "color": "#2a3f5f"
           }
          },
          "ternary": {
           "aaxis": {
            "gridcolor": "#DFE8F3",
            "linecolor": "#A2B1C6",
            "ticks": ""
           },
           "baxis": {
            "gridcolor": "#DFE8F3",
            "linecolor": "#A2B1C6",
            "ticks": ""
           },
           "bgcolor": "white",
           "caxis": {
            "gridcolor": "#DFE8F3",
            "linecolor": "#A2B1C6",
            "ticks": ""
           }
          },
          "title": {
           "x": 0.05
          },
          "xaxis": {
           "automargin": true,
           "gridcolor": "#EBF0F8",
           "linecolor": "#EBF0F8",
           "ticks": "",
           "title": {
            "standoff": 15
           },
           "zerolinecolor": "#EBF0F8",
           "zerolinewidth": 2
          },
          "yaxis": {
           "automargin": true,
           "gridcolor": "#EBF0F8",
           "linecolor": "#EBF0F8",
           "ticks": "",
           "title": {
            "standoff": 15
           },
           "zerolinecolor": "#EBF0F8",
           "zerolinewidth": 2
          }
         }
        },
        "title": {
         "font": {
          "color": "#2c3e50",
          "family": "Arial Black",
          "size": 20
         },
         "text": "Monthly Revenue, Net Profit & Margin (%) — Jul–Sep 2025",
         "x": 0.5,
         "xanchor": "center"
        },
        "xaxis": {
         "anchor": "y",
         "domain": [
          0,
          0.94
         ],
         "gridcolor": "rgba(200,200,200,0.2)",
         "linecolor": "rgba(100,100,100,0.5)",
         "linewidth": 2,
         "mirror": true,
         "showgrid": true,
         "title": {
          "text": "Period"
         }
        },
        "yaxis": {
         "anchor": "x",
         "domain": [
          0,
          1
         ],
         "gridcolor": "rgba(200,200,200,0.2)",
         "linecolor": "rgba(100,100,100,0.5)",
         "linewidth": 2,
         "mirror": true,
         "showgrid": true,
         "title": {
          "text": "<b>Amount (IDR)</b>"
         }
        },
        "yaxis2": {
         "anchor": "x",
         "linecolor": "#F79F1F",
         "linewidth": 2,
         "mirror": true,
         "overlaying": "y",
         "rangemode": "tozero",
         "showgrid": false,
         "side": "right",
         "title": {
          "text": "<b>Margin (%)</b>"
         }
        }
       }
      },
      "image/png": "[encoded data removed]"
     },
     "metadata": {},
     "output_type": "display_data"
    },
    {
     "name": "stdout",
     "output_type": "stream",
     "text": [
      "\n",
      "Creating Version with Growth Indicators...\n"
     ]
    },
    {
     "data": {
      "application/vnd.plotly.v1+json": {
       "config": {
        "plotlyServerURL": "https://plot.ly"
       },
       "data": [
        {
         "fill": "tozeroy",
         "fillcolor": "rgba(46, 134, 222, 0.1)",
         "hovertemplate": "<b>Revenue</b><br>Period: %{x}<br>Amount: IDR %{y:,.0f}<extra></extra>",
         "line": {
          "color": "#2E86DE",
          "width": 3
         },
         "marker": {
          "color": "#2E86DE",
          "line": {
           "color": "white",
           "width": 2
          },
          "size": 10
         },
         "mode": "lines+markers",
         "name": "Revenue",
         "type": "scatter",
         "x": [
          "Jul 2025",
          "Aug 2025",
          "Sep 2025"
         ],
         "xaxis": "x",
         "y": {
          "bdata": "ICMbFVBVyhKQspAT",
          "dtype": "i4"
         },
         "yaxis": "y"
        },
        {
         "hovertemplate": "<b>Net Profit</b><br>Period: %{x}<br>Amount: IDR %{y:,.0f}<extra></extra>",
         "line": {
          "color": "#10AC84",
          "width": 3
         },
         "marker": {
          "color": [
           "#10AC84",
           "#10AC84",
           "#10AC84"
          ],
          "line": {
           "color": "white",
           "width": 2
          },
          "size": 10
         },
         "mode": "lines+markers",
         "name": "Net Profit",
         "type": "scatter",
         "x": [
          "Jul 2025",
          "Aug 2025",
          "Sep 2025"
         ],
         "xaxis": "x",
         "y": {
          "bdata": "rSByC+pn9QhzTjUK",
          "dtype": "i4"
         },
         "yaxis": "y"
        },
        {
         "hovertemplate": "<b>Margin</b><br>Period: %{x}<br>Percentage: %{y:.1f}%<extra></extra>",
         "line": {
          "color": "#F79F1F",
          "dash": "dash",
          "width": 2
         },
         "marker": {
          "color": "#F79F1F",
          "line": {
           "color": "white",
           "width": 1
          },
          "size": 8,
          "symbol": "diamond"
         },
         "mode": "lines+markers",
         "name": "Margin (%)",
         "type": "scatter",
         "x": [
          "Jul 2025",
          "Aug 2025",
          "Sep 2025"
         ],
         "xaxis": "x",
         "y": {
          "bdata": "Tvj4enQdS0CweIqUnNZHQLHFkINyFkpA",
          "dtype": "f8"
         },
         "yaxis": "y2"
        }
       ],
       "layout": {
        "annotations": [
         {
          "font": {
           "size": 16
          },
          "showarrow": false,
          "text": "P&L Analysis with Growth Indicators",
          "x": 0.47,
          "xanchor": "center",
          "xref": "paper",
          "y": 1,
          "yanchor": "bottom",
          "yref": "paper"
         },
         {
          "arrowcolor": "green",
          "arrowhead": 2,
          "arrowsize": 1,
          "arrowwidth": 2,
          "ax": 0,
          "ay": -40,
          "bgcolor": "rgba(255,255,255,0.9)",
          "borderpad": 3,
          "font": {
           "color": "green",
           "size": 10,
           "weight": "bold"
          },
          "showarrow": true,
          "text": "↑ 4.1%",
          "x": "Sep 2025",
          "y": 328250000
         }
        ],
        "height": 650,
        "hovermode": "x unified",
        "legend": {
         "bgcolor": "rgba(255,255,255,0.9)",
         "bordercolor": "rgba(100,100,100,0.3)",
         "borderwidth": 1,
         "font": {
          "size": 12
         },
         "orientation": "h",
         "x": 0.5,
         "xanchor": "center",
         "y": -0.25,
         "yanchor": "bottom"
        },
        "margin": {
         "b": 100,
         "l": 80,
         "r": 80,
         "t": 100
        },
        "paper_bgcolor": "white",
        "plot_bgcolor": "rgba(250,250,250,0.5)",
        "template": {
         "data": {
          "bar": [
           {
            "error_x": {
             "color": "#2a3f5f"
            },
            "error_y": {
             "color": "#2a3f5f"
            },
            "marker": {
             "line": {
              "color": "white",
              "width": 0.5
             },
             "pattern": {
              "fillmode": "overlay",
              "size": 10,
              "solidity": 0.2
             }
            },
            "type": "bar"
           }
          ],
          "barpolar": [
           {
            "marker": {
             "line": {
              "color": "white",
              "width": 0.5
             },
             "pattern": {
              "fillmode": "overlay",
              "size": 10,
              "solidity": 0.2
             }
            },
            "type": "barpolar"
           }
          ],
          "carpet": [
           {
            "aaxis": {
             "endlinecolor": "#2a3f5f",
             "gridcolor": "#C8D4E3",
             "linecolor": "#C8D4E3",
             "minorgridcolor": "#C8D4E3",
             "startlinecolor": "#2a3f5f"
            },
            "baxis": {
             "endlinecolor": "#2a3f5f",
             "gridcolor": "#C8D4E3",
             "linecolor": "#C8D4E3",
             "minorgridcolor": "#C8D4E3",
             "startlinecolor": "#2a3f5f"
            },
            "type": "carpet"
           }
          ],
          "choropleth": [
           {
            "colorbar": {
             "outlinewidth": 0,
             "ticks": ""
            },
            "type": "choropleth"
           }
          ],
          "contour": [
           {
            "colorbar": {
             "outlinewidth": 0,
             "ticks": ""
            },
            "colorscale": [
             [
              0,
              "#0d0887"
             ],
             [
              0.1111111111111111,
              "#46039f"
             ],
             [
              0.2222222222222222,
              "#7201a8"
             ],
             [
              0.3333333333333333,
              "#9c179e"
             ],
             [
              0.4444444444444444,
              "#bd3786"
             ],
             [
              0.5555555555555556,
              "#d8576b"
             ],
             [
              0.6666666666666666,
              "#ed7953"
             ],
             [
              0.7777777777777778,
              "#fb9f3a"
             ],
             [
              0.8888888888888888,
              "#fdca26"
             ],
             [
              1,
              "#f0f921"
             ]
            ],
            "type": "contour"
           }
          ],
          "contourcarpet": [
           {
            "colorbar": {
             "outlinewidth": 0,
             "ticks": ""
            },
            "type": "contourcarpet"
           }
          ],
          "heatmap": [
           {
            "colorbar": {
             "outlinewidth": 0,
             "ticks": ""
            },
            "colorscale": [
             [
              0,
              "#0d0887"
             ],
             [
              0.1111111111111111,
              "#46039f"
             ],
             [
              0.2222222222222222,
              "#7201a8"
             ],
             [
              0.3333333333333333,
              "#9c179e"
             ],
             [
              0.4444444444444444,
              "#bd3786"
             ],
             [
              0.5555555555555556,
              "#d8576b"
             ],
             [
              0.6666666666666666,
              "#ed7953"
             ],
             [
              0.7777777777777778,
              "#fb9f3a"
             ],
             [
              0.8888888888888888,
              "#fdca26"
             ],
             [
              1,
              "#f0f921"
             ]
            ],
            "type": "heatmap"
           }
          ],
          "histogram": [
           {
            "marker": {
             "pattern": {
              "fillmode": "overlay",
              "size": 10,
              "solidity": 0.2
             }
            },
            "type": "histogram"
           }
          ],
          "histogram2d": [
           {
            "colorbar": {
             "outlinewidth": 0,
             "ticks": ""
            },
            "colorscale": [
             [
              0,
              "#0d0887"
             ],
             [
              0.1111111111111111,
              "#46039f"
             ],
             [
              0.2222222222222222,
              "#7201a8"
             ],
             [
              0.3333333333333333,
              "#9c179e"
             ],
             [
              0.4444444444444444,
              "#bd3786"
             ],
             [
              0.5555555555555556,
              "#d8576b"
             ],
             [
              0.6666666666666666,
              "#ed7953"
             ],
             [
              0.7777777777777778,
              "#fb9f3a"
             ],
             [
              0.8888888888888888,
              "#fdca26"
             ],
             [
              1,
              "#f0f921"
             ]
            ],
            "type": "histogram2d"
           }
          ],
          "histogram2dcontour": [
           {
            "colorbar": {
             "outlinewidth": 0,
             "ticks": ""
            },
            "colorscale": [
             [
              0,
              "#0d0887"
             ],
             [
              0.1111111111111111,
              "#46039f"
             ],
             [
              0.2222222222222222,
              "#7201a8"
             ],
             [
              0.3333333333333333,
              "#9c179e"
             ],
             [
              0.4444444444444444,
              "#bd3786"
             ],
             [
              0.5555555555555556,
              "#d8576b"
             ],
             [
              0.6666666666666666,
              "#ed7953"
             ],
             [
              0.7777777777777778,
              "#fb9f3a"
             ],
             [
              0.8888888888888888,
              "#fdca26"
             ],
             [
              1,
              "#f0f921"
             ]
            ],
            "type": "histogram2dcontour"
           }
          ],
          "mesh3d": [
           {
            "colorbar": {
             "outlinewidth": 0,
             "ticks": ""
            },
            "type": "mesh3d"
           }
          ],
          "parcoords": [
           {
            "line": {
             "colorbar": {
              "outlinewidth": 0,
              "ticks": ""
             }
            },
            "type": "parcoords"
           }
          ],
          "pie": [
           {
            "automargin": true,
            "type": "pie"
           }
          ],
          "scatter": [
           {
            "fillpattern": {
             "fillmode": "overlay",
             "size": 10,
             "solidity": 0.2
            },
            "type": "scatter"
           }
          ],
          "scatter3d": [
           {
            "line": {
             "colorbar": {
              "outlinewidth": 0,
              "ticks": ""
             }
            },
            "marker": {
             "colorbar": {
              "outlinewidth": 0,
              "ticks": ""
             }
            },
            "type": "scatter3d"
           }
          ],
          "scattercarpet": [
           {
            "marker": {
             "colorbar": {
              "outlinewidth": 0,
              "ticks": ""
             }
            },
            "type": "scattercarpet"
           }
          ],
          "scattergeo": [
           {
            "marker": {
             "colorbar": {
              "outlinewidth": 0,
              "ticks": ""
             }
            },
            "type": "scattergeo"
           }
          ],
          "scattergl": [
           {
            "marker": {
             "colorbar": {
              "outlinewidth": 0,
              "ticks": ""
             }
            },
            "type": "scattergl"
           }
          ],
          "scattermap": [
           {
            "marker": {
             "colorbar": {
              "outlinewidth": 0,
              "ticks": ""
             }
            },
            "type": "scattermap"
           }
          ],
          "scattermapbox": [
           {
            "marker": {
             "colorbar": {
              "outlinewidth": 0,
              "ticks": ""
             }
            },
            "type": "scattermapbox"
           }
          ],
          "scatterpolar": [
           {
            "marker": {
             "colorbar": {
              "outlinewidth": 0,
              "ticks": ""
             }
            },
            "type": "scatterpolar"
           }
          ],
          "scatterpolargl": [
           {
            "marker": {
             "colorbar": {
              "outlinewidth": 0,
              "ticks": ""
             }
            },
            "type": "scatterpolargl"
           }
          ],
          "scatterternary": [
           {
            "marker": {
             "colorbar": {
              "outlinewidth": 0,
              "ticks": ""
             }
            },
            "type": "scatterternary"
           }
          ],
          "surface": [
           {
            "colorbar": {
             "outlinewidth": 0,
             "ticks": ""
            },
            "colorscale": [
             [
              0,
              "#0d0887"
             ],
             [
              0.1111111111111111,
              "#46039f"
             ],
             [
              0.2222222222222222,
              "#7201a8"
             ],
             [
              0.3333333333333333,
              "#9c179e"
             ],
             [
              0.4444444444444444,
              "#bd3786"
             ],
             [
              0.5555555555555556,
              "#d8576b"
             ],
             [
              0.6666666666666666,
              "#ed7953"
             ],
             [
              0.7777777777777778,
              "#fb9f3a"
             ],
             [
              0.8888888888888888,
              "#fdca26"
             ],
             [
              1,
              "#f0f921"
             ]
            ],
            "type": "surface"
           }
          ],
          "table": [
           {
            "cells": {
             "fill": {
              "color": "#EBF0F8"
             },
             "line": {
              "color": "white"
             }
            },
            "header": {
             "fill": {
              "color": "#C8D4E3"
             },
             "line": {
              "color": "white"
             }
            },
            "type": "table"
           }
          ]
         },
         "layout": {
          "annotationdefaults": {
           "arrowcolor": "#2a3f5f",
           "arrowhead": 0,
           "arrowwidth": 1
          },
          "autotypenumbers": "strict",
          "coloraxis": {
           "colorbar": {
            "outlinewidth": 0,
            "ticks": ""
           }
          },
          "colorscale": {
           "diverging": [
            [
             0,
             "#8e0152"
            ],
            [
             0.1,
             "#c51b7d"
            ],
            [
             0.2,
             "#de77ae"
            ],
            [
             0.3,
             "#f1b6da"
            ],
            [
             0.4,
             "#fde0ef"
            ],
            [
             0.5,
             "#f7f7f7"
            ],
            [
             0.6,
             "#e6f5d0"
            ],
            [
             0.7,
             "#b8e186"
            ],
            [
             0.8,
             "#7fbc41"
            ],
            [
             0.9,
             "#4d9221"
            ],
            [
             1,
             "#276419"
            ]
           ],
           "sequential": [
            [
             0,
             "#0d0887"
            ],
            [
             0.1111111111111111,
             "#46039f"
            ],
            [
             0.2222222222222222,
             "#7201a8"
            ],
            [
             0.3333333333333333,
             "#9c179e"
            ],
            [
             0.4444444444444444,
             "#bd3786"
            ],
            [
             0.5555555555555556,
             "#d8576b"
            ],
            [
             0.6666666666666666,
             "#ed7953"
            ],
            [
             0.7777777777777778,
             "#fb9f3a"
            ],
            [
             0.8888888888888888,
             "#fdca26"
            ],
            [
             1,
             "#f0f921"
            ]
           ],
           "sequentialminus": [
            [
             0,
             "#0d0887"
            ],
            [
             0.1111111111111111,
             "#46039f"
            ],
            [
             0.2222222222222222,
             "#7201a8"
            ],
            [
             0.3333333333333333,
             "#9c179e"
            ],
            [
             0.4444444444444444,
             "#bd3786"
            ],
            [
             0.5555555555555556,
             "#d8576b"
            ],
            [
             0.6666666666666666,
             "#ed7953"
            ],
            [
             0.7777777777777778,
             "#fb9f3a"
            ],
            [
             0.8888888888888888,
             "#fdca26"
            ],
            [
             1,
             "#f0f921"
            ]
           ]
          },
          "colorway": [
           "#636efa",
           "#EF553B",
           "#00cc96",
           "#ab63fa",
           "#FFA15A",
           "#19d3f3",
           "#FF6692",
           "#B6E880",
           "#FF97FF",
           "#FECB52"
          ],
          "font": {
           "color": "#2a3f5f"
          },
          "geo": {
           "bgcolor": "white",
           "lakecolor": "white",
           "landcolor": "white",
           "showlakes": true,
           "showland": true,
           "subunitcolor": "#C8D4E3"
          },
          "hoverlabel": {
           "align": "left"
          },
          "hovermode": "closest",
          "mapbox": {
           "style": "light"
          },
          "paper_bgcolor": "white",
          "plot_bgcolor": "white",
          "polar": {
           "angularaxis": {
            "gridcolor": "#EBF0F8",
            "linecolor": "#EBF0F8",
            "ticks": ""
           },
           "bgcolor": "white",
           "radialaxis": {
            "gridcolor": "#EBF0F8",
            "linecolor": "#EBF0F8",
            "ticks": ""
           }
          },
          "scene": {
           "xaxis": {
            "backgroundcolor": "white",
            "gridcolor": "#DFE8F3",
            "gridwidth": 2,
            "linecolor": "#EBF0F8",
            "showbackground": true,
            "ticks": "",
            "zerolinecolor": "#EBF0F8"
           },
           "yaxis": {
            "backgroundcolor": "white",
            "gridcolor": "#DFE8F3",
            "gridwidth": 2,
            "linecolor": "#EBF0F8",
            "showbackground": true,
            "ticks": "",
            "zerolinecolor": "#EBF0F8"
           },
           "zaxis": {
            "backgroundcolor": "white",
            "gridcolor": "#DFE8F3",
            "gridwidth": 2,
            "linecolor": "#EBF0F8",
            "showbackground": true,
            "ticks": "",
            "zerolinecolor": "#EBF0F8"
           }
          },
          "shapedefaults": {
           "line": {
            "color": "#2a3f5f"
           }
          },
          "ternary": {
           "aaxis": {
            "gridcolor": "#DFE8F3",
            "linecolor": "#A2B1C6",
            "ticks": ""
           },
           "baxis": {
            "gridcolor": "#DFE8F3",
            "linecolor": "#A2B1C6",
            "ticks": ""
           },
           "bgcolor": "white",
           "caxis": {
            "gridcolor": "#DFE8F3",
            "linecolor": "#A2B1C6",
            "ticks": ""
           }
          },
          "title": {
           "x": 0.05
          },
          "xaxis": {
           "automargin": true,
           "gridcolor": "#EBF0F8",
           "linecolor": "#EBF0F8",
           "ticks": "",
           "title": {
            "standoff": 15
           },
           "zerolinecolor": "#EBF0F8",
           "zerolinewidth": 2
          },
          "yaxis": {
           "automargin": true,
           "gridcolor": "#EBF0F8",
           "linecolor": "#EBF0F8",
           "ticks": "",
           "title": {
            "standoff": 15
           },
           "zerolinecolor": "#EBF0F8",
           "zerolinewidth": 2
          }
         }
        },
        "title": {
         "font": {
          "color": "#2c3e50",
          "family": "Arial Black",
          "size": 20
         },
         "text": "P&L Analysis with Growth Indicators",
         "x": 0.5,
         "xanchor": "center"
        },
        "xaxis": {
         "anchor": "y",
         "domain": [
          0,
          0.94
         ],
         "gridcolor": "rgba(200,200,200,0.2)",
         "linecolor": "rgba(100,100,100,0.5)",
         "linewidth": 2,
         "mirror": true,
         "showgrid": true,
         "title": {
          "text": "Period"
         }
        },
        "yaxis": {
         "anchor": "x",
         "domain": [
          0,
          1
         ],
         "gridcolor": "rgba(200,200,200,0.2)",
         "linecolor": "rgba(100,100,100,0.5)",
         "linewidth": 2,
         "mirror": true,
         "showgrid": true,
         "title": {
          "text": "<b>Amount (IDR)</b>"
         }
        },
        "yaxis2": {
         "anchor": "x",
         "linecolor": "#F79F1F",
         "linewidth": 2,
         "mirror": true,
         "overlaying": "y",
         "rangemode": "tozero",
         "showgrid": false,
         "side": "right",
         "title": {
          "text": "<b>Margin (%)</b>"
         }
        }
       }
      },
      "image/png": "[encoded data removed]"
     },
     "metadata": {},
     "output_type": "display_data"
    }
   ],
   "source": [
    "import plotly.graph_objects as go\n",
    "import pandas as pd\n",
    "import numpy as np\n",
    "\n",
    "# ============================================================\n",
    "# FIXED VERSION - Original Code with Error Corrections\n",
    "# ============================================================\n",
    "\n",
    "def create_pnl_chart_fixed(pnl_df):\n",
    "    \"\"\"\n",
    "    Fixed version of the original chart\n",
    "    Handles missing columns and data type issues\n",
    "    \"\"\"\n",
    "    # Validate required columns\n",
    "    required_cols = ['Period', 'Revenue', 'Net Profit']\n",
    "    missing_cols = [col for col in required_cols if col not in pnl_df.columns]\n",
    "    \n",
    "    if missing_cols:\n",
    "        raise ValueError(f\"Missing required columns: {missing_cols}\")\n",
    "    \n",
    "    # Create figure\n",
    "    fig = go.Figure()\n",
    "    \n",
    "    # Add Revenue trace\n",
    "    fig.add_trace(go.Scatter(\n",
    "        x=pnl_df['Period'],\n",
    "        y=pnl_df['Revenue'],\n",
    "        mode='lines+markers+text',\n",
    "        name='Revenue',\n",
    "        text=[f\"{val:,.0f}\" for val in pnl_df['Revenue']],\n",
    "        textposition=\"top center\",\n",
    "        textfont=dict(size=10),\n",
    "        line=dict(color='#1f77b4', width=3),\n",
    "        marker=dict(size=8),\n",
    "        hovertemplate='<b>Revenue</b><br>Period: %{x}<br>Amount: IDR %{y:,.0f}<extra></extra>'\n",
    "    ))\n",
    "    \n",
    "    # Add Net Profit trace\n",
    "    fig.add_trace(go.Scatter(\n",
    "        x=pnl_df['Period'],\n",
    "        y=pnl_df['Net Profit'],\n",
    "        mode='lines+markers+text',\n",
    "        name='Net Profit',\n",
    "        text=[f\"{val:,.0f}\" for val in pnl_df['Net Profit']],\n",
    "        textposition=\"bottom center\",\n",
    "        textfont=dict(size=10),\n",
    "        line=dict(color='#2ca02c', width=3),\n",
    "        marker=dict(size=8),\n",
    "        hovertemplate='<b>Net Profit</b><br>Period: %{x}<br>Amount: IDR %{y:,.0f}<extra></extra>'\n",
    "    ))\n",
    "    \n",
    "    # Add Margin (%) on right axis if available\n",
    "    if 'Margin (%)' in pnl_df.columns:\n",
    "        fig.add_trace(go.Scatter(\n",
    "            x=pnl_df['Period'],\n",
    "            y=pnl_df['Margin (%)'],\n",
    "            mode='lines+markers+text',\n",
    "            name='Margin (%)',\n",
    "            text=[f\"{val:.1f}%\" for val in pnl_df['Margin (%)']],\n",
    "            textposition=\"top right\",\n",
    "            textfont=dict(size=10),\n",
    "            line=dict(color='#ff7f0e', width=2, dash='dot'),\n",
    "            marker=dict(size=7),\n",
    "            yaxis='y2',\n",
    "            hovertemplate='<b>Margin</b><br>Period: %{x}<br>Percentage: %{y:.1f}%<extra></extra>'\n",
    "        ))\n",
    "    \n",
    "    # Layout & Design\n",
    "    fig.update_layout(\n",
    "        title=dict(\n",
    "            text=\"Monthly Revenue, Net Profit & Margin (%) — Jul–Sep 2025\",\n",
    "            x=0.5,\n",
    "            xanchor='center',\n",
    "            font=dict(size=18, color='#333')\n",
    "        ),\n",
    "        xaxis=dict(\n",
    "            title='Period',\n",
    "            showgrid=True,\n",
    "            gridcolor='rgba(200,200,200,0.3)'\n",
    "        ),\n",
    "        yaxis=dict(\n",
    "            title='Amount (IDR)',\n",
    "            showgrid=True,\n",
    "            zeroline=False,\n",
    "            gridcolor='rgba(200,200,200,0.3)'\n",
    "        ),\n",
    "        yaxis2=dict(\n",
    "            title='Margin (%)',\n",
    "            overlaying='y',\n",
    "            side='right',\n",
    "            showgrid=False,\n",
    "            tickfont=dict(color='#ff7f0e'),\n",
    "            # titlefont=dict(color='#ff7f0e'),\n",
    "            rangemode='tozero'\n",
    "        ),\n",
    "        legend=dict(\n",
    "            orientation='h',\n",
    "            yanchor='bottom',\n",
    "            y=-0.2,\n",
    "            xanchor='center',\n",
    "            x=0.5,\n",
    "            bgcolor='rgba(255,255,255,0.8)'\n",
    "        ),\n",
    "        template='plotly_white',\n",
    "        hovermode='x unified',\n",
    "        height=600\n",
    "    )\n",
    "    \n",
    "    return fig\n",
    "\n",
    "\n",
    "# ============================================================\n",
    "# IMPROVED VERSION - Enhanced with More Features\n",
    "# ============================================================\n",
    "\n",
    "def create_pnl_chart_improved(pnl_df, title=None, show_annotations=True):\n",
    "    \"\"\"\n",
    "    Improved version with enhanced features:\n",
    "    - Better color scheme\n",
    "    - Enhanced interactivity\n",
    "    - Conditional formatting\n",
    "    - Better layout\n",
    "    - Growth indicators\n",
    "    \"\"\"\n",
    "    # Validate data\n",
    "    required_cols = ['Period', 'Revenue', 'Net Profit']\n",
    "    missing_cols = [col for col in required_cols if col not in pnl_df.columns]\n",
    "    \n",
    "    if missing_cols:\n",
    "        raise ValueError(f\"Missing required columns: {missing_cols}\")\n",
    "    \n",
    "    # Create figure with secondary y-axis\n",
    "    from plotly.subplots import make_subplots\n",
    "    \n",
    "    fig = make_subplots(\n",
    "        specs=[[{\"secondary_y\": True}]],\n",
    "        subplot_titles=[\"\"] if not title else [title]\n",
    "    )\n",
    "    \n",
    "    # Enhanced color scheme\n",
    "    colors = {\n",
    "        'revenue': '#2E86DE',      # Professional blue\n",
    "        'profit': '#10AC84',       # Green for profit\n",
    "        'loss': '#EE5A6F',         # Red for loss\n",
    "        'margin': '#F79F1F',       # Orange for margin\n",
    "        'grid': 'rgba(200,200,200,0.2)'\n",
    "    }\n",
    "    \n",
    "    # Add Revenue trace with gradient fill\n",
    "    fig.add_trace(\n",
    "        go.Scatter(\n",
    "            x=pnl_df['Period'],\n",
    "            y=pnl_df['Revenue'],\n",
    "            mode='lines+markers',\n",
    "            name='Revenue',\n",
    "            line=dict(color=colors['revenue'], width=3),\n",
    "            marker=dict(\n",
    "                size=10,\n",
    "                color=colors['revenue'],\n",
    "                line=dict(color='white', width=2)\n",
    "            ),\n",
    "            fill='tozeroy',\n",
    "            fillcolor=f\"rgba(46, 134, 222, 0.1)\",\n",
    "            hovertemplate='<b>Revenue</b><br>Period: %{x}<br>Amount: IDR %{y:,.0f}<extra></extra>'\n",
    "        ),\n",
    "        secondary_y=False\n",
    "    )\n",
    "    \n",
    "    # Add Net Profit trace with conditional colors (green for profit, red for loss)\n",
    "    profit_colors = [colors['profit'] if p >= 0 else colors['loss'] for p in pnl_df['Net Profit']]\n",
    "    \n",
    "    fig.add_trace(\n",
    "        go.Scatter(\n",
    "            x=pnl_df['Period'],\n",
    "            y=pnl_df['Net Profit'],\n",
    "            mode='lines+markers',\n",
    "            name='Net Profit',\n",
    "            line=dict(color=colors['profit'], width=3),\n",
    "            marker=dict(\n",
    "                size=10,\n",
    "                color=profit_colors,\n",
    "                line=dict(color='white', width=2)\n",
    "            ),\n",
    "            hovertemplate='<b>Net Profit</b><br>Period: %{x}<br>Amount: IDR %{y:,.0f}<extra></extra>'\n",
    "        ),\n",
    "        secondary_y=False\n",
    "    )\n",
    "    \n",
    "    # Add Margin (%) on secondary axis\n",
    "    if 'Margin (%)' in pnl_df.columns:\n",
    "        fig.add_trace(\n",
    "            go.Scatter(\n",
    "                x=pnl_df['Period'],\n",
    "                y=pnl_df['Margin (%)'],\n",
    "                mode='lines+markers',\n",
    "                name='Margin (%)',\n",
    "                line=dict(color=colors['margin'], width=2, dash='dash'),\n",
    "                marker=dict(\n",
    "                    size=8,\n",
    "                    color=colors['margin'],\n",
    "                    symbol='diamond',\n",
    "                    line=dict(color='white', width=1)\n",
    "                ),\n",
    "                hovertemplate='<b>Margin</b><br>Period: %{x}<br>Percentage: %{y:.1f}%<extra></extra>'\n",
    "            ),\n",
    "            secondary_y=True\n",
    "        )\n",
    "    \n",
    "    # Add annotations for text labels if enabled\n",
    "    if show_annotations:\n",
    "        annotations = []\n",
    "        \n",
    "        # Revenue annotations\n",
    "        for i, row in pnl_df.iterrows():\n",
    "            # Revenue label\n",
    "            annotations.append(\n",
    "                dict(\n",
    "                    x=row['Period'],\n",
    "                    y=row['Revenue'],\n",
    "                    text=f\"IDR {row['Revenue']:,.0f}\",\n",
    "                    showarrow=False,\n",
    "                    yshift=15,\n",
    "                    font=dict(size=9, color=colors['revenue'], weight='bold'),\n",
    "                    bgcolor='rgba(255,255,255,0.8)',\n",
    "                    borderpad=2\n",
    "                )\n",
    "            )\n",
    "            \n",
    "            # Net Profit label\n",
    "            annotations.append(\n",
    "                dict(\n",
    "                    x=row['Period'],\n",
    "                    y=row['Net Profit'],\n",
    "                    text=f\"IDR {row['Net Profit']:,.0f}\",\n",
    "                    showarrow=False,\n",
    "                    yshift=-15,\n",
    "                    font=dict(\n",
    "                        size=9,\n",
    "                        color=colors['profit'] if row['Net Profit'] >= 0 else colors['loss'],\n",
    "                        weight='bold'\n",
    "                    ),\n",
    "                    bgcolor='rgba(255,255,255,0.8)',\n",
    "                    borderpad=2\n",
    "                )\n",
    "            )\n",
    "            \n",
    "            # Margin label (if available)\n",
    "            if 'Margin (%)' in pnl_df.columns:\n",
    "                annotations.append(\n",
    "                    dict(\n",
    "                        x=row['Period'],\n",
    "                        y=row['Margin (%)'],\n",
    "                        text=f\"{row['Margin (%)']:.1f}%\",\n",
    "                        showarrow=False,\n",
    "                        xshift=25,\n",
    "                        yshift=5,\n",
    "                        font=dict(size=9, color=colors['margin'], weight='bold'),\n",
    "                        bgcolor='rgba(255,255,255,0.8)',\n",
    "                        borderpad=2,\n",
    "                        yref='y2'\n",
    "                    )\n",
    "                )\n",
    "        \n",
    "        fig.update_layout(annotations=annotations)\n",
    "    \n",
    "    # Update axes\n",
    "    fig.update_xaxes(\n",
    "        title_text=\"Period\",\n",
    "        showgrid=True,\n",
    "        gridcolor=colors['grid'],\n",
    "        linecolor='rgba(100,100,100,0.5)',\n",
    "        linewidth=2,\n",
    "        mirror=True\n",
    "    )\n",
    "    \n",
    "    fig.update_yaxes(\n",
    "        title_text=\"<b>Amount (IDR)</b>\",\n",
    "        showgrid=True,\n",
    "        gridcolor=colors['grid'],\n",
    "        linecolor='rgba(100,100,100,0.5)',\n",
    "        linewidth=2,\n",
    "        mirror=True,\n",
    "        secondary_y=False\n",
    "    )\n",
    "    \n",
    "    fig.update_yaxes(\n",
    "        title_text=\"<b>Margin (%)</b>\",\n",
    "        showgrid=False,\n",
    "        linecolor=colors['margin'],\n",
    "        linewidth=2,\n",
    "        mirror=True,\n",
    "        rangemode='tozero',\n",
    "        secondary_y=True\n",
    "    )\n",
    "    \n",
    "    # Update layout\n",
    "    fig.update_layout(\n",
    "        title=dict(\n",
    "            text=title or \"Monthly Revenue, Net Profit & Margin Analysis\",\n",
    "            x=0.5,\n",
    "            xanchor='center',\n",
    "            font=dict(size=20, color='#2c3e50', family='Arial Black')\n",
    "        ),\n",
    "        legend=dict(\n",
    "            orientation='h',\n",
    "            yanchor='bottom',\n",
    "            y=-0.25,\n",
    "            xanchor='center',\n",
    "            x=0.5,\n",
    "            bgcolor='rgba(255,255,255,0.9)',\n",
    "            bordercolor='rgba(100,100,100,0.3)',\n",
    "            borderwidth=1,\n",
    "            font=dict(size=12)\n",
    "        ),\n",
    "        template='plotly_white',\n",
    "        hovermode='x unified',\n",
    "        height=650,\n",
    "        plot_bgcolor='rgba(250,250,250,0.5)',\n",
    "        paper_bgcolor='white',\n",
    "        margin=dict(l=80, r=80, t=100, b=100)\n",
    "    )\n",
    "    \n",
    "    return fig\n",
    "\n",
    "\n",
    "# ============================================================\n",
    "# EXAMPLE USAGE WITH SAMPLE DATA\n",
    "# ============================================================\n",
    "# Display both versions\n",
    "print(\"Creating Fixed Version...\")\n",
    "fig_fixed = create_pnl_chart_fixed(pnl_df)\n",
    "fig_fixed.show()\n",
    "\n",
    "print(\"\\nCreating Improved Version...\")\n",
    "fig_improved = create_pnl_chart_improved(\n",
    "    pnl_df, \n",
    "    title=\"Monthly Revenue, Net Profit & Margin (%) — Jul–Sep 2025\",\n",
    "    show_annotations=True\n",
    ")\n",
    "fig_improved.show()\n",
    "\n",
    "# ============================================================\n",
    "# ADDITIONAL IMPROVEMENTS: Growth Rate Indicators\n",
    "# ============================================================\n",
    "\n",
    "def create_pnl_chart_with_growth(pnl_df, title=None):\n",
    "    \"\"\"\n",
    "    Version with growth rate indicators\n",
    "    \"\"\"\n",
    "    # Calculate growth rates\n",
    "    pnl_df = pnl_df.copy()\n",
    "    pnl_df['Revenue_Growth'] = pnl_df['Revenue'].pct_change() * 100\n",
    "    pnl_df['Profit_Growth'] = pnl_df['Net Profit'].pct_change() * 100\n",
    "    \n",
    "    # Create the improved chart\n",
    "    fig = create_pnl_chart_improved(pnl_df, title, show_annotations=False)\n",
    "    \n",
    "    # Add growth rate annotations\n",
    "    annotations = []\n",
    "    for i in range(1, len(pnl_df)):\n",
    "        row = pnl_df.iloc[i]\n",
    "        prev_row = pnl_df.iloc[i-1]\n",
    "        \n",
    "        # Revenue growth indicator\n",
    "        growth = row['Revenue_Growth']\n",
    "        arrow = \"↑\" if growth > 0 else \"↓\"\n",
    "        color = \"green\" if growth > 0 else \"red\"\n",
    "        \n",
    "        annotations.append(\n",
    "            dict(\n",
    "                x=row['Period'],\n",
    "                y=row['Revenue'],\n",
    "                text=f\"{arrow} {abs(growth):.1f}%\",\n",
    "                showarrow=True,\n",
    "                arrowhead=2,\n",
    "                arrowsize=1,\n",
    "                arrowwidth=2,\n",
    "                arrowcolor=color,\n",
    "                ax=0,\n",
    "                ay=-40,\n",
    "                font=dict(size=10, color=color, weight='bold'),\n",
    "                bgcolor='rgba(255,255,255,0.9)',\n",
    "                borderpad=3\n",
    "            )\n",
    "        )\n",
    "    \n",
    "    fig.update_layout(annotations=annotations)\n",
    "    \n",
    "    return fig\n",
    "\n",
    "# Example with growth indicators\n",
    "print(\"\\nCreating Version with Growth Indicators...\")\n",
    "fig_growth = create_pnl_chart_with_growth(pnl_df, title=\"P&L Analysis with Growth Indicators\")\n",
    "fig_growth.show()"
   ]
  }
 ],
 "metadata": {
  "kernelspec": {
   "display_name": "Python (machine-learning)",
   "language": "python",
   "name": "machine-learning"
  },
  "language_info": {
   "codemirror_mode": {
    "name": "ipython",
    "version": 3
   },
   "file_extension": ".py",
   "mimetype": "text/x-python",
   "name": "python",
   "nbconvert_exporter": "python",
   "pygments_lexer": "ipython3",
   "version": "3.10.11"
  }
 },
 "nbformat": 4,
 "nbformat_minor": 5
}
